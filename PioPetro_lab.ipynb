{
  "nbformat": 4,
  "nbformat_minor": 0,
  "metadata": {
    "colab": {
      "name": "PioPetro_lab.ipynb",
      "provenance": [],
      "collapsed_sections": [
        "EaElU8LvEL2m"
      ],
      "authorship_tag": "ABX9TyNl+03N+qt11Mp+ST+0RIjY",
      "include_colab_link": true
    },
    "kernelspec": {
      "display_name": "Python 3",
      "name": "python3"
    }
  },
  "cells": [
    {
      "cell_type": "markdown",
      "metadata": {
        "id": "view-in-github",
        "colab_type": "text"
      },
      "source": [
        "<a href=\"https://colab.research.google.com/github/sofiane1987/Logging-Data-Visualization/blob/main/PioPetro_lab.ipynb\" target=\"_parent\"><img src=\"https://colab.research.google.com/assets/colab-badge.svg\" alt=\"Open In Colab\"/></a>"
      ]
    },
    {
      "cell_type": "code",
      "metadata": {
        "colab": {
          "base_uri": "https://localhost:8080/"
        },
        "id": "fUjMVut4Wbea",
        "outputId": "9517b4b7-4cb7-4f5d-cdc2-e6ba47f108f8"
      },
      "source": [
        "print('Hello World')"
      ],
      "execution_count": null,
      "outputs": [
        {
          "output_type": "stream",
          "text": [
            "Hello World\n"
          ],
          "name": "stdout"
        }
      ]
    },
    {
      "cell_type": "markdown",
      "metadata": {
        "id": "c-yEpBeGEA8S"
      },
      "source": [
        "# Nouvelle section"
      ]
    },
    {
      "cell_type": "code",
      "metadata": {
        "id": "k65-T-TpWl4a"
      },
      "source": [
        "import pandas as pd\n",
        "import numpy as np\n",
        "import matplotlib.pyplot as plt \n",
        "import seaborn as sns\n",
        "import missingno as msno\n"
      ],
      "execution_count": null,
      "outputs": []
    },
    {
      "cell_type": "code",
      "metadata": {
        "id": "Muas39xafsCL"
      },
      "source": [
        "file = \"http://bit.ly/piopetro-data1\""
      ],
      "execution_count": null,
      "outputs": []
    },
    {
      "cell_type": "code",
      "metadata": {
        "id": "SwzeXK6-ft8d"
      },
      "source": [
        "df = pd.read_csv(file)"
      ],
      "execution_count": null,
      "outputs": []
    },
    {
      "cell_type": "code",
      "metadata": {
        "colab": {
          "base_uri": "https://localhost:8080/",
          "height": 314
        },
        "id": "ZEFU7Yj-f9hA",
        "outputId": "0972db9a-c25d-4c26-c628-800a37c81d48"
      },
      "source": [
        "df.describe()"
      ],
      "execution_count": null,
      "outputs": [
        {
          "output_type": "execute_result",
          "data": {
            "text/html": [
              "<div>\n",
              "<style scoped>\n",
              "    .dataframe tbody tr th:only-of-type {\n",
              "        vertical-align: middle;\n",
              "    }\n",
              "\n",
              "    .dataframe tbody tr th {\n",
              "        vertical-align: top;\n",
              "    }\n",
              "\n",
              "    .dataframe thead th {\n",
              "        text-align: right;\n",
              "    }\n",
              "</style>\n",
              "<table border=\"1\" class=\"dataframe\">\n",
              "  <thead>\n",
              "    <tr style=\"text-align: right;\">\n",
              "      <th></th>\n",
              "      <th>ON_STREAM_HRS</th>\n",
              "      <th>AVG_DOWNHOLE_PRESSURE</th>\n",
              "      <th>AVG_DOWNHOLE_TEMPERATURE</th>\n",
              "      <th>AVG_DP_TUBING</th>\n",
              "      <th>AVG_ANNULUS_PRESS</th>\n",
              "      <th>AVG_CHOKE_SIZE_P</th>\n",
              "      <th>AVG_WHP_P</th>\n",
              "      <th>AVG_WHT_P</th>\n",
              "      <th>DP_CHOKE_SIZE</th>\n",
              "      <th>BORE_OIL_VOL</th>\n",
              "      <th>BORE_GAS_VOL</th>\n",
              "      <th>BORE_WAT_VOL</th>\n",
              "      <th>BORE_WI_VOL</th>\n",
              "    </tr>\n",
              "  </thead>\n",
              "  <tbody>\n",
              "    <tr>\n",
              "      <th>count</th>\n",
              "      <td>15349.000000</td>\n",
              "      <td>8980.000000</td>\n",
              "      <td>8980.000000</td>\n",
              "      <td>8980.000000</td>\n",
              "      <td>7890.000000</td>\n",
              "      <td>8919.000000</td>\n",
              "      <td>9155.000000</td>\n",
              "      <td>9146.00000</td>\n",
              "      <td>15340.000000</td>\n",
              "      <td>9161.000000</td>\n",
              "      <td>9161.000000</td>\n",
              "      <td>9161.000000</td>\n",
              "      <td>5706.000000</td>\n",
              "    </tr>\n",
              "    <tr>\n",
              "      <th>mean</th>\n",
              "      <td>19.994172</td>\n",
              "      <td>181.803870</td>\n",
              "      <td>77.162970</td>\n",
              "      <td>154.028791</td>\n",
              "      <td>14.856100</td>\n",
              "      <td>55.168534</td>\n",
              "      <td>45.377815</td>\n",
              "      <td>67.72844</td>\n",
              "      <td>11.441063</td>\n",
              "      <td>1095.638031</td>\n",
              "      <td>161049.063094</td>\n",
              "      <td>1672.152931</td>\n",
              "      <td>5315.479145</td>\n",
              "    </tr>\n",
              "    <tr>\n",
              "      <th>std</th>\n",
              "      <td>8.369911</td>\n",
              "      <td>109.712365</td>\n",
              "      <td>45.657949</td>\n",
              "      <td>76.752381</td>\n",
              "      <td>8.406821</td>\n",
              "      <td>36.692924</td>\n",
              "      <td>24.752635</td>\n",
              "      <td>27.71903</td>\n",
              "      <td>19.816930</td>\n",
              "      <td>1323.541545</td>\n",
              "      <td>188136.409296</td>\n",
              "      <td>1706.980951</td>\n",
              "      <td>2181.487231</td>\n",
              "    </tr>\n",
              "    <tr>\n",
              "      <th>min</th>\n",
              "      <td>0.000000</td>\n",
              "      <td>0.000000</td>\n",
              "      <td>0.000000</td>\n",
              "      <td>0.000000</td>\n",
              "      <td>0.000000</td>\n",
              "      <td>0.000000</td>\n",
              "      <td>0.000000</td>\n",
              "      <td>0.00000</td>\n",
              "      <td>0.000000</td>\n",
              "      <td>0.000000</td>\n",
              "      <td>0.000000</td>\n",
              "      <td>-458.000000</td>\n",
              "      <td>0.000000</td>\n",
              "    </tr>\n",
              "    <tr>\n",
              "      <th>25%</th>\n",
              "      <td>24.000000</td>\n",
              "      <td>0.000000</td>\n",
              "      <td>0.000000</td>\n",
              "      <td>83.665000</td>\n",
              "      <td>10.841250</td>\n",
              "      <td>18.952990</td>\n",
              "      <td>31.148000</td>\n",
              "      <td>56.57775</td>\n",
              "      <td>0.000000</td>\n",
              "      <td>191.000000</td>\n",
              "      <td>29431.000000</td>\n",
              "      <td>20.000000</td>\n",
              "      <td>4338.250000</td>\n",
              "    </tr>\n",
              "    <tr>\n",
              "      <th>50%</th>\n",
              "      <td>24.000000</td>\n",
              "      <td>232.897000</td>\n",
              "      <td>103.186500</td>\n",
              "      <td>175.589000</td>\n",
              "      <td>16.308500</td>\n",
              "      <td>52.096880</td>\n",
              "      <td>37.934000</td>\n",
              "      <td>80.07150</td>\n",
              "      <td>2.385000</td>\n",
              "      <td>558.000000</td>\n",
              "      <td>87750.000000</td>\n",
              "      <td>1098.000000</td>\n",
              "      <td>5504.500000</td>\n",
              "    </tr>\n",
              "    <tr>\n",
              "      <th>75%</th>\n",
              "      <td>24.000000</td>\n",
              "      <td>255.401250</td>\n",
              "      <td>106.277000</td>\n",
              "      <td>204.320000</td>\n",
              "      <td>21.306500</td>\n",
              "      <td>99.924290</td>\n",
              "      <td>57.101500</td>\n",
              "      <td>88.06200</td>\n",
              "      <td>13.765250</td>\n",
              "      <td>1345.000000</td>\n",
              "      <td>202482.000000</td>\n",
              "      <td>3261.000000</td>\n",
              "      <td>6780.750000</td>\n",
              "    </tr>\n",
              "    <tr>\n",
              "      <th>max</th>\n",
              "      <td>25.000000</td>\n",
              "      <td>397.589000</td>\n",
              "      <td>108.502000</td>\n",
              "      <td>345.907000</td>\n",
              "      <td>30.020000</td>\n",
              "      <td>100.000000</td>\n",
              "      <td>137.311000</td>\n",
              "      <td>93.51000</td>\n",
              "      <td>125.719000</td>\n",
              "      <td>5902.000000</td>\n",
              "      <td>851132.000000</td>\n",
              "      <td>8020.000000</td>\n",
              "      <td>10014.000000</td>\n",
              "    </tr>\n",
              "  </tbody>\n",
              "</table>\n",
              "</div>"
            ],
            "text/plain": [
              "       ON_STREAM_HRS  AVG_DOWNHOLE_PRESSURE  ...  BORE_WAT_VOL   BORE_WI_VOL\n",
              "count   15349.000000            8980.000000  ...   9161.000000   5706.000000\n",
              "mean       19.994172             181.803870  ...   1672.152931   5315.479145\n",
              "std         8.369911             109.712365  ...   1706.980951   2181.487231\n",
              "min         0.000000               0.000000  ...   -458.000000      0.000000\n",
              "25%        24.000000               0.000000  ...     20.000000   4338.250000\n",
              "50%        24.000000             232.897000  ...   1098.000000   5504.500000\n",
              "75%        24.000000             255.401250  ...   3261.000000   6780.750000\n",
              "max        25.000000             397.589000  ...   8020.000000  10014.000000\n",
              "\n",
              "[8 rows x 13 columns]"
            ]
          },
          "metadata": {
            "tags": []
          },
          "execution_count": 41
        }
      ]
    },
    {
      "cell_type": "code",
      "metadata": {
        "colab": {
          "base_uri": "https://localhost:8080/",
          "height": 549
        },
        "id": "XOz-t98Of-Ag",
        "outputId": "3913f124-963b-4ae8-9f9c-0f3b9004f779"
      },
      "source": [
        " df.head(10)"
      ],
      "execution_count": null,
      "outputs": [
        {
          "output_type": "execute_result",
          "data": {
            "text/html": [
              "<div>\n",
              "<style scoped>\n",
              "    .dataframe tbody tr th:only-of-type {\n",
              "        vertical-align: middle;\n",
              "    }\n",
              "\n",
              "    .dataframe tbody tr th {\n",
              "        vertical-align: top;\n",
              "    }\n",
              "\n",
              "    .dataframe thead th {\n",
              "        text-align: right;\n",
              "    }\n",
              "</style>\n",
              "<table border=\"1\" class=\"dataframe\">\n",
              "  <thead>\n",
              "    <tr style=\"text-align: right;\">\n",
              "      <th></th>\n",
              "      <th>DATEPRD</th>\n",
              "      <th>NPD_WELL_BORE_NAME</th>\n",
              "      <th>ON_STREAM_HRS</th>\n",
              "      <th>AVG_DOWNHOLE_PRESSURE</th>\n",
              "      <th>AVG_DOWNHOLE_TEMPERATURE</th>\n",
              "      <th>AVG_DP_TUBING</th>\n",
              "      <th>AVG_ANNULUS_PRESS</th>\n",
              "      <th>AVG_CHOKE_SIZE_P</th>\n",
              "      <th>AVG_WHP_P</th>\n",
              "      <th>AVG_WHT_P</th>\n",
              "      <th>DP_CHOKE_SIZE</th>\n",
              "      <th>BORE_OIL_VOL</th>\n",
              "      <th>BORE_GAS_VOL</th>\n",
              "      <th>BORE_WAT_VOL</th>\n",
              "      <th>BORE_WI_VOL</th>\n",
              "      <th>FLOW_KIND</th>\n",
              "    </tr>\n",
              "  </thead>\n",
              "  <tbody>\n",
              "    <tr>\n",
              "      <th>0</th>\n",
              "      <td>07-Apr-14</td>\n",
              "      <td>15/9-F-1 C</td>\n",
              "      <td>0.0</td>\n",
              "      <td>0.000</td>\n",
              "      <td>0.000</td>\n",
              "      <td>0.000</td>\n",
              "      <td>0.0</td>\n",
              "      <td>0.00000</td>\n",
              "      <td>0.000</td>\n",
              "      <td>0.000</td>\n",
              "      <td>0.000</td>\n",
              "      <td>0.0</td>\n",
              "      <td>0.0</td>\n",
              "      <td>0.0</td>\n",
              "      <td>NaN</td>\n",
              "      <td>production</td>\n",
              "    </tr>\n",
              "    <tr>\n",
              "      <th>1</th>\n",
              "      <td>08-Apr-14</td>\n",
              "      <td>15/9-F-1 C</td>\n",
              "      <td>0.0</td>\n",
              "      <td>NaN</td>\n",
              "      <td>NaN</td>\n",
              "      <td>NaN</td>\n",
              "      <td>0.0</td>\n",
              "      <td>1.00306</td>\n",
              "      <td>0.000</td>\n",
              "      <td>0.000</td>\n",
              "      <td>0.000</td>\n",
              "      <td>0.0</td>\n",
              "      <td>0.0</td>\n",
              "      <td>0.0</td>\n",
              "      <td>NaN</td>\n",
              "      <td>production</td>\n",
              "    </tr>\n",
              "    <tr>\n",
              "      <th>2</th>\n",
              "      <td>09-Apr-14</td>\n",
              "      <td>15/9-F-1 C</td>\n",
              "      <td>0.0</td>\n",
              "      <td>NaN</td>\n",
              "      <td>NaN</td>\n",
              "      <td>NaN</td>\n",
              "      <td>0.0</td>\n",
              "      <td>0.97901</td>\n",
              "      <td>0.000</td>\n",
              "      <td>0.000</td>\n",
              "      <td>0.000</td>\n",
              "      <td>0.0</td>\n",
              "      <td>0.0</td>\n",
              "      <td>0.0</td>\n",
              "      <td>NaN</td>\n",
              "      <td>production</td>\n",
              "    </tr>\n",
              "    <tr>\n",
              "      <th>3</th>\n",
              "      <td>10-Apr-14</td>\n",
              "      <td>15/9-F-1 C</td>\n",
              "      <td>0.0</td>\n",
              "      <td>NaN</td>\n",
              "      <td>NaN</td>\n",
              "      <td>NaN</td>\n",
              "      <td>0.0</td>\n",
              "      <td>0.54576</td>\n",
              "      <td>0.000</td>\n",
              "      <td>0.000</td>\n",
              "      <td>0.000</td>\n",
              "      <td>0.0</td>\n",
              "      <td>0.0</td>\n",
              "      <td>0.0</td>\n",
              "      <td>NaN</td>\n",
              "      <td>production</td>\n",
              "    </tr>\n",
              "    <tr>\n",
              "      <th>4</th>\n",
              "      <td>11-Apr-14</td>\n",
              "      <td>15/9-F-1 C</td>\n",
              "      <td>0.0</td>\n",
              "      <td>310.376</td>\n",
              "      <td>96.876</td>\n",
              "      <td>277.278</td>\n",
              "      <td>0.0</td>\n",
              "      <td>1.21599</td>\n",
              "      <td>33.098</td>\n",
              "      <td>10.480</td>\n",
              "      <td>33.072</td>\n",
              "      <td>0.0</td>\n",
              "      <td>0.0</td>\n",
              "      <td>0.0</td>\n",
              "      <td>NaN</td>\n",
              "      <td>production</td>\n",
              "    </tr>\n",
              "    <tr>\n",
              "      <th>5</th>\n",
              "      <td>12-Apr-14</td>\n",
              "      <td>15/9-F-1 C</td>\n",
              "      <td>0.0</td>\n",
              "      <td>303.501</td>\n",
              "      <td>96.923</td>\n",
              "      <td>281.447</td>\n",
              "      <td>0.0</td>\n",
              "      <td>3.08702</td>\n",
              "      <td>22.053</td>\n",
              "      <td>8.704</td>\n",
              "      <td>22.053</td>\n",
              "      <td>0.0</td>\n",
              "      <td>0.0</td>\n",
              "      <td>0.0</td>\n",
              "      <td>NaN</td>\n",
              "      <td>production</td>\n",
              "    </tr>\n",
              "    <tr>\n",
              "      <th>6</th>\n",
              "      <td>13-Apr-14</td>\n",
              "      <td>15/9-F-1 C</td>\n",
              "      <td>0.0</td>\n",
              "      <td>303.535</td>\n",
              "      <td>96.959</td>\n",
              "      <td>276.032</td>\n",
              "      <td>0.0</td>\n",
              "      <td>1.96237</td>\n",
              "      <td>27.503</td>\n",
              "      <td>9.423</td>\n",
              "      <td>16.163</td>\n",
              "      <td>0.0</td>\n",
              "      <td>0.0</td>\n",
              "      <td>0.0</td>\n",
              "      <td>NaN</td>\n",
              "      <td>production</td>\n",
              "    </tr>\n",
              "    <tr>\n",
              "      <th>7</th>\n",
              "      <td>14-Apr-14</td>\n",
              "      <td>15/9-F-1 C</td>\n",
              "      <td>0.0</td>\n",
              "      <td>303.782</td>\n",
              "      <td>96.969</td>\n",
              "      <td>282.787</td>\n",
              "      <td>0.0</td>\n",
              "      <td>0.00000</td>\n",
              "      <td>20.996</td>\n",
              "      <td>8.131</td>\n",
              "      <td>20.737</td>\n",
              "      <td>0.0</td>\n",
              "      <td>0.0</td>\n",
              "      <td>0.0</td>\n",
              "      <td>NaN</td>\n",
              "      <td>production</td>\n",
              "    </tr>\n",
              "    <tr>\n",
              "      <th>8</th>\n",
              "      <td>15-Apr-14</td>\n",
              "      <td>15/9-F-1 C</td>\n",
              "      <td>0.0</td>\n",
              "      <td>303.858</td>\n",
              "      <td>97.021</td>\n",
              "      <td>289.941</td>\n",
              "      <td>0.0</td>\n",
              "      <td>31.14186</td>\n",
              "      <td>13.918</td>\n",
              "      <td>8.498</td>\n",
              "      <td>12.182</td>\n",
              "      <td>0.0</td>\n",
              "      <td>0.0</td>\n",
              "      <td>0.0</td>\n",
              "      <td>NaN</td>\n",
              "      <td>production</td>\n",
              "    </tr>\n",
              "    <tr>\n",
              "      <th>9</th>\n",
              "      <td>16-Apr-14</td>\n",
              "      <td>15/9-F-1 C</td>\n",
              "      <td>0.0</td>\n",
              "      <td>303.792</td>\n",
              "      <td>97.066</td>\n",
              "      <td>299.672</td>\n",
              "      <td>0.0</td>\n",
              "      <td>0.00000</td>\n",
              "      <td>4.120</td>\n",
              "      <td>8.821</td>\n",
              "      <td>1.490</td>\n",
              "      <td>0.0</td>\n",
              "      <td>0.0</td>\n",
              "      <td>0.0</td>\n",
              "      <td>NaN</td>\n",
              "      <td>production</td>\n",
              "    </tr>\n",
              "  </tbody>\n",
              "</table>\n",
              "</div>"
            ],
            "text/plain": [
              "     DATEPRD NPD_WELL_BORE_NAME  ...  BORE_WI_VOL   FLOW_KIND\n",
              "0  07-Apr-14         15/9-F-1 C  ...          NaN  production\n",
              "1  08-Apr-14         15/9-F-1 C  ...          NaN  production\n",
              "2  09-Apr-14         15/9-F-1 C  ...          NaN  production\n",
              "3  10-Apr-14         15/9-F-1 C  ...          NaN  production\n",
              "4  11-Apr-14         15/9-F-1 C  ...          NaN  production\n",
              "5  12-Apr-14         15/9-F-1 C  ...          NaN  production\n",
              "6  13-Apr-14         15/9-F-1 C  ...          NaN  production\n",
              "7  14-Apr-14         15/9-F-1 C  ...          NaN  production\n",
              "8  15-Apr-14         15/9-F-1 C  ...          NaN  production\n",
              "9  16-Apr-14         15/9-F-1 C  ...          NaN  production\n",
              "\n",
              "[10 rows x 16 columns]"
            ]
          },
          "metadata": {
            "tags": []
          },
          "execution_count": 42
        }
      ]
    },
    {
      "cell_type": "code",
      "metadata": {
        "id": "vq_TmSeeVU_P"
      },
      "source": [
        "df[\"DAREPRD\"] = pd.to_datetime(df['DATEPRD'], format = \"%d-%b-%y\")"
      ],
      "execution_count": null,
      "outputs": []
    },
    {
      "cell_type": "code",
      "metadata": {
        "colab": {
          "base_uri": "https://localhost:8080/",
          "height": 609
        },
        "id": "X_K8WAm-Xhun",
        "outputId": "b31f5f11-6cd8-4003-e1aa-07ecbe8e46c7"
      },
      "source": [
        "df"
      ],
      "execution_count": null,
      "outputs": [
        {
          "output_type": "execute_result",
          "data": {
            "text/html": [
              "<div>\n",
              "<style scoped>\n",
              "    .dataframe tbody tr th:only-of-type {\n",
              "        vertical-align: middle;\n",
              "    }\n",
              "\n",
              "    .dataframe tbody tr th {\n",
              "        vertical-align: top;\n",
              "    }\n",
              "\n",
              "    .dataframe thead th {\n",
              "        text-align: right;\n",
              "    }\n",
              "</style>\n",
              "<table border=\"1\" class=\"dataframe\">\n",
              "  <thead>\n",
              "    <tr style=\"text-align: right;\">\n",
              "      <th></th>\n",
              "      <th>DATEPRD</th>\n",
              "      <th>NPD_WELL_BORE_NAME</th>\n",
              "      <th>ON_STREAM_HRS</th>\n",
              "      <th>AVG_DOWNHOLE_PRESSURE</th>\n",
              "      <th>AVG_DOWNHOLE_TEMPERATURE</th>\n",
              "      <th>AVG_DP_TUBING</th>\n",
              "      <th>AVG_ANNULUS_PRESS</th>\n",
              "      <th>AVG_CHOKE_SIZE_P</th>\n",
              "      <th>AVG_WHP_P</th>\n",
              "      <th>AVG_WHT_P</th>\n",
              "      <th>DP_CHOKE_SIZE</th>\n",
              "      <th>BORE_OIL_VOL</th>\n",
              "      <th>BORE_GAS_VOL</th>\n",
              "      <th>BORE_WAT_VOL</th>\n",
              "      <th>BORE_WI_VOL</th>\n",
              "      <th>FLOW_KIND</th>\n",
              "      <th>DAREPRD</th>\n",
              "    </tr>\n",
              "  </thead>\n",
              "  <tbody>\n",
              "    <tr>\n",
              "      <th>0</th>\n",
              "      <td>07-Apr-14</td>\n",
              "      <td>15/9-F-1 C</td>\n",
              "      <td>0.0</td>\n",
              "      <td>0.000</td>\n",
              "      <td>0.000</td>\n",
              "      <td>0.000</td>\n",
              "      <td>0.000</td>\n",
              "      <td>0.00000</td>\n",
              "      <td>0.000</td>\n",
              "      <td>0.000</td>\n",
              "      <td>0.000</td>\n",
              "      <td>0.0</td>\n",
              "      <td>0.0</td>\n",
              "      <td>0.0</td>\n",
              "      <td>NaN</td>\n",
              "      <td>production</td>\n",
              "      <td>2014-04-07</td>\n",
              "    </tr>\n",
              "    <tr>\n",
              "      <th>1</th>\n",
              "      <td>08-Apr-14</td>\n",
              "      <td>15/9-F-1 C</td>\n",
              "      <td>0.0</td>\n",
              "      <td>NaN</td>\n",
              "      <td>NaN</td>\n",
              "      <td>NaN</td>\n",
              "      <td>0.000</td>\n",
              "      <td>1.00306</td>\n",
              "      <td>0.000</td>\n",
              "      <td>0.000</td>\n",
              "      <td>0.000</td>\n",
              "      <td>0.0</td>\n",
              "      <td>0.0</td>\n",
              "      <td>0.0</td>\n",
              "      <td>NaN</td>\n",
              "      <td>production</td>\n",
              "      <td>2014-04-08</td>\n",
              "    </tr>\n",
              "    <tr>\n",
              "      <th>2</th>\n",
              "      <td>09-Apr-14</td>\n",
              "      <td>15/9-F-1 C</td>\n",
              "      <td>0.0</td>\n",
              "      <td>NaN</td>\n",
              "      <td>NaN</td>\n",
              "      <td>NaN</td>\n",
              "      <td>0.000</td>\n",
              "      <td>0.97901</td>\n",
              "      <td>0.000</td>\n",
              "      <td>0.000</td>\n",
              "      <td>0.000</td>\n",
              "      <td>0.0</td>\n",
              "      <td>0.0</td>\n",
              "      <td>0.0</td>\n",
              "      <td>NaN</td>\n",
              "      <td>production</td>\n",
              "      <td>2014-04-09</td>\n",
              "    </tr>\n",
              "    <tr>\n",
              "      <th>3</th>\n",
              "      <td>10-Apr-14</td>\n",
              "      <td>15/9-F-1 C</td>\n",
              "      <td>0.0</td>\n",
              "      <td>NaN</td>\n",
              "      <td>NaN</td>\n",
              "      <td>NaN</td>\n",
              "      <td>0.000</td>\n",
              "      <td>0.54576</td>\n",
              "      <td>0.000</td>\n",
              "      <td>0.000</td>\n",
              "      <td>0.000</td>\n",
              "      <td>0.0</td>\n",
              "      <td>0.0</td>\n",
              "      <td>0.0</td>\n",
              "      <td>NaN</td>\n",
              "      <td>production</td>\n",
              "      <td>2014-04-10</td>\n",
              "    </tr>\n",
              "    <tr>\n",
              "      <th>4</th>\n",
              "      <td>11-Apr-14</td>\n",
              "      <td>15/9-F-1 C</td>\n",
              "      <td>0.0</td>\n",
              "      <td>310.376</td>\n",
              "      <td>96.876</td>\n",
              "      <td>277.278</td>\n",
              "      <td>0.000</td>\n",
              "      <td>1.21599</td>\n",
              "      <td>33.098</td>\n",
              "      <td>10.480</td>\n",
              "      <td>33.072</td>\n",
              "      <td>0.0</td>\n",
              "      <td>0.0</td>\n",
              "      <td>0.0</td>\n",
              "      <td>NaN</td>\n",
              "      <td>production</td>\n",
              "      <td>2014-04-11</td>\n",
              "    </tr>\n",
              "    <tr>\n",
              "      <th>...</th>\n",
              "      <td>...</td>\n",
              "      <td>...</td>\n",
              "      <td>...</td>\n",
              "      <td>...</td>\n",
              "      <td>...</td>\n",
              "      <td>...</td>\n",
              "      <td>...</td>\n",
              "      <td>...</td>\n",
              "      <td>...</td>\n",
              "      <td>...</td>\n",
              "      <td>...</td>\n",
              "      <td>...</td>\n",
              "      <td>...</td>\n",
              "      <td>...</td>\n",
              "      <td>...</td>\n",
              "      <td>...</td>\n",
              "      <td>...</td>\n",
              "    </tr>\n",
              "    <tr>\n",
              "      <th>15629</th>\n",
              "      <td>14-Sep-16</td>\n",
              "      <td>15/9-F-5</td>\n",
              "      <td>0.0</td>\n",
              "      <td>NaN</td>\n",
              "      <td>NaN</td>\n",
              "      <td>NaN</td>\n",
              "      <td>0.273</td>\n",
              "      <td>0.63609</td>\n",
              "      <td>0.078</td>\n",
              "      <td>0.229</td>\n",
              "      <td>0.019</td>\n",
              "      <td>0.0</td>\n",
              "      <td>0.0</td>\n",
              "      <td>0.0</td>\n",
              "      <td>NaN</td>\n",
              "      <td>production</td>\n",
              "      <td>2016-09-14</td>\n",
              "    </tr>\n",
              "    <tr>\n",
              "      <th>15630</th>\n",
              "      <td>15-Sep-16</td>\n",
              "      <td>15/9-F-5</td>\n",
              "      <td>0.0</td>\n",
              "      <td>NaN</td>\n",
              "      <td>NaN</td>\n",
              "      <td>NaN</td>\n",
              "      <td>0.287</td>\n",
              "      <td>0.67079</td>\n",
              "      <td>0.085</td>\n",
              "      <td>0.229</td>\n",
              "      <td>0.006</td>\n",
              "      <td>0.0</td>\n",
              "      <td>0.0</td>\n",
              "      <td>0.0</td>\n",
              "      <td>NaN</td>\n",
              "      <td>production</td>\n",
              "      <td>2016-09-15</td>\n",
              "    </tr>\n",
              "    <tr>\n",
              "      <th>15631</th>\n",
              "      <td>16-Sep-16</td>\n",
              "      <td>15/9-F-5</td>\n",
              "      <td>0.0</td>\n",
              "      <td>NaN</td>\n",
              "      <td>NaN</td>\n",
              "      <td>NaN</td>\n",
              "      <td>0.286</td>\n",
              "      <td>0.66439</td>\n",
              "      <td>0.085</td>\n",
              "      <td>0.229</td>\n",
              "      <td>0.012</td>\n",
              "      <td>0.0</td>\n",
              "      <td>0.0</td>\n",
              "      <td>0.0</td>\n",
              "      <td>NaN</td>\n",
              "      <td>production</td>\n",
              "      <td>2016-09-16</td>\n",
              "    </tr>\n",
              "    <tr>\n",
              "      <th>15632</th>\n",
              "      <td>17-Sep-16</td>\n",
              "      <td>15/9-F-5</td>\n",
              "      <td>0.0</td>\n",
              "      <td>NaN</td>\n",
              "      <td>NaN</td>\n",
              "      <td>NaN</td>\n",
              "      <td>0.272</td>\n",
              "      <td>0.62466</td>\n",
              "      <td>0.075</td>\n",
              "      <td>0.228</td>\n",
              "      <td>0.026</td>\n",
              "      <td>0.0</td>\n",
              "      <td>0.0</td>\n",
              "      <td>0.0</td>\n",
              "      <td>NaN</td>\n",
              "      <td>production</td>\n",
              "      <td>2016-09-17</td>\n",
              "    </tr>\n",
              "    <tr>\n",
              "      <th>15633</th>\n",
              "      <td>18-Sep-16</td>\n",
              "      <td>15/9-F-5</td>\n",
              "      <td>0.0</td>\n",
              "      <td>NaN</td>\n",
              "      <td>NaN</td>\n",
              "      <td>NaN</td>\n",
              "      <td>NaN</td>\n",
              "      <td>NaN</td>\n",
              "      <td>NaN</td>\n",
              "      <td>NaN</td>\n",
              "      <td>0.000</td>\n",
              "      <td>NaN</td>\n",
              "      <td>NaN</td>\n",
              "      <td>NaN</td>\n",
              "      <td>0.0</td>\n",
              "      <td>injection</td>\n",
              "      <td>2016-09-18</td>\n",
              "    </tr>\n",
              "  </tbody>\n",
              "</table>\n",
              "<p>15634 rows × 17 columns</p>\n",
              "</div>"
            ],
            "text/plain": [
              "         DATEPRD NPD_WELL_BORE_NAME  ...   FLOW_KIND    DAREPRD\n",
              "0      07-Apr-14         15/9-F-1 C  ...  production 2014-04-07\n",
              "1      08-Apr-14         15/9-F-1 C  ...  production 2014-04-08\n",
              "2      09-Apr-14         15/9-F-1 C  ...  production 2014-04-09\n",
              "3      10-Apr-14         15/9-F-1 C  ...  production 2014-04-10\n",
              "4      11-Apr-14         15/9-F-1 C  ...  production 2014-04-11\n",
              "...          ...                ...  ...         ...        ...\n",
              "15629  14-Sep-16           15/9-F-5  ...  production 2016-09-14\n",
              "15630  15-Sep-16           15/9-F-5  ...  production 2016-09-15\n",
              "15631  16-Sep-16           15/9-F-5  ...  production 2016-09-16\n",
              "15632  17-Sep-16           15/9-F-5  ...  production 2016-09-17\n",
              "15633  18-Sep-16           15/9-F-5  ...   injection 2016-09-18\n",
              "\n",
              "[15634 rows x 17 columns]"
            ]
          },
          "metadata": {
            "tags": []
          },
          "execution_count": 44
        }
      ]
    },
    {
      "cell_type": "code",
      "metadata": {
        "colab": {
          "base_uri": "https://localhost:8080/"
        },
        "id": "UmbkMa3iYMPR",
        "outputId": "25d53173-0958-421a-8487-2c272e85918c"
      },
      "source": [
        "print(df.columns)"
      ],
      "execution_count": null,
      "outputs": [
        {
          "output_type": "stream",
          "text": [
            "Index(['DATEPRD', 'NPD_WELL_BORE_NAME', 'ON_STREAM_HRS',\n",
            "       'AVG_DOWNHOLE_PRESSURE', 'AVG_DOWNHOLE_TEMPERATURE', 'AVG_DP_TUBING',\n",
            "       'AVG_ANNULUS_PRESS', 'AVG_CHOKE_SIZE_P', 'AVG_WHP_P', 'AVG_WHT_P',\n",
            "       'DP_CHOKE_SIZE', 'BORE_OIL_VOL', 'BORE_GAS_VOL', 'BORE_WAT_VOL',\n",
            "       'BORE_WI_VOL', 'FLOW_KIND', 'DAREPRD'],\n",
            "      dtype='object')\n"
          ],
          "name": "stdout"
        }
      ]
    },
    {
      "cell_type": "code",
      "metadata": {
        "colab": {
          "base_uri": "https://localhost:8080/"
        },
        "id": "_73kgNEdY4j2",
        "outputId": "b2c82f41-5156-409a-86ec-5b11bf18c624"
      },
      "source": [
        "print(df[\"NPD_WELL_BORE_NAME\"].unique())"
      ],
      "execution_count": null,
      "outputs": [
        {
          "output_type": "stream",
          "text": [
            "['15/9-F-1 C' '15/9-F-11' '15/9-F-12' '15/9-F-14' '15/9-F-15 D' '15/9-F-4'\n",
            " '15/9-F-5']\n"
          ],
          "name": "stdout"
        }
      ]
    },
    {
      "cell_type": "code",
      "metadata": {
        "id": "LoL6RijqZJNn"
      },
      "source": [
        "mask = df['NPD_WELL_BORE_NAME'] == '15/9-F-14'"
      ],
      "execution_count": null,
      "outputs": []
    },
    {
      "cell_type": "code",
      "metadata": {
        "id": "MEOskaUmavH2"
      },
      "source": [
        "well14 = df[mask]"
      ],
      "execution_count": null,
      "outputs": []
    },
    {
      "cell_type": "code",
      "metadata": {
        "colab": {
          "base_uri": "https://localhost:8080/",
          "height": 549
        },
        "id": "8KiWHH7YdC4B",
        "outputId": "d01962df-01ce-464e-86b8-b49c8c9d3803"
      },
      "source": [
        "well14.tail(10)"
      ],
      "execution_count": null,
      "outputs": [
        {
          "output_type": "execute_result",
          "data": {
            "text/html": [
              "<div>\n",
              "<style scoped>\n",
              "    .dataframe tbody tr th:only-of-type {\n",
              "        vertical-align: middle;\n",
              "    }\n",
              "\n",
              "    .dataframe tbody tr th {\n",
              "        vertical-align: top;\n",
              "    }\n",
              "\n",
              "    .dataframe thead th {\n",
              "        text-align: right;\n",
              "    }\n",
              "</style>\n",
              "<table border=\"1\" class=\"dataframe\">\n",
              "  <thead>\n",
              "    <tr style=\"text-align: right;\">\n",
              "      <th></th>\n",
              "      <th>DATEPRD</th>\n",
              "      <th>NPD_WELL_BORE_NAME</th>\n",
              "      <th>ON_STREAM_HRS</th>\n",
              "      <th>AVG_DOWNHOLE_PRESSURE</th>\n",
              "      <th>AVG_DOWNHOLE_TEMPERATURE</th>\n",
              "      <th>AVG_DP_TUBING</th>\n",
              "      <th>AVG_ANNULUS_PRESS</th>\n",
              "      <th>AVG_CHOKE_SIZE_P</th>\n",
              "      <th>AVG_WHP_P</th>\n",
              "      <th>AVG_WHT_P</th>\n",
              "      <th>DP_CHOKE_SIZE</th>\n",
              "      <th>BORE_OIL_VOL</th>\n",
              "      <th>BORE_GAS_VOL</th>\n",
              "      <th>BORE_WAT_VOL</th>\n",
              "      <th>BORE_WI_VOL</th>\n",
              "      <th>FLOW_KIND</th>\n",
              "      <th>DAREPRD</th>\n",
              "    </tr>\n",
              "  </thead>\n",
              "  <tbody>\n",
              "    <tr>\n",
              "      <th>8013</th>\n",
              "      <td>08-Sep-16</td>\n",
              "      <td>15/9-F-14</td>\n",
              "      <td>0.0</td>\n",
              "      <td>0.0</td>\n",
              "      <td>0.0</td>\n",
              "      <td>10.876</td>\n",
              "      <td>10.583</td>\n",
              "      <td>1.07165</td>\n",
              "      <td>10.876</td>\n",
              "      <td>0.0</td>\n",
              "      <td>8.988</td>\n",
              "      <td>0.0</td>\n",
              "      <td>0.0</td>\n",
              "      <td>0.0</td>\n",
              "      <td>NaN</td>\n",
              "      <td>production</td>\n",
              "      <td>2016-09-08</td>\n",
              "    </tr>\n",
              "    <tr>\n",
              "      <th>8014</th>\n",
              "      <td>09-Sep-16</td>\n",
              "      <td>15/9-F-14</td>\n",
              "      <td>0.0</td>\n",
              "      <td>0.0</td>\n",
              "      <td>0.0</td>\n",
              "      <td>10.881</td>\n",
              "      <td>10.581</td>\n",
              "      <td>1.04806</td>\n",
              "      <td>10.881</td>\n",
              "      <td>0.0</td>\n",
              "      <td>8.976</td>\n",
              "      <td>0.0</td>\n",
              "      <td>0.0</td>\n",
              "      <td>0.0</td>\n",
              "      <td>NaN</td>\n",
              "      <td>production</td>\n",
              "      <td>2016-09-09</td>\n",
              "    </tr>\n",
              "    <tr>\n",
              "      <th>8015</th>\n",
              "      <td>10-Sep-16</td>\n",
              "      <td>15/9-F-14</td>\n",
              "      <td>0.0</td>\n",
              "      <td>0.0</td>\n",
              "      <td>0.0</td>\n",
              "      <td>10.878</td>\n",
              "      <td>10.579</td>\n",
              "      <td>1.11881</td>\n",
              "      <td>10.878</td>\n",
              "      <td>0.0</td>\n",
              "      <td>8.956</td>\n",
              "      <td>0.0</td>\n",
              "      <td>0.0</td>\n",
              "      <td>0.0</td>\n",
              "      <td>NaN</td>\n",
              "      <td>production</td>\n",
              "      <td>2016-09-10</td>\n",
              "    </tr>\n",
              "    <tr>\n",
              "      <th>8016</th>\n",
              "      <td>11-Sep-16</td>\n",
              "      <td>15/9-F-14</td>\n",
              "      <td>0.0</td>\n",
              "      <td>0.0</td>\n",
              "      <td>0.0</td>\n",
              "      <td>10.881</td>\n",
              "      <td>10.575</td>\n",
              "      <td>1.03097</td>\n",
              "      <td>10.881</td>\n",
              "      <td>0.0</td>\n",
              "      <td>8.955</td>\n",
              "      <td>0.0</td>\n",
              "      <td>0.0</td>\n",
              "      <td>0.0</td>\n",
              "      <td>NaN</td>\n",
              "      <td>production</td>\n",
              "      <td>2016-09-11</td>\n",
              "    </tr>\n",
              "    <tr>\n",
              "      <th>8017</th>\n",
              "      <td>12-Sep-16</td>\n",
              "      <td>15/9-F-14</td>\n",
              "      <td>0.0</td>\n",
              "      <td>0.0</td>\n",
              "      <td>0.0</td>\n",
              "      <td>10.877</td>\n",
              "      <td>10.579</td>\n",
              "      <td>0.98094</td>\n",
              "      <td>10.877</td>\n",
              "      <td>0.0</td>\n",
              "      <td>8.923</td>\n",
              "      <td>0.0</td>\n",
              "      <td>0.0</td>\n",
              "      <td>0.0</td>\n",
              "      <td>NaN</td>\n",
              "      <td>production</td>\n",
              "      <td>2016-09-12</td>\n",
              "    </tr>\n",
              "    <tr>\n",
              "      <th>8018</th>\n",
              "      <td>13-Sep-16</td>\n",
              "      <td>15/9-F-14</td>\n",
              "      <td>0.0</td>\n",
              "      <td>0.0</td>\n",
              "      <td>0.0</td>\n",
              "      <td>10.873</td>\n",
              "      <td>10.583</td>\n",
              "      <td>0.94937</td>\n",
              "      <td>10.873</td>\n",
              "      <td>0.0</td>\n",
              "      <td>8.894</td>\n",
              "      <td>0.0</td>\n",
              "      <td>0.0</td>\n",
              "      <td>0.0</td>\n",
              "      <td>NaN</td>\n",
              "      <td>production</td>\n",
              "      <td>2016-09-13</td>\n",
              "    </tr>\n",
              "    <tr>\n",
              "      <th>8019</th>\n",
              "      <td>14-Sep-16</td>\n",
              "      <td>15/9-F-14</td>\n",
              "      <td>0.0</td>\n",
              "      <td>0.0</td>\n",
              "      <td>0.0</td>\n",
              "      <td>10.877</td>\n",
              "      <td>10.583</td>\n",
              "      <td>1.11452</td>\n",
              "      <td>10.877</td>\n",
              "      <td>0.0</td>\n",
              "      <td>8.888</td>\n",
              "      <td>0.0</td>\n",
              "      <td>0.0</td>\n",
              "      <td>0.0</td>\n",
              "      <td>NaN</td>\n",
              "      <td>production</td>\n",
              "      <td>2016-09-14</td>\n",
              "    </tr>\n",
              "    <tr>\n",
              "      <th>8020</th>\n",
              "      <td>15-Sep-16</td>\n",
              "      <td>15/9-F-14</td>\n",
              "      <td>0.0</td>\n",
              "      <td>0.0</td>\n",
              "      <td>0.0</td>\n",
              "      <td>10.883</td>\n",
              "      <td>10.582</td>\n",
              "      <td>1.00047</td>\n",
              "      <td>10.883</td>\n",
              "      <td>0.0</td>\n",
              "      <td>8.856</td>\n",
              "      <td>0.0</td>\n",
              "      <td>0.0</td>\n",
              "      <td>0.0</td>\n",
              "      <td>NaN</td>\n",
              "      <td>production</td>\n",
              "      <td>2016-09-15</td>\n",
              "    </tr>\n",
              "    <tr>\n",
              "      <th>8021</th>\n",
              "      <td>16-Sep-16</td>\n",
              "      <td>15/9-F-14</td>\n",
              "      <td>0.0</td>\n",
              "      <td>0.0</td>\n",
              "      <td>0.0</td>\n",
              "      <td>10.879</td>\n",
              "      <td>10.583</td>\n",
              "      <td>1.16066</td>\n",
              "      <td>10.879</td>\n",
              "      <td>0.0</td>\n",
              "      <td>8.839</td>\n",
              "      <td>0.0</td>\n",
              "      <td>0.0</td>\n",
              "      <td>0.0</td>\n",
              "      <td>NaN</td>\n",
              "      <td>production</td>\n",
              "      <td>2016-09-16</td>\n",
              "    </tr>\n",
              "    <tr>\n",
              "      <th>8022</th>\n",
              "      <td>17-Sep-16</td>\n",
              "      <td>15/9-F-14</td>\n",
              "      <td>0.0</td>\n",
              "      <td>0.0</td>\n",
              "      <td>0.0</td>\n",
              "      <td>10.876</td>\n",
              "      <td>10.583</td>\n",
              "      <td>1.11322</td>\n",
              "      <td>10.876</td>\n",
              "      <td>0.0</td>\n",
              "      <td>8.828</td>\n",
              "      <td>0.0</td>\n",
              "      <td>0.0</td>\n",
              "      <td>0.0</td>\n",
              "      <td>NaN</td>\n",
              "      <td>production</td>\n",
              "      <td>2016-09-17</td>\n",
              "    </tr>\n",
              "  </tbody>\n",
              "</table>\n",
              "</div>"
            ],
            "text/plain": [
              "        DATEPRD NPD_WELL_BORE_NAME  ...   FLOW_KIND    DAREPRD\n",
              "8013  08-Sep-16          15/9-F-14  ...  production 2016-09-08\n",
              "8014  09-Sep-16          15/9-F-14  ...  production 2016-09-09\n",
              "8015  10-Sep-16          15/9-F-14  ...  production 2016-09-10\n",
              "8016  11-Sep-16          15/9-F-14  ...  production 2016-09-11\n",
              "8017  12-Sep-16          15/9-F-14  ...  production 2016-09-12\n",
              "8018  13-Sep-16          15/9-F-14  ...  production 2016-09-13\n",
              "8019  14-Sep-16          15/9-F-14  ...  production 2016-09-14\n",
              "8020  15-Sep-16          15/9-F-14  ...  production 2016-09-15\n",
              "8021  16-Sep-16          15/9-F-14  ...  production 2016-09-16\n",
              "8022  17-Sep-16          15/9-F-14  ...  production 2016-09-17\n",
              "\n",
              "[10 rows x 17 columns]"
            ]
          },
          "metadata": {
            "tags": []
          },
          "execution_count": 49
        }
      ]
    },
    {
      "cell_type": "code",
      "metadata": {
        "id": "DJIhrVsKeNIY"
      },
      "source": [
        "#data anlysis maximum value"
      ],
      "execution_count": null,
      "outputs": []
    },
    {
      "cell_type": "code",
      "metadata": {
        "colab": {
          "base_uri": "https://localhost:8080/",
          "height": 314
        },
        "id": "b_J80uQIegnA",
        "outputId": "a096e022-1301-45f5-b3cc-35241dbed604"
      },
      "source": [
        "well14.describe()"
      ],
      "execution_count": null,
      "outputs": [
        {
          "output_type": "execute_result",
          "data": {
            "text/html": [
              "<div>\n",
              "<style scoped>\n",
              "    .dataframe tbody tr th:only-of-type {\n",
              "        vertical-align: middle;\n",
              "    }\n",
              "\n",
              "    .dataframe tbody tr th {\n",
              "        vertical-align: top;\n",
              "    }\n",
              "\n",
              "    .dataframe thead th {\n",
              "        text-align: right;\n",
              "    }\n",
              "</style>\n",
              "<table border=\"1\" class=\"dataframe\">\n",
              "  <thead>\n",
              "    <tr style=\"text-align: right;\">\n",
              "      <th></th>\n",
              "      <th>ON_STREAM_HRS</th>\n",
              "      <th>AVG_DOWNHOLE_PRESSURE</th>\n",
              "      <th>AVG_DOWNHOLE_TEMPERATURE</th>\n",
              "      <th>AVG_DP_TUBING</th>\n",
              "      <th>AVG_ANNULUS_PRESS</th>\n",
              "      <th>AVG_CHOKE_SIZE_P</th>\n",
              "      <th>AVG_WHP_P</th>\n",
              "      <th>AVG_WHT_P</th>\n",
              "      <th>DP_CHOKE_SIZE</th>\n",
              "      <th>BORE_OIL_VOL</th>\n",
              "      <th>BORE_GAS_VOL</th>\n",
              "      <th>BORE_WAT_VOL</th>\n",
              "      <th>BORE_WI_VOL</th>\n",
              "    </tr>\n",
              "  </thead>\n",
              "  <tbody>\n",
              "    <tr>\n",
              "      <th>count</th>\n",
              "      <td>3056.000000</td>\n",
              "      <td>3050.000000</td>\n",
              "      <td>3050.000000</td>\n",
              "      <td>3050.000000</td>\n",
              "      <td>2533.000000</td>\n",
              "      <td>2860.000000</td>\n",
              "      <td>3056.000000</td>\n",
              "      <td>3056.000000</td>\n",
              "      <td>3056.000000</td>\n",
              "      <td>3056.000000</td>\n",
              "      <td>3056.000000</td>\n",
              "      <td>3056.000000</td>\n",
              "      <td>0.0</td>\n",
              "    </tr>\n",
              "    <tr>\n",
              "      <th>mean</th>\n",
              "      <td>20.541194</td>\n",
              "      <td>233.074651</td>\n",
              "      <td>95.133791</td>\n",
              "      <td>192.653088</td>\n",
              "      <td>10.527985</td>\n",
              "      <td>69.390287</td>\n",
              "      <td>41.530601</td>\n",
              "      <td>77.103033</td>\n",
              "      <td>15.435755</td>\n",
              "      <td>1290.009817</td>\n",
              "      <td>189139.247382</td>\n",
              "      <td>2330.245746</td>\n",
              "      <td>NaN</td>\n",
              "    </tr>\n",
              "    <tr>\n",
              "      <th>std</th>\n",
              "      <td>7.881136</td>\n",
              "      <td>64.923765</td>\n",
              "      <td>25.846814</td>\n",
              "      <td>57.736987</td>\n",
              "      <td>9.704603</td>\n",
              "      <td>31.064576</td>\n",
              "      <td>22.719575</td>\n",
              "      <td>25.615707</td>\n",
              "      <td>19.965158</td>\n",
              "      <td>1298.363790</td>\n",
              "      <td>184204.112292</td>\n",
              "      <td>1462.922870</td>\n",
              "      <td>NaN</td>\n",
              "    </tr>\n",
              "    <tr>\n",
              "      <th>min</th>\n",
              "      <td>0.000000</td>\n",
              "      <td>0.000000</td>\n",
              "      <td>0.000000</td>\n",
              "      <td>0.000000</td>\n",
              "      <td>0.000000</td>\n",
              "      <td>0.000000</td>\n",
              "      <td>0.000000</td>\n",
              "      <td>0.000000</td>\n",
              "      <td>0.000000</td>\n",
              "      <td>0.000000</td>\n",
              "      <td>0.000000</td>\n",
              "      <td>-59.000000</td>\n",
              "      <td>NaN</td>\n",
              "    </tr>\n",
              "    <tr>\n",
              "      <th>25%</th>\n",
              "      <td>24.000000</td>\n",
              "      <td>237.493000</td>\n",
              "      <td>99.621000</td>\n",
              "      <td>180.749500</td>\n",
              "      <td>0.000000</td>\n",
              "      <td>43.014158</td>\n",
              "      <td>31.020500</td>\n",
              "      <td>81.223500</td>\n",
              "      <td>2.665500</td>\n",
              "      <td>210.000000</td>\n",
              "      <td>31303.750000</td>\n",
              "      <td>695.500000</td>\n",
              "      <td>NaN</td>\n",
              "    </tr>\n",
              "    <tr>\n",
              "      <th>50%</th>\n",
              "      <td>24.000000</td>\n",
              "      <td>246.776000</td>\n",
              "      <td>101.007500</td>\n",
              "      <td>204.247500</td>\n",
              "      <td>12.969000</td>\n",
              "      <td>71.012955</td>\n",
              "      <td>33.546000</td>\n",
              "      <td>86.963500</td>\n",
              "      <td>7.177500</td>\n",
              "      <td>881.000000</td>\n",
              "      <td>142363.000000</td>\n",
              "      <td>2965.500000</td>\n",
              "      <td>NaN</td>\n",
              "    </tr>\n",
              "    <tr>\n",
              "      <th>75%</th>\n",
              "      <td>24.000000</td>\n",
              "      <td>261.971250</td>\n",
              "      <td>105.049000</td>\n",
              "      <td>229.632750</td>\n",
              "      <td>21.232000</td>\n",
              "      <td>100.000000</td>\n",
              "      <td>49.080250</td>\n",
              "      <td>88.539000</td>\n",
              "      <td>21.174000</td>\n",
              "      <td>2033.500000</td>\n",
              "      <td>305328.000000</td>\n",
              "      <td>3444.250000</td>\n",
              "      <td>NaN</td>\n",
              "    </tr>\n",
              "    <tr>\n",
              "      <th>max</th>\n",
              "      <td>25.000000</td>\n",
              "      <td>334.656000</td>\n",
              "      <td>106.773000</td>\n",
              "      <td>302.110000</td>\n",
              "      <td>26.682000</td>\n",
              "      <td>100.000000</td>\n",
              "      <td>125.719000</td>\n",
              "      <td>93.510000</td>\n",
              "      <td>125.719000</td>\n",
              "      <td>5644.000000</td>\n",
              "      <td>789975.000000</td>\n",
              "      <td>5692.000000</td>\n",
              "      <td>NaN</td>\n",
              "    </tr>\n",
              "  </tbody>\n",
              "</table>\n",
              "</div>"
            ],
            "text/plain": [
              "       ON_STREAM_HRS  AVG_DOWNHOLE_PRESSURE  ...  BORE_WAT_VOL  BORE_WI_VOL\n",
              "count    3056.000000            3050.000000  ...   3056.000000          0.0\n",
              "mean       20.541194             233.074651  ...   2330.245746          NaN\n",
              "std         7.881136              64.923765  ...   1462.922870          NaN\n",
              "min         0.000000               0.000000  ...    -59.000000          NaN\n",
              "25%        24.000000             237.493000  ...    695.500000          NaN\n",
              "50%        24.000000             246.776000  ...   2965.500000          NaN\n",
              "75%        24.000000             261.971250  ...   3444.250000          NaN\n",
              "max        25.000000             334.656000  ...   5692.000000          NaN\n",
              "\n",
              "[8 rows x 13 columns]"
            ]
          },
          "metadata": {
            "tags": []
          },
          "execution_count": 51
        }
      ]
    },
    {
      "cell_type": "code",
      "metadata": {
        "colab": {
          "base_uri": "https://localhost:8080/",
          "height": 390
        },
        "id": "IUJvDg9XemGu",
        "outputId": "bc5f5f57-715d-40d3-a664-439da293b794"
      },
      "source": [
        "plt.figure(figsize = (15,6))\n",
        "plt.plot(df['DATEPRD'], df['BORE_WAT_VOL'], color = 'purple')\n",
        "plt.title(\"Production Data\")\n",
        "plt.xlabel(\"Date\");plt.ylabel(\"Q SB\")\n",
        "plt.plot(df['DATEPRD'], df['BORE_GAS_VOL'], color = 'blue')\n",
        "plt.plot(df['DATEPRD'], df['BORE_OIL_VOL'], color = \"orange\")"
      ],
      "execution_count": null,
      "outputs": [
        {
          "output_type": "execute_result",
          "data": {
            "text/plain": [
              "[<matplotlib.lines.Line2D at 0x7fba4b2c4e10>]"
            ]
          },
          "metadata": {
            "tags": []
          },
          "execution_count": 52
        },
        {
          "output_type": "display_data",
          "data": {
            "image/png": "[encoded data removed]",
            "text/plain": [
              "<Figure size 1080x432 with 1 Axes>"
            ]
          },
          "metadata": {
            "tags": [],
            "needs_background": "light"
          }
        }
      ]
    },
    {
      "cell_type": "code",
      "metadata": {
        "id": "OaFiNPrlfwXZ"
      },
      "source": [
        "\n",
        "\n"
      ],
      "execution_count": null,
      "outputs": []
    },
    {
      "cell_type": "code",
      "metadata": {
        "id": "kJtecf5ygSJa"
      },
      "source": [
        ""
      ],
      "execution_count": null,
      "outputs": []
    },
    {
      "cell_type": "code",
      "metadata": {
        "id": "Qk4mH_69gVr7"
      },
      "source": [
        "plt.show()"
      ],
      "execution_count": null,
      "outputs": []
    },
    {
      "cell_type": "code",
      "metadata": {
        "id": "079VdcwygXht",
        "colab": {
          "base_uri": "https://localhost:8080/",
          "height": 265
        },
        "outputId": "0db0a99d-d627-478e-8329-0555073755ab"
      },
      "source": [
        "plt.hist(df['AVG_DOWNHOLE_PRESSURE'],bins = 100)\n",
        "plt.xlim(150,400)\n",
        "plt.show()"
      ],
      "execution_count": null,
      "outputs": [
        {
          "output_type": "display_data",
          "data": {
            "image/png": "[encoded data removed]",
            "text/plain": [
              "<Figure size 432x288 with 1 Axes>"
            ]
          },
          "metadata": {
            "tags": [],
            "needs_background": "light"
          }
        }
      ]
    },
    {
      "cell_type": "code",
      "metadata": {
        "id": "gyHB0uQ5MNmH"
      },
      "source": [
        ""
      ],
      "execution_count": null,
      "outputs": []
    },
    {
      "cell_type": "code",
      "metadata": {
        "id": "_51X5MkSL1g9",
        "colab": {
          "base_uri": "https://localhost:8080/",
          "height": 283
        },
        "outputId": "75316347-a455-4768-98b9-4c069a73ffcb"
      },
      "source": [
        "plt.scatter(df[\"BORE_OIL_VOL\"], df[\"AVG_DOWNHOLE_PRESSURE\"])"
      ],
      "execution_count": null,
      "outputs": [
        {
          "output_type": "execute_result",
          "data": {
            "text/plain": [
              "<matplotlib.collections.PathCollection at 0x7fba48ac57d0>"
            ]
          },
          "metadata": {
            "tags": []
          },
          "execution_count": 55
        },
        {
          "output_type": "display_data",
          "data": {
            "image/png": "[encoded data removed]",
            "text/plain": [
              "<Figure size 432x288 with 1 Axes>"
            ]
          },
          "metadata": {
            "tags": [],
            "needs_background": "light"
          }
        }
      ]
    },
    {
      "cell_type": "code",
      "metadata": {
        "id": "9vO9kL1sOHQh"
      },
      "source": [
        "lists = [\"ON_STREAM_HRS\",  \"BORE_OIL_VOL\", \"AVG_ANNULUS_PRESS\"]\n",
        "input = df[lists]\n"
      ],
      "execution_count": null,
      "outputs": []
    },
    {
      "cell_type": "code",
      "metadata": {
        "id": "hxIcdVT0QbJX",
        "colab": {
          "base_uri": "https://localhost:8080/",
          "height": 415
        },
        "outputId": "cc70372b-65af-4795-87d1-2aa00b3e6013"
      },
      "source": [
        "input"
      ],
      "execution_count": null,
      "outputs": [
        {
          "output_type": "execute_result",
          "data": {
            "text/html": [
              "<div>\n",
              "<style scoped>\n",
              "    .dataframe tbody tr th:only-of-type {\n",
              "        vertical-align: middle;\n",
              "    }\n",
              "\n",
              "    .dataframe tbody tr th {\n",
              "        vertical-align: top;\n",
              "    }\n",
              "\n",
              "    .dataframe thead th {\n",
              "        text-align: right;\n",
              "    }\n",
              "</style>\n",
              "<table border=\"1\" class=\"dataframe\">\n",
              "  <thead>\n",
              "    <tr style=\"text-align: right;\">\n",
              "      <th></th>\n",
              "      <th>ON_STREAM_HRS</th>\n",
              "      <th>BORE_OIL_VOL</th>\n",
              "      <th>AVG_ANNULUS_PRESS</th>\n",
              "    </tr>\n",
              "  </thead>\n",
              "  <tbody>\n",
              "    <tr>\n",
              "      <th>0</th>\n",
              "      <td>0.0</td>\n",
              "      <td>0.0</td>\n",
              "      <td>0.000</td>\n",
              "    </tr>\n",
              "    <tr>\n",
              "      <th>1</th>\n",
              "      <td>0.0</td>\n",
              "      <td>0.0</td>\n",
              "      <td>0.000</td>\n",
              "    </tr>\n",
              "    <tr>\n",
              "      <th>2</th>\n",
              "      <td>0.0</td>\n",
              "      <td>0.0</td>\n",
              "      <td>0.000</td>\n",
              "    </tr>\n",
              "    <tr>\n",
              "      <th>3</th>\n",
              "      <td>0.0</td>\n",
              "      <td>0.0</td>\n",
              "      <td>0.000</td>\n",
              "    </tr>\n",
              "    <tr>\n",
              "      <th>4</th>\n",
              "      <td>0.0</td>\n",
              "      <td>0.0</td>\n",
              "      <td>0.000</td>\n",
              "    </tr>\n",
              "    <tr>\n",
              "      <th>...</th>\n",
              "      <td>...</td>\n",
              "      <td>...</td>\n",
              "      <td>...</td>\n",
              "    </tr>\n",
              "    <tr>\n",
              "      <th>15629</th>\n",
              "      <td>0.0</td>\n",
              "      <td>0.0</td>\n",
              "      <td>0.273</td>\n",
              "    </tr>\n",
              "    <tr>\n",
              "      <th>15630</th>\n",
              "      <td>0.0</td>\n",
              "      <td>0.0</td>\n",
              "      <td>0.287</td>\n",
              "    </tr>\n",
              "    <tr>\n",
              "      <th>15631</th>\n",
              "      <td>0.0</td>\n",
              "      <td>0.0</td>\n",
              "      <td>0.286</td>\n",
              "    </tr>\n",
              "    <tr>\n",
              "      <th>15632</th>\n",
              "      <td>0.0</td>\n",
              "      <td>0.0</td>\n",
              "      <td>0.272</td>\n",
              "    </tr>\n",
              "    <tr>\n",
              "      <th>15633</th>\n",
              "      <td>0.0</td>\n",
              "      <td>NaN</td>\n",
              "      <td>NaN</td>\n",
              "    </tr>\n",
              "  </tbody>\n",
              "</table>\n",
              "<p>15634 rows × 3 columns</p>\n",
              "</div>"
            ],
            "text/plain": [
              "       ON_STREAM_HRS  BORE_OIL_VOL  AVG_ANNULUS_PRESS\n",
              "0                0.0           0.0              0.000\n",
              "1                0.0           0.0              0.000\n",
              "2                0.0           0.0              0.000\n",
              "3                0.0           0.0              0.000\n",
              "4                0.0           0.0              0.000\n",
              "...              ...           ...                ...\n",
              "15629            0.0           0.0              0.273\n",
              "15630            0.0           0.0              0.287\n",
              "15631            0.0           0.0              0.286\n",
              "15632            0.0           0.0              0.272\n",
              "15633            0.0           NaN                NaN\n",
              "\n",
              "[15634 rows x 3 columns]"
            ]
          },
          "metadata": {
            "tags": []
          },
          "execution_count": 57
        }
      ]
    },
    {
      "cell_type": "code",
      "metadata": {
        "colab": {
          "base_uri": "https://localhost:8080/",
          "height": 567
        },
        "id": "YnLDtKsWRbJa",
        "outputId": "de402989-9a4a-4f4f-bd02-6afd51a8c5af"
      },
      "source": [
        "sns.pairplot(input)"
      ],
      "execution_count": null,
      "outputs": [
        {
          "output_type": "execute_result",
          "data": {
            "text/plain": [
              "<seaborn.axisgrid.PairGrid at 0x7fba496b7a10>"
            ]
          },
          "metadata": {
            "tags": []
          },
          "execution_count": 58
        },
        {
          "output_type": "display_data",
          "data": {
            "image/png": "[encoded data removed]",
            "text/plain": [
              "<Figure size 540x540 with 12 Axes>"
            ]
          },
          "metadata": {
            "tags": [],
            "needs_background": "light"
          }
        }
      ]
    },
    {
      "cell_type": "code",
      "metadata": {
        "colab": {
          "base_uri": "https://localhost:8080/",
          "height": 477
        },
        "id": "oyQIMkuqRiMA",
        "outputId": "3bd78a51-d1a9-4514-af5f-fbce33de9341"
      },
      "source": [
        "msno.matrix(df)"
      ],
      "execution_count": null,
      "outputs": [
        {
          "output_type": "execute_result",
          "data": {
            "text/plain": [
              "<matplotlib.axes._subplots.AxesSubplot at 0x7fba487cdc50>"
            ]
          },
          "metadata": {
            "tags": []
          },
          "execution_count": 59
        },
        {
          "output_type": "display_data",
          "data": {
            "image/png": "[encoded data removed]",
            "text/plain": [
              "<Figure size 1800x720 with 2 Axes>"
            ]
          },
          "metadata": {
            "tags": [],
            "needs_background": "light"
          }
        }
      ]
    },
    {
      "cell_type": "code",
      "metadata": {
        "id": "_3y_DTn2Sy8T"
      },
      "source": [
        "df = df.interpolate(method='linear')"
      ],
      "execution_count": null,
      "outputs": []
    },
    {
      "cell_type": "code",
      "metadata": {
        "colab": {
          "base_uri": "https://localhost:8080/",
          "height": 477
        },
        "id": "3csWR_D1W0Qm",
        "outputId": "a38ff572-bcee-44b0-a75e-9402e4d6e9a6"
      },
      "source": [
        "msno.matrix(df)"
      ],
      "execution_count": null,
      "outputs": [
        {
          "output_type": "execute_result",
          "data": {
            "text/plain": [
              "<matplotlib.axes._subplots.AxesSubplot at 0x7fba486a8e90>"
            ]
          },
          "metadata": {
            "tags": []
          },
          "execution_count": 61
        },
        {
          "output_type": "display_data",
          "data": {
            "image/png": "[encoded data removed]",
            "text/plain": [
              "<Figure size 1800x720 with 2 Axes>"
            ]
          },
          "metadata": {
            "tags": [],
            "needs_background": "light"
          }
        }
      ]
    },
    {
      "cell_type": "code",
      "metadata": {
        "colab": {
          "base_uri": "https://localhost:8080/"
        },
        "id": "gh80TbraW5q5",
        "outputId": "e46a8771-2275-43d3-b269-4a5b362cc528"
      },
      "source": [
        "!pip install lasio\n"
      ],
      "execution_count": null,
      "outputs": [
        {
          "output_type": "stream",
          "text": [
            "Requirement already satisfied: lasio in /usr/local/lib/python3.7/dist-packages (0.28)\n",
            "Requirement already satisfied: numpy in /usr/local/lib/python3.7/dist-packages (from lasio) (1.19.5)\n"
          ],
          "name": "stdout"
        }
      ]
    },
    {
      "cell_type": "code",
      "metadata": {
        "id": "OdGjQImYCV3d"
      },
      "source": [
        "import numpy as np"
      ],
      "execution_count": null,
      "outputs": []
    },
    {
      "cell_type": "code",
      "metadata": {
        "id": "J2IfpaWeClBz"
      },
      "source": [
        "import pandas as pd"
      ],
      "execution_count": null,
      "outputs": []
    },
    {
      "cell_type": "code",
      "metadata": {
        "id": "nYXA7gUwCmfH"
      },
      "source": [
        "import lasio  as ls"
      ],
      "execution_count": null,
      "outputs": []
    },
    {
      "cell_type": "code",
      "metadata": {
        "id": "99ITlx4NCpFK",
        "colab": {
          "base_uri": "https://localhost:8080/"
        },
        "outputId": "5c1dfcf5-44c2-4be0-edcb-cb517e7e57ff"
      },
      "source": [
        "!pip install mplstereonet"
      ],
      "execution_count": null,
      "outputs": [
        {
          "output_type": "stream",
          "text": [
            "Requirement already satisfied: mplstereonet in /usr/local/lib/python3.7/dist-packages (0.6.2)\n",
            "Requirement already satisfied: matplotlib>=1.1 in /usr/local/lib/python3.7/dist-packages (from mplstereonet) (3.2.2)\n",
            "Requirement already satisfied: numpy>=1.1 in /usr/local/lib/python3.7/dist-packages (from mplstereonet) (1.19.5)\n",
            "Requirement already satisfied: kiwisolver>=1.0.1 in /usr/local/lib/python3.7/dist-packages (from matplotlib>=1.1->mplstereonet) (1.3.1)\n",
            "Requirement already satisfied: cycler>=0.10 in /usr/local/lib/python3.7/dist-packages (from matplotlib>=1.1->mplstereonet) (0.10.0)\n",
            "Requirement already satisfied: python-dateutil>=2.1 in /usr/local/lib/python3.7/dist-packages (from matplotlib>=1.1->mplstereonet) (2.8.1)\n",
            "Requirement already satisfied: pyparsing!=2.0.4,!=2.1.2,!=2.1.6,>=2.0.1 in /usr/local/lib/python3.7/dist-packages (from matplotlib>=1.1->mplstereonet) (2.4.7)\n",
            "Requirement already satisfied: six in /usr/local/lib/python3.7/dist-packages (from cycler>=0.10->matplotlib>=1.1->mplstereonet) (1.15.0)\n"
          ],
          "name": "stdout"
        }
      ]
    },
    {
      "cell_type": "code",
      "metadata": {
        "id": "9KgpEC-3XTuf",
        "colab": {
          "base_uri": "https://localhost:8080/"
        },
        "outputId": "ae8f447a-e686-42a0-a774-4fa3750878c5"
      },
      "source": [
        "!wget https://github.com/yohanesnuwara/formation-evaluation/blob/main/fracture.py\n"
      ],
      "execution_count": null,
      "outputs": [
        {
          "output_type": "stream",
          "text": [
            "--2021-03-21 22:47:52--  https://github.com/yohanesnuwara/formation-evaluation/blob/main/fracture.py\n",
            "Resolving github.com (github.com)... 140.82.113.3\n",
            "Connecting to github.com (github.com)|140.82.113.3|:443... connected.\n",
            "HTTP request sent, awaiting response... 200 OK\n",
            "Length: unspecified [text/html]\n",
            "Saving to: ‘fracture.py.1’\n",
            "\n",
            "fracture.py.1           [ <=>                ] 123.35K   673KB/s    in 0.2s    \n",
            "\n",
            "2021-03-21 22:47:53 (673 KB/s) - ‘fracture.py.1’ saved [126313]\n",
            "\n"
          ],
          "name": "stdout"
        }
      ]
    },
    {
      "cell_type": "markdown",
      "metadata": {
        "id": "BkIrxrhGhuzy"
      },
      "source": [
        "Third session# Nouvelle section"
      ]
    },
    {
      "cell_type": "code",
      "metadata": {
        "id": "6IETj6g2lWTZ"
      },
      "source": [
        "import numpy as np \n",
        "import pandas as pd\n",
        "import matplotlib.pyplot as plt\n",
        "\n",
        "import mplstereonet as mls\n"
      ],
      "execution_count": null,
      "outputs": []
    },
    {
      "cell_type": "code",
      "metadata": {
        "id": "O3eUQGGGuIeK"
      },
      "source": [
        "import Fracture  as frac\n"
      ],
      "execution_count": null,
      "outputs": []
    },
    {
      "cell_type": "code",
      "metadata": {
        "id": "SL2H4ZOv3_Uc"
      },
      "source": [
        "well_path = \"http://bit.ly/wireline-data\"\n"
      ],
      "execution_count": null,
      "outputs": []
    },
    {
      "cell_type": "markdown",
      "metadata": {
        "id": "mWYVODlt4ADF"
      },
      "source": [
        "\n"
      ]
    },
    {
      "cell_type": "code",
      "metadata": {
        "id": "g1Wy4LMVMF8C"
      },
      "source": [
        "trajectory = 'http://bit.ly/trajectory-data'"
      ],
      "execution_count": null,
      "outputs": []
    },
    {
      "cell_type": "code",
      "metadata": {
        "id": "f1LVpt0-MSe8"
      },
      "source": [
        "fracture_path = 'http://bit.ly/fractures-data'"
      ],
      "execution_count": null,
      "outputs": []
    },
    {
      "cell_type": "code",
      "metadata": {
        "id": "XJ4VIFbAMeOc"
      },
      "source": [
        "import lasio as ls\n"
      ],
      "execution_count": null,
      "outputs": []
    },
    {
      "cell_type": "code",
      "metadata": {
        "id": "YaNKoaMBNigo",
        "colab": {
          "base_uri": "https://localhost:8080/",
          "height": 166
        },
        "outputId": "98cd83e3-633b-4073-e2a8-e3eca6bfb59d"
      },
      "source": [
        "well = ls.read(well_path)"
      ],
      "execution_count": null,
      "outputs": [
        {
          "output_type": "error",
          "ename": "NameError",
          "evalue": "ignored",
          "traceback": [
            "\u001b[0;31m---------------------------------------------------------------------------\u001b[0m",
            "\u001b[0;31mNameError\u001b[0m                                 Traceback (most recent call last)",
            "\u001b[0;32m<ipython-input-4-f5380a2833b7>\u001b[0m in \u001b[0;36m<module>\u001b[0;34m()\u001b[0m\n\u001b[0;32m----> 1\u001b[0;31m \u001b[0mwell\u001b[0m \u001b[0;34m=\u001b[0m \u001b[0mls\u001b[0m\u001b[0;34m.\u001b[0m\u001b[0mread\u001b[0m\u001b[0;34m(\u001b[0m\u001b[0mwell_path\u001b[0m\u001b[0;34m)\u001b[0m\u001b[0;34m\u001b[0m\u001b[0;34m\u001b[0m\u001b[0m\n\u001b[0m",
            "\u001b[0;31mNameError\u001b[0m: name 'ls' is not defined"
          ]
        }
      ]
    },
    {
      "cell_type": "code",
      "metadata": {
        "id": "WESazvacNqcZ",
        "colab": {
          "base_uri": "https://localhost:8080/"
        },
        "outputId": "a8e2b3a5-a6f8-41cb-89b6-ab7fc2ba64cd"
      },
      "source": [
        "well.curves"
      ],
      "execution_count": null,
      "outputs": [
        {
          "output_type": "execute_result",
          "data": {
            "text/plain": [
              "[CurveItem(mnemonic=\"DEPT\", unit=\"m\", value=\"\", descr=\"DEPTH\", original_mnemonic=\"DEPT\", data.shape=(21386,)),\n",
              " CurveItem(mnemonic=\"LITHOLOGY_GEOLINK\", unit=\"_\", value=\"\", descr=\"Lithology_geolink\", original_mnemonic=\"LITHOLOGY_GEOLINK\", data.shape=(21386,)),\n",
              " CurveItem(mnemonic=\"CALI\", unit=\"in\", value=\"\", descr=\"CALI\", original_mnemonic=\"CALI\", data.shape=(21386,)),\n",
              " CurveItem(mnemonic=\"DRHO\", unit=\"g/cm3\", value=\"\", descr=\"DRHO\", original_mnemonic=\"DRHO\", data.shape=(21386,)),\n",
              " CurveItem(mnemonic=\"NPHI\", unit=\"m3/m3\", value=\"\", descr=\"NPHI\", original_mnemonic=\"NPHI\", data.shape=(21386,)),\n",
              " CurveItem(mnemonic=\"RHOB\", unit=\"g/cm3\", value=\"\", descr=\"RHOB\", original_mnemonic=\"RHOB\", data.shape=(21386,)),\n",
              " CurveItem(mnemonic=\"GR\", unit=\"gAPI\", value=\"\", descr=\"GR\", original_mnemonic=\"GR\", data.shape=(21386,)),\n",
              " CurveItem(mnemonic=\"DTC\", unit=\"us/ft\", value=\"\", descr=\"DTC\", original_mnemonic=\"DTC\", data.shape=(21386,)),\n",
              " CurveItem(mnemonic=\"DTE\", unit=\"us/ft\", value=\"\", descr=\"DTE\", original_mnemonic=\"DTE\", data.shape=(21386,)),\n",
              " CurveItem(mnemonic=\"RDEP\", unit=\"ohm.m\", value=\"\", descr=\"RDEP\", original_mnemonic=\"RDEP\", data.shape=(21386,)),\n",
              " CurveItem(mnemonic=\"SP\", unit=\"mV\", value=\"\", descr=\"SP\", original_mnemonic=\"SP\", data.shape=(21386,)),\n",
              " CurveItem(mnemonic=\"RSHA\", unit=\"ohm.m\", value=\"\", descr=\"RSHA\", original_mnemonic=\"RSHA\", data.shape=(21386,)),\n",
              " CurveItem(mnemonic=\"RXO\", unit=\"ohm.m\", value=\"\", descr=\"RXO\", original_mnemonic=\"RXO\", data.shape=(21386,)),\n",
              " CurveItem(mnemonic=\"RMED\", unit=\"ohm.m\", value=\"\", descr=\"RMED\", original_mnemonic=\"RMED\", data.shape=(21386,))]"
            ]
          },
          "metadata": {
            "tags": []
          },
          "execution_count": 75
        }
      ]
    },
    {
      "cell_type": "code",
      "metadata": {
        "id": "aTLoSoruOIUW",
        "colab": {
          "base_uri": "https://localhost:8080/"
        },
        "outputId": "c38f4f1a-1bde-413e-a125-dee9f4e3b4fd"
      },
      "source": [
        "well.data"
      ],
      "execution_count": null,
      "outputs": [
        {
          "output_type": "execute_result",
          "data": {
            "text/plain": [
              "array([[4.93493134e+02,            nan, 1.94060001e+01, ...,\n",
              "        1.54602885e+00,            nan, 1.54602885e+00],\n",
              "       [4.93645538e+02,            nan, 1.94060001e+01, ...,\n",
              "        1.57003009e+00,            nan, 1.57003009e+00],\n",
              "       [4.93797943e+02,            nan, 1.94060001e+01, ...,\n",
              "        1.59499407e+00,            nan, 1.59499407e+00],\n",
              "       ...,\n",
              "       [3.75226196e+03,            nan, 7.55499983e+00, ...,\n",
              "        3.15799999e+00,            nan, 3.15799999e+00],\n",
              "       [3.75241431e+03,            nan, 7.55499983e+00, ...,\n",
              "        3.15799999e+00,            nan, 3.15799999e+00],\n",
              "       [3.75256665e+03,            nan, 7.55499983e+00, ...,\n",
              "        3.15799999e+00,            nan, 3.15799999e+00]])"
            ]
          },
          "metadata": {
            "tags": []
          },
          "execution_count": 76
        }
      ]
    },
    {
      "cell_type": "code",
      "metadata": {
        "id": "J3nEgy5IOhs1",
        "colab": {
          "base_uri": "https://localhost:8080/"
        },
        "outputId": "8f4c1c0f-cfe1-4ca7-bcdb-25bb6f991314"
      },
      "source": [
        "well.curves"
      ],
      "execution_count": null,
      "outputs": [
        {
          "output_type": "execute_result",
          "data": {
            "text/plain": [
              "[CurveItem(mnemonic=\"DEPT\", unit=\"m\", value=\"\", descr=\"DEPTH\", original_mnemonic=\"DEPT\", data.shape=(21386,)),\n",
              " CurveItem(mnemonic=\"LITHOLOGY_GEOLINK\", unit=\"_\", value=\"\", descr=\"Lithology_geolink\", original_mnemonic=\"LITHOLOGY_GEOLINK\", data.shape=(21386,)),\n",
              " CurveItem(mnemonic=\"CALI\", unit=\"in\", value=\"\", descr=\"CALI\", original_mnemonic=\"CALI\", data.shape=(21386,)),\n",
              " CurveItem(mnemonic=\"DRHO\", unit=\"g/cm3\", value=\"\", descr=\"DRHO\", original_mnemonic=\"DRHO\", data.shape=(21386,)),\n",
              " CurveItem(mnemonic=\"NPHI\", unit=\"m3/m3\", value=\"\", descr=\"NPHI\", original_mnemonic=\"NPHI\", data.shape=(21386,)),\n",
              " CurveItem(mnemonic=\"RHOB\", unit=\"g/cm3\", value=\"\", descr=\"RHOB\", original_mnemonic=\"RHOB\", data.shape=(21386,)),\n",
              " CurveItem(mnemonic=\"GR\", unit=\"gAPI\", value=\"\", descr=\"GR\", original_mnemonic=\"GR\", data.shape=(21386,)),\n",
              " CurveItem(mnemonic=\"DTC\", unit=\"us/ft\", value=\"\", descr=\"DTC\", original_mnemonic=\"DTC\", data.shape=(21386,)),\n",
              " CurveItem(mnemonic=\"DTE\", unit=\"us/ft\", value=\"\", descr=\"DTE\", original_mnemonic=\"DTE\", data.shape=(21386,)),\n",
              " CurveItem(mnemonic=\"RDEP\", unit=\"ohm.m\", value=\"\", descr=\"RDEP\", original_mnemonic=\"RDEP\", data.shape=(21386,)),\n",
              " CurveItem(mnemonic=\"SP\", unit=\"mV\", value=\"\", descr=\"SP\", original_mnemonic=\"SP\", data.shape=(21386,)),\n",
              " CurveItem(mnemonic=\"RSHA\", unit=\"ohm.m\", value=\"\", descr=\"RSHA\", original_mnemonic=\"RSHA\", data.shape=(21386,)),\n",
              " CurveItem(mnemonic=\"RXO\", unit=\"ohm.m\", value=\"\", descr=\"RXO\", original_mnemonic=\"RXO\", data.shape=(21386,)),\n",
              " CurveItem(mnemonic=\"RMED\", unit=\"ohm.m\", value=\"\", descr=\"RMED\", original_mnemonic=\"RMED\", data.shape=(21386,))]"
            ]
          },
          "metadata": {
            "tags": []
          },
          "execution_count": 77
        }
      ]
    },
    {
      "cell_type": "code",
      "metadata": {
        "id": "wPh21o5BPW0g",
        "colab": {
          "base_uri": "https://localhost:8080/",
          "height": 166
        },
        "outputId": "df3cc829-1760-4abf-c13f-f1c4ade78210"
      },
      "source": [
        "well.data"
      ],
      "execution_count": null,
      "outputs": [
        {
          "output_type": "error",
          "ename": "NameError",
          "evalue": "ignored",
          "traceback": [
            "\u001b[0;31m---------------------------------------------------------------------------\u001b[0m",
            "\u001b[0;31mNameError\u001b[0m                                 Traceback (most recent call last)",
            "\u001b[0;32m<ipython-input-5-48286aa64c74>\u001b[0m in \u001b[0;36m<module>\u001b[0;34m()\u001b[0m\n\u001b[0;32m----> 1\u001b[0;31m \u001b[0mwell\u001b[0m\u001b[0;34m.\u001b[0m\u001b[0mdata\u001b[0m\u001b[0;34m\u001b[0m\u001b[0;34m\u001b[0m\u001b[0m\n\u001b[0m",
            "\u001b[0;31mNameError\u001b[0m: name 'well' is not defined"
          ]
        }
      ]
    },
    {
      "cell_type": "code",
      "metadata": {
        "id": "YUeF2EZOPvhU",
        "colab": {
          "base_uri": "https://localhost:8080/",
          "height": 166
        },
        "outputId": "f5b49d03-e468-43c1-dce1-1520695e46c9"
      },
      "source": [
        "new_well = well.df().reset_index()"
      ],
      "execution_count": null,
      "outputs": [
        {
          "output_type": "error",
          "ename": "NameError",
          "evalue": "ignored",
          "traceback": [
            "\u001b[0;31m---------------------------------------------------------------------------\u001b[0m",
            "\u001b[0;31mNameError\u001b[0m                                 Traceback (most recent call last)",
            "\u001b[0;32m<ipython-input-2-ffd6394fa265>\u001b[0m in \u001b[0;36m<module>\u001b[0;34m()\u001b[0m\n\u001b[0;32m----> 1\u001b[0;31m \u001b[0mne_well\u001b[0m \u001b[0;34m=\u001b[0m \u001b[0mwell\u001b[0m\u001b[0;34m.\u001b[0m\u001b[0mdf\u001b[0m\u001b[0;34m(\u001b[0m\u001b[0;34m)\u001b[0m\u001b[0;34m.\u001b[0m\u001b[0mreset_index\u001b[0m\u001b[0;34m(\u001b[0m\u001b[0;34m)\u001b[0m\u001b[0;34m\u001b[0m\u001b[0;34m\u001b[0m\u001b[0m\n\u001b[0m",
            "\u001b[0;31mNameError\u001b[0m: name 'well' is not defined"
          ]
        }
      ]
    },
    {
      "cell_type": "code",
      "metadata": {
        "id": "IA2c7MPeP4JB",
        "colab": {
          "base_uri": "https://localhost:8080/",
          "height": 883
        },
        "outputId": "0a86357a-f2f4-4362-b7ac-5480bb982195"
      },
      "source": [
        "#visualize well logs using for loop and subplots\"NPHI , RHOB, GR , RDEP, DTC\"\n",
        "log = ['NPHI','RHOB' ,  'GR', 'RDEP', 'DTC']\n",
        "color = ['black', 'red', 'green','purple', 'blue']\n",
        "\n",
        "plt.figure(figsize = (10,15))\n",
        "for i in range(5):\n",
        "  plt.subplot(1,5, i+1)\n",
        "  if log[i]==\"RDEP\":\n",
        "    plt.semilogx(well[log[i]], well[\"DEPT\"], color = color[i])\n",
        "  else:\n",
        "    plt.plot(well[log[i]], well[\"DEPT\"], color = color[i])\n",
        "\n",
        "  plt.ylim(3500,1000)\n",
        "  plt.grid()\n",
        "  plt.title(log[i])\n",
        "\n",
        "plt.show()\n",
        "\n"
      ],
      "execution_count": null,
      "outputs": [
        {
          "output_type": "display_data",
          "data": {
            "image/png": "[encoded data removed]",
            "text/plain": [
              "<Figure size 720x1080 with 5 Axes>"
            ]
          },
          "metadata": {
            "tags": [],
            "needs_background": "light"
          }
        }
      ]
    },
    {
      "cell_type": "code",
      "metadata": {
        "id": "5h9_iv8i5UYd"
      },
      "source": [
        "plt.show()"
      ],
      "execution_count": null,
      "outputs": []
    },
    {
      "cell_type": "code",
      "metadata": {
        "id": "qXwvvcJ97Uzg"
      },
      "source": [
        "#well bore trajectory"
      ],
      "execution_count": null,
      "outputs": []
    },
    {
      "cell_type": "code",
      "metadata": {
        "id": "7LaoLNQ2Dv7d"
      },
      "source": [
        "traject_df = pd.read_csv(trajectory)"
      ],
      "execution_count": null,
      "outputs": []
    },
    {
      "cell_type": "code",
      "metadata": {
        "id": "YuMRPXdYD9eu",
        "colab": {
          "base_uri": "https://localhost:8080/",
          "height": 355
        },
        "outputId": "1cb31395-3b35-4767-d9f1-5ca506be174a"
      },
      "source": [
        "traject_df.head(10\n",
        "                )"
      ],
      "execution_count": null,
      "outputs": [
        {
          "output_type": "execute_result",
          "data": {
            "text/html": [
              "<div>\n",
              "<style scoped>\n",
              "    .dataframe tbody tr th:only-of-type {\n",
              "        vertical-align: middle;\n",
              "    }\n",
              "\n",
              "    .dataframe tbody tr th {\n",
              "        vertical-align: top;\n",
              "    }\n",
              "\n",
              "    .dataframe thead th {\n",
              "        text-align: right;\n",
              "    }\n",
              "</style>\n",
              "<table border=\"1\" class=\"dataframe\">\n",
              "  <thead>\n",
              "    <tr style=\"text-align: right;\">\n",
              "      <th></th>\n",
              "      <th>azi</th>\n",
              "      <th>md</th>\n",
              "      <th>tvd</th>\n",
              "      <th>incl</th>\n",
              "      <th>dispNs</th>\n",
              "      <th>dispEw</th>\n",
              "      <th>TVD_calc</th>\n",
              "      <th>surfNs</th>\n",
              "      <th>surfEw</th>\n",
              "    </tr>\n",
              "  </thead>\n",
              "  <tbody>\n",
              "    <tr>\n",
              "      <th>0</th>\n",
              "      <td>0.00</td>\n",
              "      <td>0.0</td>\n",
              "      <td>0.0000</td>\n",
              "      <td>0.00</td>\n",
              "      <td>-3.1700</td>\n",
              "      <td>3.5300</td>\n",
              "      <td>0.000000</td>\n",
              "      <td>6.478560e+06</td>\n",
              "      <td>435053.550000</td>\n",
              "    </tr>\n",
              "    <tr>\n",
              "      <th>1</th>\n",
              "      <td>0.00</td>\n",
              "      <td>145.9</td>\n",
              "      <td>145.9000</td>\n",
              "      <td>0.00</td>\n",
              "      <td>-3.1700</td>\n",
              "      <td>3.5300</td>\n",
              "      <td>145.900000</td>\n",
              "      <td>6.478560e+06</td>\n",
              "      <td>435053.550000</td>\n",
              "    </tr>\n",
              "    <tr>\n",
              "      <th>2</th>\n",
              "      <td>253.69</td>\n",
              "      <td>153.4</td>\n",
              "      <td>153.4000</td>\n",
              "      <td>0.15</td>\n",
              "      <td>-3.1728</td>\n",
              "      <td>3.5206</td>\n",
              "      <td>153.399991</td>\n",
              "      <td>6.478560e+06</td>\n",
              "      <td>435053.540578</td>\n",
              "    </tr>\n",
              "    <tr>\n",
              "      <th>3</th>\n",
              "      <td>146.02</td>\n",
              "      <td>234.2</td>\n",
              "      <td>234.1996</td>\n",
              "      <td>0.28</td>\n",
              "      <td>-3.3662</td>\n",
              "      <td>3.5294</td>\n",
              "      <td>234.199630</td>\n",
              "      <td>6.478560e+06</td>\n",
              "      <td>435053.549412</td>\n",
              "    </tr>\n",
              "    <tr>\n",
              "      <th>4</th>\n",
              "      <td>136.21</td>\n",
              "      <td>274.6</td>\n",
              "      <td>274.5978</td>\n",
              "      <td>0.78</td>\n",
              "      <td>-3.6465</td>\n",
              "      <td>3.7749</td>\n",
              "      <td>274.597780</td>\n",
              "      <td>6.478560e+06</td>\n",
              "      <td>435053.794881</td>\n",
              "    </tr>\n",
              "    <tr>\n",
              "      <th>5</th>\n",
              "      <td>128.29</td>\n",
              "      <td>315.0</td>\n",
              "      <td>314.9898</td>\n",
              "      <td>1.46</td>\n",
              "      <td>-4.1640</td>\n",
              "      <td>4.3691</td>\n",
              "      <td>314.989847</td>\n",
              "      <td>6.478559e+06</td>\n",
              "      <td>435054.389145</td>\n",
              "    </tr>\n",
              "    <tr>\n",
              "      <th>6</th>\n",
              "      <td>124.07</td>\n",
              "      <td>355.3</td>\n",
              "      <td>355.2515</td>\n",
              "      <td>3.41</td>\n",
              "      <td>-5.1536</td>\n",
              "      <td>5.7651</td>\n",
              "      <td>355.251543</td>\n",
              "      <td>6.478558e+06</td>\n",
              "      <td>435055.785053</td>\n",
              "    </tr>\n",
              "    <tr>\n",
              "      <th>7</th>\n",
              "      <td>126.98</td>\n",
              "      <td>395.7</td>\n",
              "      <td>395.5379</td>\n",
              "      <td>5.13</td>\n",
              "      <td>-6.9133</td>\n",
              "      <td>8.2034</td>\n",
              "      <td>395.537936</td>\n",
              "      <td>6.478557e+06</td>\n",
              "      <td>435058.223387</td>\n",
              "    </tr>\n",
              "    <tr>\n",
              "      <th>8</th>\n",
              "      <td>139.07</td>\n",
              "      <td>436.1</td>\n",
              "      <td>435.7648</td>\n",
              "      <td>5.52</td>\n",
              "      <td>-9.4680</td>\n",
              "      <td>10.9194</td>\n",
              "      <td>435.764783</td>\n",
              "      <td>6.478554e+06</td>\n",
              "      <td>435060.939355</td>\n",
              "    </tr>\n",
              "    <tr>\n",
              "      <th>9</th>\n",
              "      <td>152.33</td>\n",
              "      <td>474.4</td>\n",
              "      <td>473.8855</td>\n",
              "      <td>5.62</td>\n",
              "      <td>-12.5207</td>\n",
              "      <td>12.9971</td>\n",
              "      <td>473.885535</td>\n",
              "      <td>6.478551e+06</td>\n",
              "      <td>435063.017149</td>\n",
              "    </tr>\n",
              "  </tbody>\n",
              "</table>\n",
              "</div>"
            ],
            "text/plain": [
              "      azi     md       tvd  ...    TVD_calc        surfNs         surfEw\n",
              "0    0.00    0.0    0.0000  ...    0.000000  6.478560e+06  435053.550000\n",
              "1    0.00  145.9  145.9000  ...  145.900000  6.478560e+06  435053.550000\n",
              "2  253.69  153.4  153.4000  ...  153.399991  6.478560e+06  435053.540578\n",
              "3  146.02  234.2  234.1996  ...  234.199630  6.478560e+06  435053.549412\n",
              "4  136.21  274.6  274.5978  ...  274.597780  6.478560e+06  435053.794881\n",
              "5  128.29  315.0  314.9898  ...  314.989847  6.478559e+06  435054.389145\n",
              "6  124.07  355.3  355.2515  ...  355.251543  6.478558e+06  435055.785053\n",
              "7  126.98  395.7  395.5379  ...  395.537936  6.478557e+06  435058.223387\n",
              "8  139.07  436.1  435.7648  ...  435.764783  6.478554e+06  435060.939355\n",
              "9  152.33  474.4  473.8855  ...  473.885535  6.478551e+06  435063.017149\n",
              "\n",
              "[10 rows x 9 columns]"
            ]
          },
          "metadata": {
            "tags": []
          },
          "execution_count": 84
        }
      ]
    },
    {
      "cell_type": "code",
      "metadata": {
        "id": "_7vZsBUaEDYE"
      },
      "source": [
        ""
      ],
      "execution_count": null,
      "outputs": []
    },
    {
      "cell_type": "markdown",
      "metadata": {
        "id": "EaElU8LvEL2m"
      },
      "source": [
        "# **This is the review of the third session**\n",
        "\n",
        "\n",
        "\n",
        "\n",
        "\n",
        "\n",
        "\n",
        "\n",
        "\n",
        "\n",
        "\n",
        "\n",
        "\n",
        "\n"
      ]
    },
    {
      "cell_type": "code",
      "metadata": {
        "id": "guv4oBB4Enva",
        "colab": {
          "base_uri": "https://localhost:8080/"
        },
        "outputId": "2556bfea-292d-42a4-e043-87d58eb5d8f8"
      },
      "source": [
        "!pip install lasio"
      ],
      "execution_count": null,
      "outputs": [
        {
          "output_type": "stream",
          "text": [
            "Requirement already satisfied: lasio in /usr/local/lib/python3.7/dist-packages (0.28)\n",
            "Requirement already satisfied: numpy in /usr/local/lib/python3.7/dist-packages (from lasio) (1.19.5)\n"
          ],
          "name": "stdout"
        }
      ]
    },
    {
      "cell_type": "code",
      "metadata": {
        "id": "fmOVas8wFvrt",
        "colab": {
          "base_uri": "https://localhost:8080/"
        },
        "outputId": "e13e9f94-4069-4f11-8e86-a1981a3b3ba7"
      },
      "source": [
        "!pip install mplstereonet"
      ],
      "execution_count": null,
      "outputs": [
        {
          "output_type": "stream",
          "text": [
            "Requirement already satisfied: mplstereonet in /usr/local/lib/python3.7/dist-packages (0.6.2)\n",
            "Requirement already satisfied: matplotlib>=1.1 in /usr/local/lib/python3.7/dist-packages (from mplstereonet) (3.2.2)\n",
            "Requirement already satisfied: numpy>=1.1 in /usr/local/lib/python3.7/dist-packages (from mplstereonet) (1.19.5)\n",
            "Requirement already satisfied: cycler>=0.10 in /usr/local/lib/python3.7/dist-packages (from matplotlib>=1.1->mplstereonet) (0.10.0)\n",
            "Requirement already satisfied: pyparsing!=2.0.4,!=2.1.2,!=2.1.6,>=2.0.1 in /usr/local/lib/python3.7/dist-packages (from matplotlib>=1.1->mplstereonet) (2.4.7)\n",
            "Requirement already satisfied: python-dateutil>=2.1 in /usr/local/lib/python3.7/dist-packages (from matplotlib>=1.1->mplstereonet) (2.8.1)\n",
            "Requirement already satisfied: kiwisolver>=1.0.1 in /usr/local/lib/python3.7/dist-packages (from matplotlib>=1.1->mplstereonet) (1.3.1)\n",
            "Requirement already satisfied: six in /usr/local/lib/python3.7/dist-packages (from cycler>=0.10->matplotlib>=1.1->mplstereonet) (1.15.0)\n"
          ],
          "name": "stdout"
        }
      ]
    },
    {
      "cell_type": "code",
      "metadata": {
        "id": "fUYbR8-zHcwN"
      },
      "source": [
        "# Importing libraries"
      ],
      "execution_count": null,
      "outputs": []
    },
    {
      "cell_type": "code",
      "metadata": {
        "id": "FwZHcmDdF2fm"
      },
      "source": [
        "import numpy as np"
      ],
      "execution_count": null,
      "outputs": []
    },
    {
      "cell_type": "code",
      "metadata": {
        "id": "9Y6y2_EIGc42"
      },
      "source": [
        "import pandas as pd"
      ],
      "execution_count": null,
      "outputs": []
    },
    {
      "cell_type": "code",
      "metadata": {
        "id": "HGlJub8bGfPO"
      },
      "source": [
        "import matplotlib.pyplot as plt"
      ],
      "execution_count": null,
      "outputs": []
    },
    {
      "cell_type": "code",
      "metadata": {
        "id": "MpLolL0PGjkD"
      },
      "source": [
        "import lasio"
      ],
      "execution_count": null,
      "outputs": []
    },
    {
      "cell_type": "code",
      "metadata": {
        "id": "-Zk8UF_oGmBL"
      },
      "source": [
        "import lasio as ls\n"
      ],
      "execution_count": null,
      "outputs": []
    },
    {
      "cell_type": "code",
      "metadata": {
        "id": "6wyGPlHdGoOU"
      },
      "source": [
        "import mplstereonet as mpl"
      ],
      "execution_count": null,
      "outputs": []
    },
    {
      "cell_type": "code",
      "metadata": {
        "id": "WH_MTuQhGvRH"
      },
      "source": [
        "import Fracture as frac"
      ],
      "execution_count": null,
      "outputs": []
    },
    {
      "cell_type": "code",
      "metadata": {
        "id": "3yp9GxzOG3dR"
      },
      "source": [
        "#imoprting Data"
      ],
      "execution_count": null,
      "outputs": []
    },
    {
      "cell_type": "code",
      "metadata": {
        "id": "8nGCgXd1HXkt"
      },
      "source": [
        "well_path = \"http://bit.ly/wireline-data\"\n"
      ],
      "execution_count": null,
      "outputs": []
    },
    {
      "cell_type": "code",
      "metadata": {
        "id": "fHEQIhUqHPaM"
      },
      "source": [
        "fracture_path = 'http://bit.ly/fractures-data'"
      ],
      "execution_count": null,
      "outputs": []
    },
    {
      "cell_type": "code",
      "metadata": {
        "id": "jOTRjxb4HJ6F"
      },
      "source": [
        "trajectory = 'http://bit.ly/trajectory-data'"
      ],
      "execution_count": null,
      "outputs": []
    },
    {
      "cell_type": "code",
      "metadata": {
        "id": "Qkfmq8KUHmoi"
      },
      "source": [
        "well = lasio.read(well_path)"
      ],
      "execution_count": null,
      "outputs": []
    },
    {
      "cell_type": "code",
      "metadata": {
        "id": "-GGjHO1gIUFF",
        "colab": {
          "base_uri": "https://localhost:8080/"
        },
        "outputId": "40e0f63e-518b-4a54-b987-1211c4b428e3"
      },
      "source": [
        "well.curves"
      ],
      "execution_count": null,
      "outputs": [
        {
          "output_type": "execute_result",
          "data": {
            "text/plain": [
              "[CurveItem(mnemonic=\"DEPT\", unit=\"m\", value=\"\", descr=\"DEPTH\", original_mnemonic=\"DEPT\", data.shape=(21386,)),\n",
              " CurveItem(mnemonic=\"LITHOLOGY_GEOLINK\", unit=\"_\", value=\"\", descr=\"Lithology_geolink\", original_mnemonic=\"LITHOLOGY_GEOLINK\", data.shape=(21386,)),\n",
              " CurveItem(mnemonic=\"CALI\", unit=\"in\", value=\"\", descr=\"CALI\", original_mnemonic=\"CALI\", data.shape=(21386,)),\n",
              " CurveItem(mnemonic=\"DRHO\", unit=\"g/cm3\", value=\"\", descr=\"DRHO\", original_mnemonic=\"DRHO\", data.shape=(21386,)),\n",
              " CurveItem(mnemonic=\"NPHI\", unit=\"m3/m3\", value=\"\", descr=\"NPHI\", original_mnemonic=\"NPHI\", data.shape=(21386,)),\n",
              " CurveItem(mnemonic=\"RHOB\", unit=\"g/cm3\", value=\"\", descr=\"RHOB\", original_mnemonic=\"RHOB\", data.shape=(21386,)),\n",
              " CurveItem(mnemonic=\"GR\", unit=\"gAPI\", value=\"\", descr=\"GR\", original_mnemonic=\"GR\", data.shape=(21386,)),\n",
              " CurveItem(mnemonic=\"DTC\", unit=\"us/ft\", value=\"\", descr=\"DTC\", original_mnemonic=\"DTC\", data.shape=(21386,)),\n",
              " CurveItem(mnemonic=\"DTE\", unit=\"us/ft\", value=\"\", descr=\"DTE\", original_mnemonic=\"DTE\", data.shape=(21386,)),\n",
              " CurveItem(mnemonic=\"RDEP\", unit=\"ohm.m\", value=\"\", descr=\"RDEP\", original_mnemonic=\"RDEP\", data.shape=(21386,)),\n",
              " CurveItem(mnemonic=\"SP\", unit=\"mV\", value=\"\", descr=\"SP\", original_mnemonic=\"SP\", data.shape=(21386,)),\n",
              " CurveItem(mnemonic=\"RSHA\", unit=\"ohm.m\", value=\"\", descr=\"RSHA\", original_mnemonic=\"RSHA\", data.shape=(21386,)),\n",
              " CurveItem(mnemonic=\"RXO\", unit=\"ohm.m\", value=\"\", descr=\"RXO\", original_mnemonic=\"RXO\", data.shape=(21386,)),\n",
              " CurveItem(mnemonic=\"RMED\", unit=\"ohm.m\", value=\"\", descr=\"RMED\", original_mnemonic=\"RMED\", data.shape=(21386,))]"
            ]
          },
          "metadata": {
            "tags": []
          },
          "execution_count": 100
        }
      ]
    },
    {
      "cell_type": "code",
      "metadata": {
        "id": "NXyqfVqUIjWJ",
        "colab": {
          "base_uri": "https://localhost:8080/"
        },
        "outputId": "8732bc63-2ae2-460d-b92f-ef32965e73b9"
      },
      "source": [
        "well.data"
      ],
      "execution_count": null,
      "outputs": [
        {
          "output_type": "execute_result",
          "data": {
            "text/plain": [
              "array([[4.93493134e+02,            nan, 1.94060001e+01, ...,\n",
              "        1.54602885e+00,            nan, 1.54602885e+00],\n",
              "       [4.93645538e+02,            nan, 1.94060001e+01, ...,\n",
              "        1.57003009e+00,            nan, 1.57003009e+00],\n",
              "       [4.93797943e+02,            nan, 1.94060001e+01, ...,\n",
              "        1.59499407e+00,            nan, 1.59499407e+00],\n",
              "       ...,\n",
              "       [3.75226196e+03,            nan, 7.55499983e+00, ...,\n",
              "        3.15799999e+00,            nan, 3.15799999e+00],\n",
              "       [3.75241431e+03,            nan, 7.55499983e+00, ...,\n",
              "        3.15799999e+00,            nan, 3.15799999e+00],\n",
              "       [3.75256665e+03,            nan, 7.55499983e+00, ...,\n",
              "        3.15799999e+00,            nan, 3.15799999e+00]])"
            ]
          },
          "metadata": {
            "tags": []
          },
          "execution_count": 101
        }
      ]
    },
    {
      "cell_type": "code",
      "metadata": {
        "id": "n6l-n-kBJB9J",
        "colab": {
          "base_uri": "https://localhost:8080/",
          "height": 435
        },
        "outputId": "ea222e04-168e-4593-a882-c7c188ae6eb0"
      },
      "source": [
        "well.df().reset_index()"
      ],
      "execution_count": null,
      "outputs": [
        {
          "output_type": "execute_result",
          "data": {
            "text/html": [
              "<div>\n",
              "<style scoped>\n",
              "    .dataframe tbody tr th:only-of-type {\n",
              "        vertical-align: middle;\n",
              "    }\n",
              "\n",
              "    .dataframe tbody tr th {\n",
              "        vertical-align: top;\n",
              "    }\n",
              "\n",
              "    .dataframe thead th {\n",
              "        text-align: right;\n",
              "    }\n",
              "</style>\n",
              "<table border=\"1\" class=\"dataframe\">\n",
              "  <thead>\n",
              "    <tr style=\"text-align: right;\">\n",
              "      <th></th>\n",
              "      <th>DEPT</th>\n",
              "      <th>LITHOLOGY_GEOLINK</th>\n",
              "      <th>CALI</th>\n",
              "      <th>DRHO</th>\n",
              "      <th>NPHI</th>\n",
              "      <th>RHOB</th>\n",
              "      <th>GR</th>\n",
              "      <th>DTC</th>\n",
              "      <th>DTE</th>\n",
              "      <th>RDEP</th>\n",
              "      <th>SP</th>\n",
              "      <th>RSHA</th>\n",
              "      <th>RXO</th>\n",
              "      <th>RMED</th>\n",
              "    </tr>\n",
              "  </thead>\n",
              "  <tbody>\n",
              "    <tr>\n",
              "      <th>0</th>\n",
              "      <td>493.493134</td>\n",
              "      <td>NaN</td>\n",
              "      <td>19.406000</td>\n",
              "      <td>-0.708</td>\n",
              "      <td>NaN</td>\n",
              "      <td>1.789</td>\n",
              "      <td>64.497482</td>\n",
              "      <td>167.582153</td>\n",
              "      <td>50815100.0</td>\n",
              "      <td>1.574993</td>\n",
              "      <td>0.694700</td>\n",
              "      <td>1.546029</td>\n",
              "      <td>NaN</td>\n",
              "      <td>1.546029</td>\n",
              "    </tr>\n",
              "    <tr>\n",
              "      <th>1</th>\n",
              "      <td>493.645538</td>\n",
              "      <td>NaN</td>\n",
              "      <td>19.406000</td>\n",
              "      <td>-0.722</td>\n",
              "      <td>NaN</td>\n",
              "      <td>1.754</td>\n",
              "      <td>62.406261</td>\n",
              "      <td>167.425064</td>\n",
              "      <td>50761636.0</td>\n",
              "      <td>1.569011</td>\n",
              "      <td>0.445339</td>\n",
              "      <td>1.570030</td>\n",
              "      <td>NaN</td>\n",
              "      <td>1.570030</td>\n",
              "    </tr>\n",
              "    <tr>\n",
              "      <th>2</th>\n",
              "      <td>493.797943</td>\n",
              "      <td>NaN</td>\n",
              "      <td>19.406000</td>\n",
              "      <td>-0.620</td>\n",
              "      <td>NaN</td>\n",
              "      <td>1.778</td>\n",
              "      <td>62.629055</td>\n",
              "      <td>167.808395</td>\n",
              "      <td>50886056.0</td>\n",
              "      <td>1.578010</td>\n",
              "      <td>0.727901</td>\n",
              "      <td>1.594994</td>\n",
              "      <td>NaN</td>\n",
              "      <td>1.594994</td>\n",
              "    </tr>\n",
              "    <tr>\n",
              "      <th>3</th>\n",
              "      <td>493.950348</td>\n",
              "      <td>NaN</td>\n",
              "      <td>19.452999</td>\n",
              "      <td>-0.648</td>\n",
              "      <td>NaN</td>\n",
              "      <td>1.642</td>\n",
              "      <td>65.998596</td>\n",
              "      <td>169.244873</td>\n",
              "      <td>51314492.0</td>\n",
              "      <td>1.586024</td>\n",
              "      <td>1.474898</td>\n",
              "      <td>1.589930</td>\n",
              "      <td>NaN</td>\n",
              "      <td>1.589930</td>\n",
              "    </tr>\n",
              "    <tr>\n",
              "      <th>4</th>\n",
              "      <td>494.102722</td>\n",
              "      <td>NaN</td>\n",
              "      <td>19.452999</td>\n",
              "      <td>-0.685</td>\n",
              "      <td>NaN</td>\n",
              "      <td>1.563</td>\n",
              "      <td>64.997223</td>\n",
              "      <td>170.635086</td>\n",
              "      <td>51763464.0</td>\n",
              "      <td>1.603011</td>\n",
              "      <td>-0.023000</td>\n",
              "      <td>1.540016</td>\n",
              "      <td>NaN</td>\n",
              "      <td>1.540016</td>\n",
              "    </tr>\n",
              "    <tr>\n",
              "      <th>...</th>\n",
              "      <td>...</td>\n",
              "      <td>...</td>\n",
              "      <td>...</td>\n",
              "      <td>...</td>\n",
              "      <td>...</td>\n",
              "      <td>...</td>\n",
              "      <td>...</td>\n",
              "      <td>...</td>\n",
              "      <td>...</td>\n",
              "      <td>...</td>\n",
              "      <td>...</td>\n",
              "      <td>...</td>\n",
              "      <td>...</td>\n",
              "      <td>...</td>\n",
              "    </tr>\n",
              "    <tr>\n",
              "      <th>21381</th>\n",
              "      <td>3751.957031</td>\n",
              "      <td>NaN</td>\n",
              "      <td>7.555000</td>\n",
              "      <td>0.085</td>\n",
              "      <td>0.13574</td>\n",
              "      <td>2.586</td>\n",
              "      <td>NaN</td>\n",
              "      <td>NaN</td>\n",
              "      <td>NaN</td>\n",
              "      <td>3.363003</td>\n",
              "      <td>70.302795</td>\n",
              "      <td>3.159997</td>\n",
              "      <td>NaN</td>\n",
              "      <td>3.159997</td>\n",
              "    </tr>\n",
              "    <tr>\n",
              "      <th>21382</th>\n",
              "      <td>3752.109375</td>\n",
              "      <td>NaN</td>\n",
              "      <td>7.555000</td>\n",
              "      <td>0.085</td>\n",
              "      <td>0.13574</td>\n",
              "      <td>2.586</td>\n",
              "      <td>NaN</td>\n",
              "      <td>NaN</td>\n",
              "      <td>NaN</td>\n",
              "      <td>3.364997</td>\n",
              "      <td>70.799194</td>\n",
              "      <td>3.158000</td>\n",
              "      <td>NaN</td>\n",
              "      <td>3.158000</td>\n",
              "    </tr>\n",
              "    <tr>\n",
              "      <th>21383</th>\n",
              "      <td>3752.261963</td>\n",
              "      <td>NaN</td>\n",
              "      <td>7.555000</td>\n",
              "      <td>0.085</td>\n",
              "      <td>0.13574</td>\n",
              "      <td>2.586</td>\n",
              "      <td>NaN</td>\n",
              "      <td>NaN</td>\n",
              "      <td>NaN</td>\n",
              "      <td>3.363006</td>\n",
              "      <td>71.544258</td>\n",
              "      <td>3.158000</td>\n",
              "      <td>NaN</td>\n",
              "      <td>3.158000</td>\n",
              "    </tr>\n",
              "    <tr>\n",
              "      <th>21384</th>\n",
              "      <td>3752.414307</td>\n",
              "      <td>NaN</td>\n",
              "      <td>7.555000</td>\n",
              "      <td>0.085</td>\n",
              "      <td>0.13574</td>\n",
              "      <td>2.586</td>\n",
              "      <td>NaN</td>\n",
              "      <td>NaN</td>\n",
              "      <td>NaN</td>\n",
              "      <td>3.364537</td>\n",
              "      <td>70.463211</td>\n",
              "      <td>3.158000</td>\n",
              "      <td>NaN</td>\n",
              "      <td>3.158000</td>\n",
              "    </tr>\n",
              "    <tr>\n",
              "      <th>21385</th>\n",
              "      <td>3752.566650</td>\n",
              "      <td>NaN</td>\n",
              "      <td>7.555000</td>\n",
              "      <td>0.085</td>\n",
              "      <td>0.13574</td>\n",
              "      <td>2.586</td>\n",
              "      <td>NaN</td>\n",
              "      <td>NaN</td>\n",
              "      <td>NaN</td>\n",
              "      <td>1.829987</td>\n",
              "      <td>71.841957</td>\n",
              "      <td>3.158000</td>\n",
              "      <td>NaN</td>\n",
              "      <td>3.158000</td>\n",
              "    </tr>\n",
              "  </tbody>\n",
              "</table>\n",
              "<p>21386 rows × 14 columns</p>\n",
              "</div>"
            ],
            "text/plain": [
              "              DEPT  LITHOLOGY_GEOLINK       CALI  ...      RSHA  RXO      RMED\n",
              "0       493.493134                NaN  19.406000  ...  1.546029  NaN  1.546029\n",
              "1       493.645538                NaN  19.406000  ...  1.570030  NaN  1.570030\n",
              "2       493.797943                NaN  19.406000  ...  1.594994  NaN  1.594994\n",
              "3       493.950348                NaN  19.452999  ...  1.589930  NaN  1.589930\n",
              "4       494.102722                NaN  19.452999  ...  1.540016  NaN  1.540016\n",
              "...            ...                ...        ...  ...       ...  ...       ...\n",
              "21381  3751.957031                NaN   7.555000  ...  3.159997  NaN  3.159997\n",
              "21382  3752.109375                NaN   7.555000  ...  3.158000  NaN  3.158000\n",
              "21383  3752.261963                NaN   7.555000  ...  3.158000  NaN  3.158000\n",
              "21384  3752.414307                NaN   7.555000  ...  3.158000  NaN  3.158000\n",
              "21385  3752.566650                NaN   7.555000  ...  3.158000  NaN  3.158000\n",
              "\n",
              "[21386 rows x 14 columns]"
            ]
          },
          "metadata": {
            "tags": []
          },
          "execution_count": 102
        }
      ]
    },
    {
      "cell_type": "code",
      "metadata": {
        "id": "2lwpLQ5zKBbV"
      },
      "source": [
        ""
      ],
      "execution_count": null,
      "outputs": []
    },
    {
      "cell_type": "code",
      "metadata": {
        "id": "dTQovIiPKyoM"
      },
      "source": [
        "log =  ['NPHI','RHOB', 'GR', 'RDEP', 'DTC']"
      ],
      "execution_count": null,
      "outputs": []
    },
    {
      "cell_type": "code",
      "metadata": {
        "id": "jAJVGpdWLSAN",
        "colab": {
          "base_uri": "https://localhost:8080/",
          "height": 611
        },
        "outputId": "74a56370-0f13-4146-e273-cf746264efbc"
      },
      "source": [
        "color = [\"cyan\", 'red', 'green', 'purple' , 'black']\n",
        "plt.figure(figsize = (8,10))\n",
        "for i in range(5):\n",
        "  plt.subplot(1,5,i+1)\n",
        "  if log[i]== 'RDEP':\n",
        "    plt.semilogx(well[log[i]], well['DEPT'], color = color[i])\n",
        "  else:\n",
        "    plt.plot(well[log[i]], well['DEPT'], color = color[i])\n",
        "    plt.ylim(3500,1000)\n",
        "    plt.grid()\n",
        "    plt.title(log[i])\n",
        "   \n",
        " \n",
        " \n",
        "plt.show()"
      ],
      "execution_count": null,
      "outputs": [
        {
          "output_type": "display_data",
          "data": {
            "image/png": "[encoded data removed]",
            "text/plain": [
              "<Figure size 576x720 with 5 Axes>"
            ]
          },
          "metadata": {
            "tags": [],
            "needs_background": "light"
          }
        }
      ]
    },
    {
      "cell_type": "code",
      "metadata": {
        "id": "RZjC6njEMn_5"
      },
      "source": [
        "#well bore trajectory equals to this visualization as shown in this picture below the code"
      ],
      "execution_count": null,
      "outputs": []
    },
    {
      "cell_type": "code",
      "metadata": {
        "id": "udN8WXRkQpg-"
      },
      "source": [
        "traject = pd.read_csv(trajectory)"
      ],
      "execution_count": null,
      "outputs": []
    },
    {
      "cell_type": "code",
      "metadata": {
        "id": "d00THsD_RCYY",
        "colab": {
          "base_uri": "https://localhost:8080/",
          "height": 415
        },
        "outputId": "b2d6d10c-04af-408d-d875-864c2f7a4aed"
      },
      "source": [
        "traject"
      ],
      "execution_count": null,
      "outputs": [
        {
          "output_type": "execute_result",
          "data": {
            "text/html": [
              "<div>\n",
              "<style scoped>\n",
              "    .dataframe tbody tr th:only-of-type {\n",
              "        vertical-align: middle;\n",
              "    }\n",
              "\n",
              "    .dataframe tbody tr th {\n",
              "        vertical-align: top;\n",
              "    }\n",
              "\n",
              "    .dataframe thead th {\n",
              "        text-align: right;\n",
              "    }\n",
              "</style>\n",
              "<table border=\"1\" class=\"dataframe\">\n",
              "  <thead>\n",
              "    <tr style=\"text-align: right;\">\n",
              "      <th></th>\n",
              "      <th>azi</th>\n",
              "      <th>md</th>\n",
              "      <th>tvd</th>\n",
              "      <th>incl</th>\n",
              "      <th>dispNs</th>\n",
              "      <th>dispEw</th>\n",
              "      <th>TVD_calc</th>\n",
              "      <th>surfNs</th>\n",
              "      <th>surfEw</th>\n",
              "    </tr>\n",
              "  </thead>\n",
              "  <tbody>\n",
              "    <tr>\n",
              "      <th>0</th>\n",
              "      <td>0.00</td>\n",
              "      <td>0.0000</td>\n",
              "      <td>0.0000</td>\n",
              "      <td>0.00</td>\n",
              "      <td>-3.1700</td>\n",
              "      <td>3.5300</td>\n",
              "      <td>0.000000</td>\n",
              "      <td>6.478560e+06</td>\n",
              "      <td>435053.550000</td>\n",
              "    </tr>\n",
              "    <tr>\n",
              "      <th>1</th>\n",
              "      <td>0.00</td>\n",
              "      <td>145.9000</td>\n",
              "      <td>145.9000</td>\n",
              "      <td>0.00</td>\n",
              "      <td>-3.1700</td>\n",
              "      <td>3.5300</td>\n",
              "      <td>145.900000</td>\n",
              "      <td>6.478560e+06</td>\n",
              "      <td>435053.550000</td>\n",
              "    </tr>\n",
              "    <tr>\n",
              "      <th>2</th>\n",
              "      <td>253.69</td>\n",
              "      <td>153.4000</td>\n",
              "      <td>153.4000</td>\n",
              "      <td>0.15</td>\n",
              "      <td>-3.1728</td>\n",
              "      <td>3.5206</td>\n",
              "      <td>153.399991</td>\n",
              "      <td>6.478560e+06</td>\n",
              "      <td>435053.540578</td>\n",
              "    </tr>\n",
              "    <tr>\n",
              "      <th>3</th>\n",
              "      <td>146.02</td>\n",
              "      <td>234.2000</td>\n",
              "      <td>234.1996</td>\n",
              "      <td>0.28</td>\n",
              "      <td>-3.3662</td>\n",
              "      <td>3.5294</td>\n",
              "      <td>234.199630</td>\n",
              "      <td>6.478560e+06</td>\n",
              "      <td>435053.549412</td>\n",
              "    </tr>\n",
              "    <tr>\n",
              "      <th>4</th>\n",
              "      <td>136.21</td>\n",
              "      <td>274.6000</td>\n",
              "      <td>274.5978</td>\n",
              "      <td>0.78</td>\n",
              "      <td>-3.6465</td>\n",
              "      <td>3.7749</td>\n",
              "      <td>274.597780</td>\n",
              "      <td>6.478560e+06</td>\n",
              "      <td>435053.794881</td>\n",
              "    </tr>\n",
              "    <tr>\n",
              "      <th>...</th>\n",
              "      <td>...</td>\n",
              "      <td>...</td>\n",
              "      <td>...</td>\n",
              "      <td>...</td>\n",
              "      <td>...</td>\n",
              "      <td>...</td>\n",
              "      <td>...</td>\n",
              "      <td>...</td>\n",
              "      <td>...</td>\n",
              "    </tr>\n",
              "    <tr>\n",
              "      <th>109</th>\n",
              "      <td>107.51</td>\n",
              "      <td>4524.2000</td>\n",
              "      <td>3185.9439</td>\n",
              "      <td>77.65</td>\n",
              "      <td>201.7164</td>\n",
              "      <td>1449.4273</td>\n",
              "      <td>3185.943916</td>\n",
              "      <td>6.478765e+06</td>\n",
              "      <td>436499.447329</td>\n",
              "    </tr>\n",
              "    <tr>\n",
              "      <th>110</th>\n",
              "      <td>107.84</td>\n",
              "      <td>4564.9000</td>\n",
              "      <td>3193.8139</td>\n",
              "      <td>80.05</td>\n",
              "      <td>189.5929</td>\n",
              "      <td>1487.4710</td>\n",
              "      <td>3193.813855</td>\n",
              "      <td>6.478753e+06</td>\n",
              "      <td>436537.491089</td>\n",
              "    </tr>\n",
              "    <tr>\n",
              "      <th>111</th>\n",
              "      <td>108.48</td>\n",
              "      <td>4605.4030</td>\n",
              "      <td>3200.1182</td>\n",
              "      <td>82.04</td>\n",
              "      <td>177.1232</td>\n",
              "      <td>1525.4852</td>\n",
              "      <td>3200.118246</td>\n",
              "      <td>6.478741e+06</td>\n",
              "      <td>436575.505217</td>\n",
              "    </tr>\n",
              "    <tr>\n",
              "      <th>112</th>\n",
              "      <td>108.37</td>\n",
              "      <td>4645.7049</td>\n",
              "      <td>3205.6993</td>\n",
              "      <td>82.04</td>\n",
              "      <td>164.5080</td>\n",
              "      <td>1563.3527</td>\n",
              "      <td>3205.699325</td>\n",
              "      <td>6.478728e+06</td>\n",
              "      <td>436613.372759</td>\n",
              "    </tr>\n",
              "    <tr>\n",
              "      <th>113</th>\n",
              "      <td>107.27</td>\n",
              "      <td>4671.0000</td>\n",
              "      <td>3209.7608</td>\n",
              "      <td>79.48</td>\n",
              "      <td>156.8674</td>\n",
              "      <td>1587.1191</td>\n",
              "      <td>3209.760750</td>\n",
              "      <td>6.478720e+06</td>\n",
              "      <td>436637.139167</td>\n",
              "    </tr>\n",
              "  </tbody>\n",
              "</table>\n",
              "<p>114 rows × 9 columns</p>\n",
              "</div>"
            ],
            "text/plain": [
              "        azi         md        tvd  ...     TVD_calc        surfNs         surfEw\n",
              "0      0.00     0.0000     0.0000  ...     0.000000  6.478560e+06  435053.550000\n",
              "1      0.00   145.9000   145.9000  ...   145.900000  6.478560e+06  435053.550000\n",
              "2    253.69   153.4000   153.4000  ...   153.399991  6.478560e+06  435053.540578\n",
              "3    146.02   234.2000   234.1996  ...   234.199630  6.478560e+06  435053.549412\n",
              "4    136.21   274.6000   274.5978  ...   274.597780  6.478560e+06  435053.794881\n",
              "..      ...        ...        ...  ...          ...           ...            ...\n",
              "109  107.51  4524.2000  3185.9439  ...  3185.943916  6.478765e+06  436499.447329\n",
              "110  107.84  4564.9000  3193.8139  ...  3193.813855  6.478753e+06  436537.491089\n",
              "111  108.48  4605.4030  3200.1182  ...  3200.118246  6.478741e+06  436575.505217\n",
              "112  108.37  4645.7049  3205.6993  ...  3205.699325  6.478728e+06  436613.372759\n",
              "113  107.27  4671.0000  3209.7608  ...  3209.760750  6.478720e+06  436637.139167\n",
              "\n",
              "[114 rows x 9 columns]"
            ]
          },
          "metadata": {
            "tags": []
          },
          "execution_count": 107
        }
      ]
    },
    {
      "cell_type": "code",
      "metadata": {
        "id": "kPpI3DzcRE82"
      },
      "source": [
        "x = traject[\"surfEw\"].values\n",
        "y = traject['surfNs'].values\n",
        "z= traject['tvd'].values"
      ],
      "execution_count": null,
      "outputs": []
    },
    {
      "cell_type": "markdown",
      "metadata": {
        "id": "mvW01sOqMz3X"
      },
      "source": [
        ""
      ]
    },
    {
      "cell_type": "code",
      "metadata": {
        "id": "__9u5yIbO5cL"
      },
      "source": [
        "import plotly.express as px"
      ],
      "execution_count": null,
      "outputs": []
    },
    {
      "cell_type": "code",
      "metadata": {
        "id": "wlY-9B66PEjg"
      },
      "source": [
        "import matplotlib.pyplot as plt\n"
      ],
      "execution_count": null,
      "outputs": []
    },
    {
      "cell_type": "code",
      "metadata": {
        "id": "sSOcnvF-PTn3",
        "colab": {
          "base_uri": "https://localhost:8080/",
          "height": 542
        },
        "outputId": "b10374c9-00d8-407a-eaf0-764f8e04792d"
      },
      "source": [
        "fig = px.scatter_3d(traject, x, y , z, color = \"azi\")\n",
        "fig.update_scenes(zaxis_autorange = 'reversed')"
      ],
      "execution_count": null,
      "outputs": [
        {
          "output_type": "display_data",
          "data": {
            "text/html": [
              "<html>\n",
              "<head><meta charset=\"utf-8\" /></head>\n",
              "<body>\n",
              "    <div>\n",
              "            <script src=\"https://cdnjs.cloudflare.com/ajax/libs/mathjax/2.7.5/MathJax.js?config=TeX-AMS-MML_SVG\"></script><script type=\"text/javascript\">if (window.MathJax) {MathJax.Hub.Config({SVG: {font: \"STIX-Web\"}});}</script>\n",
              "                <script type=\"text/javascript\">window.PlotlyConfig = {MathJaxConfig: 'local'};</script>\n",
              "        <script src=\"https://cdn.plot.ly/plotly-latest.min.js\"></script>    \n",
              "            <div id=\"ca83c4b1-439b-4f46-8ef1-0d397fdb05d3\" class=\"plotly-graph-div\" style=\"height:525px; width:100%;\"></div>\n",
              "            <script type=\"text/javascript\">\n",
              "                \n",
              "                    window.PLOTLYENV=window.PLOTLYENV || {};\n",
              "                    \n",
              "                if (document.getElementById(\"ca83c4b1-439b-4f46-8ef1-0d397fdb05d3\")) {\n",
              "                    Plotly.newPlot(\n",
              "                        'ca83c4b1-439b-4f46-8ef1-0d397fdb05d3',\n",
              "                        [{\"hoverlabel\": {\"namelength\": 0}, \"hovertemplate\": \"x=%{x}<br>y=%{y}<br>z=%{z}<br>azi=%{marker.color}\", \"legendgroup\": \"\", \"marker\": {\"color\": [0.0, 0.0, 253.69, 146.02, 136.21, 128.29, 124.07, 126.98, 139.07, 152.33, 163.05, 171.79, 174.05, 174.54, 175.57, 177.45, 185.51, 193.59, 199.13, 201.54, 203.3, 201.31, 200.62, 201.19, 205.25, 211.88, 221.21, 230.28, 232.77, 237.03, 241.08, 243.03, 245.03, 249.87, 266.07, 273.32, 280.28, 294.29, 309.35, 316.07, 323.84, 335.44, 344.61, 351.8701, 357.3501, 2.38, 3.22, 3.94, 4.37, 4.6, 3.84, 3.56, 4.21, 4.76, 3.51, 3.86, 9.05, 13.28, 17.8298, 25.3, 32.46, 36.04, 37.52, 42.15, 44.94, 46.98, 47.94, 47.55, 46.75, 46.48, 48.54, 52.4202, 56.67, 61.23, 66.91, 71.45, 75.71, 81.1, 85.66, 89.38, 92.97, 96.73, 101.82, 106.98, 107.38, 107.41, 107.4605, 108.18, 106.58, 104.51, 105.01, 107.78, 109.3499, 109.47, 111.6, 111.64, 112.17, 111.29, 109.65, 109.69, 109.31, 108.7598, 107.19, 106.62, 106.47, 106.91, 107.23, 107.82, 108.06, 107.51, 107.84, 108.48, 108.37, 107.27], \"coloraxis\": \"coloraxis\", \"symbol\": \"circle\"}, \"mode\": \"markers\", \"name\": \"\", \"scene\": \"scene\", \"showlegend\": false, \"type\": \"scatter3d\", \"x\": [435053.55, 435053.55, 435053.54057762, 435053.5494120604, 435053.79488080624, 435054.38914471905, 435055.78505257814, 435058.2233865417, 435060.9393552046, 435063.0171485978, 435064.57083034655, 435065.6053765169, 435066.2404366528, 435066.8048171376, 435067.33105095796, 435067.71841434616, 435067.52011841687, 435066.19788010133, 435063.6540758033, 435060.159934287, 435056.3276530553, 435052.59076706704, 435048.7365733552, 435044.65189727844, 435040.2087177601, 435034.59166463563, 435027.35570752155, 435019.02071663376, 435010.4938274131, 435000.931094256, 434989.27529509936, 434975.3482385053, 434966.4976657146, 434959.5481556844, 434939.19805576414, 434925.9342999829, 434913.7897750809, 434903.54622947314, 434894.7343156626, 434886.76963943103, 434879.515268258, 434873.30788149405, 434868.7684749332, 434865.74594153994, 434864.22607325023, 434864.20850214135, 434865.15584392904, 434866.4206998466, 434867.88262427243, 434869.4562596856, 434870.9434088149, 434872.2410029571, 434873.592984094, 434876.7267907568, 434878.1863960351, 434878.717646026, 434882.3158108249, 434886.15448932385, 434891.36275290826, 434899.13679904287, 434909.08853884967, 434920.1148963469, 434929.33768834354, 434943.015435646, 434959.75281370827, 434978.66919105424, 434999.300578448, 435021.5189355395, 435045.1614271907, 435069.5391763279, 435095.52255474, 435122.7706620515, 435152.1414548871, 435183.1923179576, 435215.45645313174, 435249.0742867725, 435283.67472696, 435319.0804441023, 435355.2010097015, 435428.09268035786, 435466.315489049, 435504.64425394975, 435542.7977950097, 435578.79828015866, 435615.7874661252, 435653.46664500725, 435690.6316715828, 435728.85228674463, 435766.1390425945, 435803.9934254289, 435840.43997665495, 435872.5949536817, 435910.2485332763, 435944.9679265329, 435979.80718149396, 436015.2951496968, 436051.9506285463, 436088.094728524, 436124.28306320345, 436161.0063350776, 436172.58025782654, 436198.56290525023, 436235.71472349955, 436273.84060317173, 436311.4716370316, 436348.6992971194, 436387.1230192634, 436424.0564863056, 436461.77246331185, 436499.44732943224, 436537.4910890553, 436575.5052166848, 436613.3727586118, 436637.13916685205], \"y\": [6478560.36, 6478560.36, 6478560.357242919, 6478560.163823224, 6478559.883456462, 6478559.366027841, 6478558.376380455, 6478556.616660709, 6478554.062040673, 6478551.009293675, 6478547.173719358, 6478542.430064531, 6478537.277227344, 6478531.616620143, 6478525.518149395, 6478519.129192029, 6478512.286175082, 6478504.672333844, 6478496.11249603, 6478486.714403889, 6478477.40627245, 6478468.284396253, 6478458.21422485, 6478447.519465214, 6478437.15818623, 6478426.896290353, 6478417.138996364, 6478408.958008446, 6478402.174721222, 6478395.497589173, 6478388.550776902, 6478381.184658652, 6478376.862792776, 6478373.97362435, 6478369.521635756, 6478369.423793641, 6478370.824758613, 6478373.960792897, 6478379.435967757, 6478386.797765917, 6478395.4777848935, 6478406.21352262, 6478418.8328588065, 6478433.588715045, 6478450.093058012, 6478468.141746152, 6478487.382686432, 6478507.591623959, 6478527.715622817, 6478547.777782013, 6478567.921293332, 6478587.986583319, 6478607.894454568, 6478647.846589969, 6478668.041313036, 6478676.290295833, 6478708.067605843, 6478727.516124081, 6478746.227313038, 6478765.89637347, 6478783.922004797, 6478800.123891722, 6478812.459578638, 6478828.7812788915, 6478846.348027113, 6478864.617605804, 6478883.537740051, 6478903.72765222, 6478925.668638278, 6478948.712013124, 6478972.497526941, 6478994.974477735, 6479015.889086141, 6479034.583226215, 6479050.266202313, 6479063.049716608, 6479073.2458803775, 6479080.498786781, 6479084.681030478, 6479087.834479218, 6479087.043716783, 6479083.787694504, 6479077.548887765, 6479068.290863793, 6479056.855408927, 6479045.050995584, 6479033.379002565, 6479021.092304273, 6479009.420629771, 6478998.882849435, 6478989.282797357, 6478979.831584267, 6478967.185191087, 6478954.951786732, 6478941.8956641415, 6478927.830509245, 6478913.089478132, 6478898.684044517, 6478885.175553254, 6478872.048347661, 6478867.949826619, 6478858.986017209, 6478846.932804444, 6478835.345603392, 6478824.166633646, 6478813.005298544, 6478801.207014582, 6478789.543065699, 6478777.332009509, 6478765.246313355, 6478753.122790532, 6478740.65313866, 6478728.037930162, 6478720.397304005], \"z\": [0.0, 145.9, 153.4, 234.1996, 274.5978, 314.9898, 355.2515, 395.5379, 435.7648, 473.8855, 514.0722, 556.0917, 596.1565, 636.0526, 675.9861, 715.7744, 755.5888, 795.2401, 834.6384, 873.6698, 912.7946, 951.9730000000001, 990.8016, 1029.6498, 1068.3402, 1107.0064, 1145.4276, 1184.0976, 1222.8962, 1261.6754, 1299.6163, 1336.8104, 1359.6786, 1378.6367, 1434.5561, 1472.8184, 1511.9483, 1550.4757, 1589.2055, 1628.7432, 1667.7319, 1706.2774, 1743.6369, 1781.3326, 1818.2798, 1854.8658, 1890.2587, 1925.2179999999998, 1959.8719, 1994.4411, 2029.4335, 2064.5854, 2099.4836, 2169.5299, 2204.8360000000002, 2219.2315, 2274.8929, 2309.2867, 2342.988, 2379.7278, 2415.1747, 2448.8909, 2475.4474, 2509.1798, 2542.0881, 2573.1415, 2602.1203, 2628.991, 2653.63, 2675.402, 2694.9595, 2713.0686, 2731.4966, 2749.9944, 2768.1064, 2786.0448, 2803.9985, 2821.3413, 2837.4979, 2868.281, 2883.6186, 2898.0736, 2911.6863, 2923.0943, 2934.2767, 2944.9194, 2953.5448, 2961.3524, 2968.9265, 2978.6778, 2991.4315, 3005.3557, 3023.0878, 3039.489, 3055.2231, 3069.325, 3081.3325, 3091.8277, 3102.2114, 3111.9567, 3114.7834, 3120.6257, 3128.2681, 3136.0463, 3143.7232, 3151.8177, 3161.3045, 3170.0012, 3177.7825, 3185.9439, 3193.8139, 3200.1182, 3205.6993, 3209.7608]}],\n",
              "                        {\"coloraxis\": {\"colorbar\": {\"title\": {\"text\": \"azi\"}}, \"colorscale\": [[0.0, \"#0d0887\"], [0.1111111111111111, \"#46039f\"], [0.2222222222222222, \"#7201a8\"], [0.3333333333333333, \"#9c179e\"], [0.4444444444444444, \"#bd3786\"], [0.5555555555555556, \"#d8576b\"], [0.6666666666666666, \"#ed7953\"], [0.7777777777777778, \"#fb9f3a\"], [0.8888888888888888, \"#fdca26\"], [1.0, \"#f0f921\"]]}, \"legend\": {\"tracegroupgap\": 0}, \"margin\": {\"t\": 60}, \"scene\": {\"domain\": {\"x\": [0.0, 1.0], \"y\": [0.0, 1.0]}, \"xaxis\": {\"title\": {\"text\": \"x\"}}, \"yaxis\": {\"title\": {\"text\": \"y\"}}, \"zaxis\": {\"autorange\": \"reversed\", \"title\": {\"text\": \"z\"}}}, \"template\": {\"data\": {\"bar\": [{\"error_x\": {\"color\": \"#2a3f5f\"}, \"error_y\": {\"color\": \"#2a3f5f\"}, \"marker\": {\"line\": {\"color\": \"#E5ECF6\", \"width\": 0.5}}, \"type\": \"bar\"}], \"barpolar\": [{\"marker\": {\"line\": {\"color\": \"#E5ECF6\", \"width\": 0.5}}, \"type\": \"barpolar\"}], \"carpet\": [{\"aaxis\": {\"endlinecolor\": \"#2a3f5f\", \"gridcolor\": \"white\", \"linecolor\": \"white\", \"minorgridcolor\": \"white\", \"startlinecolor\": \"#2a3f5f\"}, \"baxis\": {\"endlinecolor\": \"#2a3f5f\", \"gridcolor\": \"white\", \"linecolor\": \"white\", \"minorgridcolor\": \"white\", \"startlinecolor\": \"#2a3f5f\"}, \"type\": \"carpet\"}], \"choropleth\": [{\"colorbar\": {\"outlinewidth\": 0, \"ticks\": \"\"}, \"type\": \"choropleth\"}], \"contour\": [{\"colorbar\": {\"outlinewidth\": 0, \"ticks\": \"\"}, \"colorscale\": [[0.0, \"#0d0887\"], [0.1111111111111111, \"#46039f\"], [0.2222222222222222, \"#7201a8\"], [0.3333333333333333, \"#9c179e\"], [0.4444444444444444, \"#bd3786\"], [0.5555555555555556, \"#d8576b\"], [0.6666666666666666, \"#ed7953\"], [0.7777777777777778, \"#fb9f3a\"], [0.8888888888888888, \"#fdca26\"], [1.0, \"#f0f921\"]], \"type\": \"contour\"}], \"contourcarpet\": [{\"colorbar\": {\"outlinewidth\": 0, \"ticks\": \"\"}, \"type\": \"contourcarpet\"}], \"heatmap\": [{\"colorbar\": {\"outlinewidth\": 0, \"ticks\": \"\"}, \"colorscale\": [[0.0, \"#0d0887\"], [0.1111111111111111, \"#46039f\"], [0.2222222222222222, \"#7201a8\"], [0.3333333333333333, \"#9c179e\"], [0.4444444444444444, \"#bd3786\"], [0.5555555555555556, \"#d8576b\"], [0.6666666666666666, \"#ed7953\"], [0.7777777777777778, \"#fb9f3a\"], [0.8888888888888888, \"#fdca26\"], [1.0, \"#f0f921\"]], \"type\": \"heatmap\"}], \"heatmapgl\": [{\"colorbar\": {\"outlinewidth\": 0, \"ticks\": \"\"}, \"colorscale\": [[0.0, \"#0d0887\"], [0.1111111111111111, \"#46039f\"], [0.2222222222222222, \"#7201a8\"], [0.3333333333333333, \"#9c179e\"], [0.4444444444444444, \"#bd3786\"], [0.5555555555555556, \"#d8576b\"], [0.6666666666666666, \"#ed7953\"], [0.7777777777777778, \"#fb9f3a\"], [0.8888888888888888, \"#fdca26\"], [1.0, \"#f0f921\"]], \"type\": \"heatmapgl\"}], \"histogram\": [{\"marker\": {\"colorbar\": {\"outlinewidth\": 0, \"ticks\": \"\"}}, \"type\": \"histogram\"}], \"histogram2d\": [{\"colorbar\": {\"outlinewidth\": 0, \"ticks\": \"\"}, \"colorscale\": [[0.0, \"#0d0887\"], [0.1111111111111111, \"#46039f\"], [0.2222222222222222, \"#7201a8\"], [0.3333333333333333, \"#9c179e\"], [0.4444444444444444, \"#bd3786\"], [0.5555555555555556, \"#d8576b\"], [0.6666666666666666, \"#ed7953\"], [0.7777777777777778, \"#fb9f3a\"], [0.8888888888888888, \"#fdca26\"], [1.0, \"#f0f921\"]], \"type\": \"histogram2d\"}], \"histogram2dcontour\": [{\"colorbar\": {\"outlinewidth\": 0, \"ticks\": \"\"}, \"colorscale\": [[0.0, \"#0d0887\"], [0.1111111111111111, \"#46039f\"], [0.2222222222222222, \"#7201a8\"], [0.3333333333333333, \"#9c179e\"], [0.4444444444444444, \"#bd3786\"], [0.5555555555555556, \"#d8576b\"], [0.6666666666666666, \"#ed7953\"], [0.7777777777777778, \"#fb9f3a\"], [0.8888888888888888, \"#fdca26\"], [1.0, \"#f0f921\"]], \"type\": \"histogram2dcontour\"}], \"mesh3d\": [{\"colorbar\": {\"outlinewidth\": 0, \"ticks\": \"\"}, \"type\": \"mesh3d\"}], \"parcoords\": [{\"line\": {\"colorbar\": {\"outlinewidth\": 0, \"ticks\": \"\"}}, \"type\": \"parcoords\"}], \"pie\": [{\"automargin\": true, \"type\": \"pie\"}], \"scatter\": [{\"marker\": {\"colorbar\": {\"outlinewidth\": 0, \"ticks\": \"\"}}, \"type\": \"scatter\"}], \"scatter3d\": [{\"line\": {\"colorbar\": {\"outlinewidth\": 0, \"ticks\": \"\"}}, \"marker\": {\"colorbar\": {\"outlinewidth\": 0, \"ticks\": \"\"}}, \"type\": \"scatter3d\"}], \"scattercarpet\": [{\"marker\": {\"colorbar\": {\"outlinewidth\": 0, \"ticks\": \"\"}}, \"type\": \"scattercarpet\"}], \"scattergeo\": [{\"marker\": {\"colorbar\": {\"outlinewidth\": 0, \"ticks\": \"\"}}, \"type\": \"scattergeo\"}], \"scattergl\": [{\"marker\": {\"colorbar\": {\"outlinewidth\": 0, \"ticks\": \"\"}}, \"type\": \"scattergl\"}], \"scattermapbox\": [{\"marker\": {\"colorbar\": {\"outlinewidth\": 0, \"ticks\": \"\"}}, \"type\": \"scattermapbox\"}], \"scatterpolar\": [{\"marker\": {\"colorbar\": {\"outlinewidth\": 0, \"ticks\": \"\"}}, \"type\": \"scatterpolar\"}], \"scatterpolargl\": [{\"marker\": {\"colorbar\": {\"outlinewidth\": 0, \"ticks\": \"\"}}, \"type\": \"scatterpolargl\"}], \"scatterternary\": [{\"marker\": {\"colorbar\": {\"outlinewidth\": 0, \"ticks\": \"\"}}, \"type\": \"scatterternary\"}], \"surface\": [{\"colorbar\": {\"outlinewidth\": 0, \"ticks\": \"\"}, \"colorscale\": [[0.0, \"#0d0887\"], [0.1111111111111111, \"#46039f\"], [0.2222222222222222, \"#7201a8\"], [0.3333333333333333, \"#9c179e\"], [0.4444444444444444, \"#bd3786\"], [0.5555555555555556, \"#d8576b\"], [0.6666666666666666, \"#ed7953\"], [0.7777777777777778, \"#fb9f3a\"], [0.8888888888888888, \"#fdca26\"], [1.0, \"#f0f921\"]], \"type\": \"surface\"}], \"table\": [{\"cells\": {\"fill\": {\"color\": \"#EBF0F8\"}, \"line\": {\"color\": \"white\"}}, \"header\": {\"fill\": {\"color\": \"#C8D4E3\"}, \"line\": {\"color\": \"white\"}}, \"type\": \"table\"}]}, \"layout\": {\"annotationdefaults\": {\"arrowcolor\": \"#2a3f5f\", \"arrowhead\": 0, \"arrowwidth\": 1}, \"coloraxis\": {\"colorbar\": {\"outlinewidth\": 0, \"ticks\": \"\"}}, \"colorscale\": {\"diverging\": [[0, \"#8e0152\"], [0.1, \"#c51b7d\"], [0.2, \"#de77ae\"], [0.3, \"#f1b6da\"], [0.4, \"#fde0ef\"], [0.5, \"#f7f7f7\"], [0.6, \"#e6f5d0\"], [0.7, \"#b8e186\"], [0.8, \"#7fbc41\"], [0.9, \"#4d9221\"], [1, \"#276419\"]], \"sequential\": [[0.0, \"#0d0887\"], [0.1111111111111111, \"#46039f\"], [0.2222222222222222, \"#7201a8\"], [0.3333333333333333, \"#9c179e\"], [0.4444444444444444, \"#bd3786\"], [0.5555555555555556, \"#d8576b\"], [0.6666666666666666, \"#ed7953\"], [0.7777777777777778, \"#fb9f3a\"], [0.8888888888888888, \"#fdca26\"], [1.0, \"#f0f921\"]], \"sequentialminus\": [[0.0, \"#0d0887\"], [0.1111111111111111, \"#46039f\"], [0.2222222222222222, \"#7201a8\"], [0.3333333333333333, \"#9c179e\"], [0.4444444444444444, \"#bd3786\"], [0.5555555555555556, \"#d8576b\"], [0.6666666666666666, \"#ed7953\"], [0.7777777777777778, \"#fb9f3a\"], [0.8888888888888888, \"#fdca26\"], [1.0, \"#f0f921\"]]}, \"colorway\": [\"#636efa\", \"#EF553B\", \"#00cc96\", \"#ab63fa\", \"#FFA15A\", \"#19d3f3\", \"#FF6692\", \"#B6E880\", \"#FF97FF\", \"#FECB52\"], \"font\": {\"color\": \"#2a3f5f\"}, \"geo\": {\"bgcolor\": \"white\", \"lakecolor\": \"white\", \"landcolor\": \"#E5ECF6\", \"showlakes\": true, \"showland\": true, \"subunitcolor\": \"white\"}, \"hoverlabel\": {\"align\": \"left\"}, \"hovermode\": \"closest\", \"mapbox\": {\"style\": \"light\"}, \"paper_bgcolor\": \"white\", \"plot_bgcolor\": \"#E5ECF6\", \"polar\": {\"angularaxis\": {\"gridcolor\": \"white\", \"linecolor\": \"white\", \"ticks\": \"\"}, \"bgcolor\": \"#E5ECF6\", \"radialaxis\": {\"gridcolor\": \"white\", \"linecolor\": \"white\", \"ticks\": \"\"}}, \"scene\": {\"xaxis\": {\"backgroundcolor\": \"#E5ECF6\", \"gridcolor\": \"white\", \"gridwidth\": 2, \"linecolor\": \"white\", \"showbackground\": true, \"ticks\": \"\", \"zerolinecolor\": \"white\"}, \"yaxis\": {\"backgroundcolor\": \"#E5ECF6\", \"gridcolor\": \"white\", \"gridwidth\": 2, \"linecolor\": \"white\", \"showbackground\": true, \"ticks\": \"\", \"zerolinecolor\": \"white\"}, \"zaxis\": {\"backgroundcolor\": \"#E5ECF6\", \"gridcolor\": \"white\", \"gridwidth\": 2, \"linecolor\": \"white\", \"showbackground\": true, \"ticks\": \"\", \"zerolinecolor\": \"white\"}}, \"shapedefaults\": {\"line\": {\"color\": \"#2a3f5f\"}}, \"ternary\": {\"aaxis\": {\"gridcolor\": \"white\", \"linecolor\": \"white\", \"ticks\": \"\"}, \"baxis\": {\"gridcolor\": \"white\", \"linecolor\": \"white\", \"ticks\": \"\"}, \"bgcolor\": \"#E5ECF6\", \"caxis\": {\"gridcolor\": \"white\", \"linecolor\": \"white\", \"ticks\": \"\"}}, \"title\": {\"x\": 0.05}, \"xaxis\": {\"automargin\": true, \"gridcolor\": \"white\", \"linecolor\": \"white\", \"ticks\": \"\", \"title\": {\"standoff\": 15}, \"zerolinecolor\": \"white\", \"zerolinewidth\": 2}, \"yaxis\": {\"automargin\": true, \"gridcolor\": \"white\", \"linecolor\": \"white\", \"ticks\": \"\", \"title\": {\"standoff\": 15}, \"zerolinecolor\": \"white\", \"zerolinewidth\": 2}}}},\n",
              "                        {\"responsive\": true}\n",
              "                    ).then(function(){\n",
              "                            \n",
              "var gd = document.getElementById('ca83c4b1-439b-4f46-8ef1-0d397fdb05d3');\n",
              "var x = new MutationObserver(function (mutations, observer) {{\n",
              "        var display = window.getComputedStyle(gd).display;\n",
              "        if (!display || display === 'none') {{\n",
              "            console.log([gd, 'removed!']);\n",
              "            Plotly.purge(gd);\n",
              "            observer.disconnect();\n",
              "        }}\n",
              "}});\n",
              "\n",
              "// Listen for the removal of the full notebook cells\n",
              "var notebookContainer = gd.closest('#notebook-container');\n",
              "if (notebookContainer) {{\n",
              "    x.observe(notebookContainer, {childList: true});\n",
              "}}\n",
              "\n",
              "// Listen for the clearing of the current output cell\n",
              "var outputEl = gd.closest('.output');\n",
              "if (outputEl) {{\n",
              "    x.observe(outputEl, {childList: true});\n",
              "}}\n",
              "\n",
              "                        })\n",
              "                };\n",
              "                \n",
              "            </script>\n",
              "        </div>\n",
              "</body>\n",
              "</html>"
            ]
          },
          "metadata": {
            "tags": []
          }
        }
      ]
    },
    {
      "cell_type": "code",
      "metadata": {
        "id": "6_2hdb6qRZLy",
        "colab": {
          "base_uri": "https://localhost:8080/",
          "height": 542
        },
        "outputId": "3c054127-ccda-4790-ddea-0aa2007560cd"
      },
      "source": [
        "fig.show()"
      ],
      "execution_count": null,
      "outputs": [
        {
          "output_type": "display_data",
          "data": {
            "text/html": [
              "<html>\n",
              "<head><meta charset=\"utf-8\" /></head>\n",
              "<body>\n",
              "    <div>\n",
              "            <script src=\"https://cdnjs.cloudflare.com/ajax/libs/mathjax/2.7.5/MathJax.js?config=TeX-AMS-MML_SVG\"></script><script type=\"text/javascript\">if (window.MathJax) {MathJax.Hub.Config({SVG: {font: \"STIX-Web\"}});}</script>\n",
              "                <script type=\"text/javascript\">window.PlotlyConfig = {MathJaxConfig: 'local'};</script>\n",
              "        <script src=\"https://cdn.plot.ly/plotly-latest.min.js\"></script>    \n",
              "            <div id=\"57c7aea7-8119-40b6-9b2b-422ec15c1399\" class=\"plotly-graph-div\" style=\"height:525px; width:100%;\"></div>\n",
              "            <script type=\"text/javascript\">\n",
              "                \n",
              "                    window.PLOTLYENV=window.PLOTLYENV || {};\n",
              "                    \n",
              "                if (document.getElementById(\"57c7aea7-8119-40b6-9b2b-422ec15c1399\")) {\n",
              "                    Plotly.newPlot(\n",
              "                        '57c7aea7-8119-40b6-9b2b-422ec15c1399',\n",
              "                        [{\"hoverlabel\": {\"namelength\": 0}, \"hovertemplate\": \"x=%{x}<br>y=%{y}<br>z=%{z}<br>azi=%{marker.color}\", \"legendgroup\": \"\", \"marker\": {\"color\": [0.0, 0.0, 253.69, 146.02, 136.21, 128.29, 124.07, 126.98, 139.07, 152.33, 163.05, 171.79, 174.05, 174.54, 175.57, 177.45, 185.51, 193.59, 199.13, 201.54, 203.3, 201.31, 200.62, 201.19, 205.25, 211.88, 221.21, 230.28, 232.77, 237.03, 241.08, 243.03, 245.03, 249.87, 266.07, 273.32, 280.28, 294.29, 309.35, 316.07, 323.84, 335.44, 344.61, 351.8701, 357.3501, 2.38, 3.22, 3.94, 4.37, 4.6, 3.84, 3.56, 4.21, 4.76, 3.51, 3.86, 9.05, 13.28, 17.8298, 25.3, 32.46, 36.04, 37.52, 42.15, 44.94, 46.98, 47.94, 47.55, 46.75, 46.48, 48.54, 52.4202, 56.67, 61.23, 66.91, 71.45, 75.71, 81.1, 85.66, 89.38, 92.97, 96.73, 101.82, 106.98, 107.38, 107.41, 107.4605, 108.18, 106.58, 104.51, 105.01, 107.78, 109.3499, 109.47, 111.6, 111.64, 112.17, 111.29, 109.65, 109.69, 109.31, 108.7598, 107.19, 106.62, 106.47, 106.91, 107.23, 107.82, 108.06, 107.51, 107.84, 108.48, 108.37, 107.27], \"coloraxis\": \"coloraxis\", \"symbol\": \"circle\"}, \"mode\": \"markers\", \"name\": \"\", \"scene\": \"scene\", \"showlegend\": false, \"type\": \"scatter3d\", \"x\": [435053.55, 435053.55, 435053.54057762, 435053.5494120604, 435053.79488080624, 435054.38914471905, 435055.78505257814, 435058.2233865417, 435060.9393552046, 435063.0171485978, 435064.57083034655, 435065.6053765169, 435066.2404366528, 435066.8048171376, 435067.33105095796, 435067.71841434616, 435067.52011841687, 435066.19788010133, 435063.6540758033, 435060.159934287, 435056.3276530553, 435052.59076706704, 435048.7365733552, 435044.65189727844, 435040.2087177601, 435034.59166463563, 435027.35570752155, 435019.02071663376, 435010.4938274131, 435000.931094256, 434989.27529509936, 434975.3482385053, 434966.4976657146, 434959.5481556844, 434939.19805576414, 434925.9342999829, 434913.7897750809, 434903.54622947314, 434894.7343156626, 434886.76963943103, 434879.515268258, 434873.30788149405, 434868.7684749332, 434865.74594153994, 434864.22607325023, 434864.20850214135, 434865.15584392904, 434866.4206998466, 434867.88262427243, 434869.4562596856, 434870.9434088149, 434872.2410029571, 434873.592984094, 434876.7267907568, 434878.1863960351, 434878.717646026, 434882.3158108249, 434886.15448932385, 434891.36275290826, 434899.13679904287, 434909.08853884967, 434920.1148963469, 434929.33768834354, 434943.015435646, 434959.75281370827, 434978.66919105424, 434999.300578448, 435021.5189355395, 435045.1614271907, 435069.5391763279, 435095.52255474, 435122.7706620515, 435152.1414548871, 435183.1923179576, 435215.45645313174, 435249.0742867725, 435283.67472696, 435319.0804441023, 435355.2010097015, 435428.09268035786, 435466.315489049, 435504.64425394975, 435542.7977950097, 435578.79828015866, 435615.7874661252, 435653.46664500725, 435690.6316715828, 435728.85228674463, 435766.1390425945, 435803.9934254289, 435840.43997665495, 435872.5949536817, 435910.2485332763, 435944.9679265329, 435979.80718149396, 436015.2951496968, 436051.9506285463, 436088.094728524, 436124.28306320345, 436161.0063350776, 436172.58025782654, 436198.56290525023, 436235.71472349955, 436273.84060317173, 436311.4716370316, 436348.6992971194, 436387.1230192634, 436424.0564863056, 436461.77246331185, 436499.44732943224, 436537.4910890553, 436575.5052166848, 436613.3727586118, 436637.13916685205], \"y\": [6478560.36, 6478560.36, 6478560.357242919, 6478560.163823224, 6478559.883456462, 6478559.366027841, 6478558.376380455, 6478556.616660709, 6478554.062040673, 6478551.009293675, 6478547.173719358, 6478542.430064531, 6478537.277227344, 6478531.616620143, 6478525.518149395, 6478519.129192029, 6478512.286175082, 6478504.672333844, 6478496.11249603, 6478486.714403889, 6478477.40627245, 6478468.284396253, 6478458.21422485, 6478447.519465214, 6478437.15818623, 6478426.896290353, 6478417.138996364, 6478408.958008446, 6478402.174721222, 6478395.497589173, 6478388.550776902, 6478381.184658652, 6478376.862792776, 6478373.97362435, 6478369.521635756, 6478369.423793641, 6478370.824758613, 6478373.960792897, 6478379.435967757, 6478386.797765917, 6478395.4777848935, 6478406.21352262, 6478418.8328588065, 6478433.588715045, 6478450.093058012, 6478468.141746152, 6478487.382686432, 6478507.591623959, 6478527.715622817, 6478547.777782013, 6478567.921293332, 6478587.986583319, 6478607.894454568, 6478647.846589969, 6478668.041313036, 6478676.290295833, 6478708.067605843, 6478727.516124081, 6478746.227313038, 6478765.89637347, 6478783.922004797, 6478800.123891722, 6478812.459578638, 6478828.7812788915, 6478846.348027113, 6478864.617605804, 6478883.537740051, 6478903.72765222, 6478925.668638278, 6478948.712013124, 6478972.497526941, 6478994.974477735, 6479015.889086141, 6479034.583226215, 6479050.266202313, 6479063.049716608, 6479073.2458803775, 6479080.498786781, 6479084.681030478, 6479087.834479218, 6479087.043716783, 6479083.787694504, 6479077.548887765, 6479068.290863793, 6479056.855408927, 6479045.050995584, 6479033.379002565, 6479021.092304273, 6479009.420629771, 6478998.882849435, 6478989.282797357, 6478979.831584267, 6478967.185191087, 6478954.951786732, 6478941.8956641415, 6478927.830509245, 6478913.089478132, 6478898.684044517, 6478885.175553254, 6478872.048347661, 6478867.949826619, 6478858.986017209, 6478846.932804444, 6478835.345603392, 6478824.166633646, 6478813.005298544, 6478801.207014582, 6478789.543065699, 6478777.332009509, 6478765.246313355, 6478753.122790532, 6478740.65313866, 6478728.037930162, 6478720.397304005], \"z\": [0.0, 145.9, 153.4, 234.1996, 274.5978, 314.9898, 355.2515, 395.5379, 435.7648, 473.8855, 514.0722, 556.0917, 596.1565, 636.0526, 675.9861, 715.7744, 755.5888, 795.2401, 834.6384, 873.6698, 912.7946, 951.9730000000001, 990.8016, 1029.6498, 1068.3402, 1107.0064, 1145.4276, 1184.0976, 1222.8962, 1261.6754, 1299.6163, 1336.8104, 1359.6786, 1378.6367, 1434.5561, 1472.8184, 1511.9483, 1550.4757, 1589.2055, 1628.7432, 1667.7319, 1706.2774, 1743.6369, 1781.3326, 1818.2798, 1854.8658, 1890.2587, 1925.2179999999998, 1959.8719, 1994.4411, 2029.4335, 2064.5854, 2099.4836, 2169.5299, 2204.8360000000002, 2219.2315, 2274.8929, 2309.2867, 2342.988, 2379.7278, 2415.1747, 2448.8909, 2475.4474, 2509.1798, 2542.0881, 2573.1415, 2602.1203, 2628.991, 2653.63, 2675.402, 2694.9595, 2713.0686, 2731.4966, 2749.9944, 2768.1064, 2786.0448, 2803.9985, 2821.3413, 2837.4979, 2868.281, 2883.6186, 2898.0736, 2911.6863, 2923.0943, 2934.2767, 2944.9194, 2953.5448, 2961.3524, 2968.9265, 2978.6778, 2991.4315, 3005.3557, 3023.0878, 3039.489, 3055.2231, 3069.325, 3081.3325, 3091.8277, 3102.2114, 3111.9567, 3114.7834, 3120.6257, 3128.2681, 3136.0463, 3143.7232, 3151.8177, 3161.3045, 3170.0012, 3177.7825, 3185.9439, 3193.8139, 3200.1182, 3205.6993, 3209.7608]}],\n",
              "                        {\"coloraxis\": {\"colorbar\": {\"title\": {\"text\": \"azi\"}}, \"colorscale\": [[0.0, \"#0d0887\"], [0.1111111111111111, \"#46039f\"], [0.2222222222222222, \"#7201a8\"], [0.3333333333333333, \"#9c179e\"], [0.4444444444444444, \"#bd3786\"], [0.5555555555555556, \"#d8576b\"], [0.6666666666666666, \"#ed7953\"], [0.7777777777777778, \"#fb9f3a\"], [0.8888888888888888, \"#fdca26\"], [1.0, \"#f0f921\"]]}, \"legend\": {\"tracegroupgap\": 0}, \"margin\": {\"t\": 60}, \"scene\": {\"domain\": {\"x\": [0.0, 1.0], \"y\": [0.0, 1.0]}, \"xaxis\": {\"title\": {\"text\": \"x\"}}, \"yaxis\": {\"title\": {\"text\": \"y\"}}, \"zaxis\": {\"autorange\": \"reversed\", \"title\": {\"text\": \"z\"}}}, \"template\": {\"data\": {\"bar\": [{\"error_x\": {\"color\": \"#2a3f5f\"}, \"error_y\": {\"color\": \"#2a3f5f\"}, \"marker\": {\"line\": {\"color\": \"#E5ECF6\", \"width\": 0.5}}, \"type\": \"bar\"}], \"barpolar\": [{\"marker\": {\"line\": {\"color\": \"#E5ECF6\", \"width\": 0.5}}, \"type\": \"barpolar\"}], \"carpet\": [{\"aaxis\": {\"endlinecolor\": \"#2a3f5f\", \"gridcolor\": \"white\", \"linecolor\": \"white\", \"minorgridcolor\": \"white\", \"startlinecolor\": \"#2a3f5f\"}, \"baxis\": {\"endlinecolor\": \"#2a3f5f\", \"gridcolor\": \"white\", \"linecolor\": \"white\", \"minorgridcolor\": \"white\", \"startlinecolor\": \"#2a3f5f\"}, \"type\": \"carpet\"}], \"choropleth\": [{\"colorbar\": {\"outlinewidth\": 0, \"ticks\": \"\"}, \"type\": \"choropleth\"}], \"contour\": [{\"colorbar\": {\"outlinewidth\": 0, \"ticks\": \"\"}, \"colorscale\": [[0.0, \"#0d0887\"], [0.1111111111111111, \"#46039f\"], [0.2222222222222222, \"#7201a8\"], [0.3333333333333333, \"#9c179e\"], [0.4444444444444444, \"#bd3786\"], [0.5555555555555556, \"#d8576b\"], [0.6666666666666666, \"#ed7953\"], [0.7777777777777778, \"#fb9f3a\"], [0.8888888888888888, \"#fdca26\"], [1.0, \"#f0f921\"]], \"type\": \"contour\"}], \"contourcarpet\": [{\"colorbar\": {\"outlinewidth\": 0, \"ticks\": \"\"}, \"type\": \"contourcarpet\"}], \"heatmap\": [{\"colorbar\": {\"outlinewidth\": 0, \"ticks\": \"\"}, \"colorscale\": [[0.0, \"#0d0887\"], [0.1111111111111111, \"#46039f\"], [0.2222222222222222, \"#7201a8\"], [0.3333333333333333, \"#9c179e\"], [0.4444444444444444, \"#bd3786\"], [0.5555555555555556, \"#d8576b\"], [0.6666666666666666, \"#ed7953\"], [0.7777777777777778, \"#fb9f3a\"], [0.8888888888888888, \"#fdca26\"], [1.0, \"#f0f921\"]], \"type\": \"heatmap\"}], \"heatmapgl\": [{\"colorbar\": {\"outlinewidth\": 0, \"ticks\": \"\"}, \"colorscale\": [[0.0, \"#0d0887\"], [0.1111111111111111, \"#46039f\"], [0.2222222222222222, \"#7201a8\"], [0.3333333333333333, \"#9c179e\"], [0.4444444444444444, \"#bd3786\"], [0.5555555555555556, \"#d8576b\"], [0.6666666666666666, \"#ed7953\"], [0.7777777777777778, \"#fb9f3a\"], [0.8888888888888888, \"#fdca26\"], [1.0, \"#f0f921\"]], \"type\": \"heatmapgl\"}], \"histogram\": [{\"marker\": {\"colorbar\": {\"outlinewidth\": 0, \"ticks\": \"\"}}, \"type\": \"histogram\"}], \"histogram2d\": [{\"colorbar\": {\"outlinewidth\": 0, \"ticks\": \"\"}, \"colorscale\": [[0.0, \"#0d0887\"], [0.1111111111111111, \"#46039f\"], [0.2222222222222222, \"#7201a8\"], [0.3333333333333333, \"#9c179e\"], [0.4444444444444444, \"#bd3786\"], [0.5555555555555556, \"#d8576b\"], [0.6666666666666666, \"#ed7953\"], [0.7777777777777778, \"#fb9f3a\"], [0.8888888888888888, \"#fdca26\"], [1.0, \"#f0f921\"]], \"type\": \"histogram2d\"}], \"histogram2dcontour\": [{\"colorbar\": {\"outlinewidth\": 0, \"ticks\": \"\"}, \"colorscale\": [[0.0, \"#0d0887\"], [0.1111111111111111, \"#46039f\"], [0.2222222222222222, \"#7201a8\"], [0.3333333333333333, \"#9c179e\"], [0.4444444444444444, \"#bd3786\"], [0.5555555555555556, \"#d8576b\"], [0.6666666666666666, \"#ed7953\"], [0.7777777777777778, \"#fb9f3a\"], [0.8888888888888888, \"#fdca26\"], [1.0, \"#f0f921\"]], \"type\": \"histogram2dcontour\"}], \"mesh3d\": [{\"colorbar\": {\"outlinewidth\": 0, \"ticks\": \"\"}, \"type\": \"mesh3d\"}], \"parcoords\": [{\"line\": {\"colorbar\": {\"outlinewidth\": 0, \"ticks\": \"\"}}, \"type\": \"parcoords\"}], \"pie\": [{\"automargin\": true, \"type\": \"pie\"}], \"scatter\": [{\"marker\": {\"colorbar\": {\"outlinewidth\": 0, \"ticks\": \"\"}}, \"type\": \"scatter\"}], \"scatter3d\": [{\"line\": {\"colorbar\": {\"outlinewidth\": 0, \"ticks\": \"\"}}, \"marker\": {\"colorbar\": {\"outlinewidth\": 0, \"ticks\": \"\"}}, \"type\": \"scatter3d\"}], \"scattercarpet\": [{\"marker\": {\"colorbar\": {\"outlinewidth\": 0, \"ticks\": \"\"}}, \"type\": \"scattercarpet\"}], \"scattergeo\": [{\"marker\": {\"colorbar\": {\"outlinewidth\": 0, \"ticks\": \"\"}}, \"type\": \"scattergeo\"}], \"scattergl\": [{\"marker\": {\"colorbar\": {\"outlinewidth\": 0, \"ticks\": \"\"}}, \"type\": \"scattergl\"}], \"scattermapbox\": [{\"marker\": {\"colorbar\": {\"outlinewidth\": 0, \"ticks\": \"\"}}, \"type\": \"scattermapbox\"}], \"scatterpolar\": [{\"marker\": {\"colorbar\": {\"outlinewidth\": 0, \"ticks\": \"\"}}, \"type\": \"scatterpolar\"}], \"scatterpolargl\": [{\"marker\": {\"colorbar\": {\"outlinewidth\": 0, \"ticks\": \"\"}}, \"type\": \"scatterpolargl\"}], \"scatterternary\": [{\"marker\": {\"colorbar\": {\"outlinewidth\": 0, \"ticks\": \"\"}}, \"type\": \"scatterternary\"}], \"surface\": [{\"colorbar\": {\"outlinewidth\": 0, \"ticks\": \"\"}, \"colorscale\": [[0.0, \"#0d0887\"], [0.1111111111111111, \"#46039f\"], [0.2222222222222222, \"#7201a8\"], [0.3333333333333333, \"#9c179e\"], [0.4444444444444444, \"#bd3786\"], [0.5555555555555556, \"#d8576b\"], [0.6666666666666666, \"#ed7953\"], [0.7777777777777778, \"#fb9f3a\"], [0.8888888888888888, \"#fdca26\"], [1.0, \"#f0f921\"]], \"type\": \"surface\"}], \"table\": [{\"cells\": {\"fill\": {\"color\": \"#EBF0F8\"}, \"line\": {\"color\": \"white\"}}, \"header\": {\"fill\": {\"color\": \"#C8D4E3\"}, \"line\": {\"color\": \"white\"}}, \"type\": \"table\"}]}, \"layout\": {\"annotationdefaults\": {\"arrowcolor\": \"#2a3f5f\", \"arrowhead\": 0, \"arrowwidth\": 1}, \"coloraxis\": {\"colorbar\": {\"outlinewidth\": 0, \"ticks\": \"\"}}, \"colorscale\": {\"diverging\": [[0, \"#8e0152\"], [0.1, \"#c51b7d\"], [0.2, \"#de77ae\"], [0.3, \"#f1b6da\"], [0.4, \"#fde0ef\"], [0.5, \"#f7f7f7\"], [0.6, \"#e6f5d0\"], [0.7, \"#b8e186\"], [0.8, \"#7fbc41\"], [0.9, \"#4d9221\"], [1, \"#276419\"]], \"sequential\": [[0.0, \"#0d0887\"], [0.1111111111111111, \"#46039f\"], [0.2222222222222222, \"#7201a8\"], [0.3333333333333333, \"#9c179e\"], [0.4444444444444444, \"#bd3786\"], [0.5555555555555556, \"#d8576b\"], [0.6666666666666666, \"#ed7953\"], [0.7777777777777778, \"#fb9f3a\"], [0.8888888888888888, \"#fdca26\"], [1.0, \"#f0f921\"]], \"sequentialminus\": [[0.0, \"#0d0887\"], [0.1111111111111111, \"#46039f\"], [0.2222222222222222, \"#7201a8\"], [0.3333333333333333, \"#9c179e\"], [0.4444444444444444, \"#bd3786\"], [0.5555555555555556, \"#d8576b\"], [0.6666666666666666, \"#ed7953\"], [0.7777777777777778, \"#fb9f3a\"], [0.8888888888888888, \"#fdca26\"], [1.0, \"#f0f921\"]]}, \"colorway\": [\"#636efa\", \"#EF553B\", \"#00cc96\", \"#ab63fa\", \"#FFA15A\", \"#19d3f3\", \"#FF6692\", \"#B6E880\", \"#FF97FF\", \"#FECB52\"], \"font\": {\"color\": \"#2a3f5f\"}, \"geo\": {\"bgcolor\": \"white\", \"lakecolor\": \"white\", \"landcolor\": \"#E5ECF6\", \"showlakes\": true, \"showland\": true, \"subunitcolor\": \"white\"}, \"hoverlabel\": {\"align\": \"left\"}, \"hovermode\": \"closest\", \"mapbox\": {\"style\": \"light\"}, \"paper_bgcolor\": \"white\", \"plot_bgcolor\": \"#E5ECF6\", \"polar\": {\"angularaxis\": {\"gridcolor\": \"white\", \"linecolor\": \"white\", \"ticks\": \"\"}, \"bgcolor\": \"#E5ECF6\", \"radialaxis\": {\"gridcolor\": \"white\", \"linecolor\": \"white\", \"ticks\": \"\"}}, \"scene\": {\"xaxis\": {\"backgroundcolor\": \"#E5ECF6\", \"gridcolor\": \"white\", \"gridwidth\": 2, \"linecolor\": \"white\", \"showbackground\": true, \"ticks\": \"\", \"zerolinecolor\": \"white\"}, \"yaxis\": {\"backgroundcolor\": \"#E5ECF6\", \"gridcolor\": \"white\", \"gridwidth\": 2, \"linecolor\": \"white\", \"showbackground\": true, \"ticks\": \"\", \"zerolinecolor\": \"white\"}, \"zaxis\": {\"backgroundcolor\": \"#E5ECF6\", \"gridcolor\": \"white\", \"gridwidth\": 2, \"linecolor\": \"white\", \"showbackground\": true, \"ticks\": \"\", \"zerolinecolor\": \"white\"}}, \"shapedefaults\": {\"line\": {\"color\": \"#2a3f5f\"}}, \"ternary\": {\"aaxis\": {\"gridcolor\": \"white\", \"linecolor\": \"white\", \"ticks\": \"\"}, \"baxis\": {\"gridcolor\": \"white\", \"linecolor\": \"white\", \"ticks\": \"\"}, \"bgcolor\": \"#E5ECF6\", \"caxis\": {\"gridcolor\": \"white\", \"linecolor\": \"white\", \"ticks\": \"\"}}, \"title\": {\"x\": 0.05}, \"xaxis\": {\"automargin\": true, \"gridcolor\": \"white\", \"linecolor\": \"white\", \"ticks\": \"\", \"title\": {\"standoff\": 15}, \"zerolinecolor\": \"white\", \"zerolinewidth\": 2}, \"yaxis\": {\"automargin\": true, \"gridcolor\": \"white\", \"linecolor\": \"white\", \"ticks\": \"\", \"title\": {\"standoff\": 15}, \"zerolinecolor\": \"white\", \"zerolinewidth\": 2}}}},\n",
              "                        {\"responsive\": true}\n",
              "                    ).then(function(){\n",
              "                            \n",
              "var gd = document.getElementById('57c7aea7-8119-40b6-9b2b-422ec15c1399');\n",
              "var x = new MutationObserver(function (mutations, observer) {{\n",
              "        var display = window.getComputedStyle(gd).display;\n",
              "        if (!display || display === 'none') {{\n",
              "            console.log([gd, 'removed!']);\n",
              "            Plotly.purge(gd);\n",
              "            observer.disconnect();\n",
              "        }}\n",
              "}});\n",
              "\n",
              "// Listen for the removal of the full notebook cells\n",
              "var notebookContainer = gd.closest('#notebook-container');\n",
              "if (notebookContainer) {{\n",
              "    x.observe(notebookContainer, {childList: true});\n",
              "}}\n",
              "\n",
              "// Listen for the clearing of the current output cell\n",
              "var outputEl = gd.closest('.output');\n",
              "if (outputEl) {{\n",
              "    x.observe(outputEl, {childList: true});\n",
              "}}\n",
              "\n",
              "                        })\n",
              "                };\n",
              "                \n",
              "            </script>\n",
              "        </div>\n",
              "</body>\n",
              "</html>"
            ]
          },
          "metadata": {
            "tags": []
          }
        }
      ]
    },
    {
      "cell_type": "code",
      "metadata": {
        "id": "6qADCv_5SJZw"
      },
      "source": [
        "fracture_path = 'http://bit.ly/fractures-data'\n",
        "frac_df = pd.read_csv(fracture_path)"
      ],
      "execution_count": null,
      "outputs": []
    },
    {
      "cell_type": "code",
      "metadata": {
        "id": "VJhwBq2BUzcK",
        "colab": {
          "base_uri": "https://localhost:8080/",
          "height": 907
        },
        "outputId": "3498fbc3-1731-43ca-e32e-17ffc74ca82d"
      },
      "source": [
        "frac_df"
      ],
      "execution_count": null,
      "outputs": [
        {
          "output_type": "execute_result",
          "data": {
            "text/html": [
              "<div>\n",
              "<style scoped>\n",
              "    .dataframe tbody tr th:only-of-type {\n",
              "        vertical-align: middle;\n",
              "    }\n",
              "\n",
              "    .dataframe tbody tr th {\n",
              "        vertical-align: top;\n",
              "    }\n",
              "\n",
              "    .dataframe thead th {\n",
              "        text-align: right;\n",
              "    }\n",
              "</style>\n",
              "<table border=\"1\" class=\"dataframe\">\n",
              "  <thead>\n",
              "    <tr style=\"text-align: right;\">\n",
              "      <th></th>\n",
              "      <th>depth</th>\n",
              "      <th>strike</th>\n",
              "      <th>dip</th>\n",
              "      <th>dip_direction</th>\n",
              "      <th>aperture</th>\n",
              "    </tr>\n",
              "  </thead>\n",
              "  <tbody>\n",
              "    <tr>\n",
              "      <th>0</th>\n",
              "      <td>5200.824</td>\n",
              "      <td>228.25</td>\n",
              "      <td>76.41</td>\n",
              "      <td>318.25</td>\n",
              "      <td>4.31</td>\n",
              "    </tr>\n",
              "    <tr>\n",
              "      <th>1</th>\n",
              "      <td>5200.965</td>\n",
              "      <td>207.80</td>\n",
              "      <td>86.11</td>\n",
              "      <td>297.80</td>\n",
              "      <td>5.87</td>\n",
              "    </tr>\n",
              "    <tr>\n",
              "      <th>2</th>\n",
              "      <td>5205.068</td>\n",
              "      <td>233.97</td>\n",
              "      <td>84.07</td>\n",
              "      <td>323.97</td>\n",
              "      <td>7.22</td>\n",
              "    </tr>\n",
              "    <tr>\n",
              "      <th>3</th>\n",
              "      <td>5208.820</td>\n",
              "      <td>206.68</td>\n",
              "      <td>82.67</td>\n",
              "      <td>296.68</td>\n",
              "      <td>5.52</td>\n",
              "    </tr>\n",
              "    <tr>\n",
              "      <th>4</th>\n",
              "      <td>5221.970</td>\n",
              "      <td>214.65</td>\n",
              "      <td>77.20</td>\n",
              "      <td>304.65</td>\n",
              "      <td>5.44</td>\n",
              "    </tr>\n",
              "    <tr>\n",
              "      <th>5</th>\n",
              "      <td>5232.421</td>\n",
              "      <td>211.99</td>\n",
              "      <td>79.37</td>\n",
              "      <td>301.99</td>\n",
              "      <td>9.95</td>\n",
              "    </tr>\n",
              "    <tr>\n",
              "      <th>6</th>\n",
              "      <td>5248.538</td>\n",
              "      <td>214.61</td>\n",
              "      <td>79.88</td>\n",
              "      <td>304.61</td>\n",
              "      <td>12.24</td>\n",
              "    </tr>\n",
              "    <tr>\n",
              "      <th>7</th>\n",
              "      <td>5252.678</td>\n",
              "      <td>226.41</td>\n",
              "      <td>84.78</td>\n",
              "      <td>316.41</td>\n",
              "      <td>10.21</td>\n",
              "    </tr>\n",
              "    <tr>\n",
              "      <th>8</th>\n",
              "      <td>5269.203</td>\n",
              "      <td>245.50</td>\n",
              "      <td>80.63</td>\n",
              "      <td>335.50</td>\n",
              "      <td>8.22</td>\n",
              "    </tr>\n",
              "    <tr>\n",
              "      <th>9</th>\n",
              "      <td>5280.625</td>\n",
              "      <td>238.08</td>\n",
              "      <td>81.70</td>\n",
              "      <td>328.08</td>\n",
              "      <td>2.67</td>\n",
              "    </tr>\n",
              "    <tr>\n",
              "      <th>10</th>\n",
              "      <td>5290.003</td>\n",
              "      <td>226.76</td>\n",
              "      <td>83.85</td>\n",
              "      <td>316.76</td>\n",
              "      <td>5.28</td>\n",
              "    </tr>\n",
              "    <tr>\n",
              "      <th>11</th>\n",
              "      <td>5298.556</td>\n",
              "      <td>212.76</td>\n",
              "      <td>82.34</td>\n",
              "      <td>302.76</td>\n",
              "      <td>2.28</td>\n",
              "    </tr>\n",
              "    <tr>\n",
              "      <th>12</th>\n",
              "      <td>5422.927</td>\n",
              "      <td>220.49</td>\n",
              "      <td>75.45</td>\n",
              "      <td>310.49</td>\n",
              "      <td>2.21</td>\n",
              "    </tr>\n",
              "    <tr>\n",
              "      <th>13</th>\n",
              "      <td>5480.591</td>\n",
              "      <td>235.58</td>\n",
              "      <td>78.23</td>\n",
              "      <td>325.58</td>\n",
              "      <td>2.79</td>\n",
              "    </tr>\n",
              "    <tr>\n",
              "      <th>14</th>\n",
              "      <td>5486.787</td>\n",
              "      <td>203.03</td>\n",
              "      <td>80.78</td>\n",
              "      <td>293.03</td>\n",
              "      <td>1.92</td>\n",
              "    </tr>\n",
              "    <tr>\n",
              "      <th>15</th>\n",
              "      <td>5541.466</td>\n",
              "      <td>228.51</td>\n",
              "      <td>78.70</td>\n",
              "      <td>318.51</td>\n",
              "      <td>0.25</td>\n",
              "    </tr>\n",
              "    <tr>\n",
              "      <th>16</th>\n",
              "      <td>5629.328</td>\n",
              "      <td>190.00</td>\n",
              "      <td>82.13</td>\n",
              "      <td>280.00</td>\n",
              "      <td>0.79</td>\n",
              "    </tr>\n",
              "    <tr>\n",
              "      <th>17</th>\n",
              "      <td>5654.138</td>\n",
              "      <td>162.75</td>\n",
              "      <td>18.04</td>\n",
              "      <td>252.75</td>\n",
              "      <td>9.69</td>\n",
              "    </tr>\n",
              "    <tr>\n",
              "      <th>18</th>\n",
              "      <td>5691.056</td>\n",
              "      <td>7.48</td>\n",
              "      <td>15.89</td>\n",
              "      <td>97.48</td>\n",
              "      <td>9.44</td>\n",
              "    </tr>\n",
              "    <tr>\n",
              "      <th>19</th>\n",
              "      <td>5715.484</td>\n",
              "      <td>162.80</td>\n",
              "      <td>7.92</td>\n",
              "      <td>252.80</td>\n",
              "      <td>2.69</td>\n",
              "    </tr>\n",
              "    <tr>\n",
              "      <th>20</th>\n",
              "      <td>5857.440</td>\n",
              "      <td>224.46</td>\n",
              "      <td>85.04</td>\n",
              "      <td>314.46</td>\n",
              "      <td>1.15</td>\n",
              "    </tr>\n",
              "    <tr>\n",
              "      <th>21</th>\n",
              "      <td>5878.717</td>\n",
              "      <td>219.11</td>\n",
              "      <td>86.63</td>\n",
              "      <td>309.11</td>\n",
              "      <td>3.08</td>\n",
              "    </tr>\n",
              "    <tr>\n",
              "      <th>22</th>\n",
              "      <td>6000.143</td>\n",
              "      <td>5.74</td>\n",
              "      <td>11.19</td>\n",
              "      <td>95.74</td>\n",
              "      <td>11.29</td>\n",
              "    </tr>\n",
              "    <tr>\n",
              "      <th>23</th>\n",
              "      <td>6020.270</td>\n",
              "      <td>0.37</td>\n",
              "      <td>40.44</td>\n",
              "      <td>90.37</td>\n",
              "      <td>11.04</td>\n",
              "    </tr>\n",
              "    <tr>\n",
              "      <th>24</th>\n",
              "      <td>6114.419</td>\n",
              "      <td>201.54</td>\n",
              "      <td>56.87</td>\n",
              "      <td>291.54</td>\n",
              "      <td>5.53</td>\n",
              "    </tr>\n",
              "    <tr>\n",
              "      <th>25</th>\n",
              "      <td>6142.558</td>\n",
              "      <td>208.40</td>\n",
              "      <td>59.07</td>\n",
              "      <td>298.40</td>\n",
              "      <td>4.22</td>\n",
              "    </tr>\n",
              "    <tr>\n",
              "      <th>26</th>\n",
              "      <td>6154.562</td>\n",
              "      <td>200.38</td>\n",
              "      <td>56.88</td>\n",
              "      <td>290.38</td>\n",
              "      <td>0.25</td>\n",
              "    </tr>\n",
              "    <tr>\n",
              "      <th>27</th>\n",
              "      <td>6164.197</td>\n",
              "      <td>351.60</td>\n",
              "      <td>5.34</td>\n",
              "      <td>81.60</td>\n",
              "      <td>16.72</td>\n",
              "    </tr>\n",
              "  </tbody>\n",
              "</table>\n",
              "</div>"
            ],
            "text/plain": [
              "       depth  strike    dip  dip_direction  aperture\n",
              "0   5200.824  228.25  76.41         318.25      4.31\n",
              "1   5200.965  207.80  86.11         297.80      5.87\n",
              "2   5205.068  233.97  84.07         323.97      7.22\n",
              "3   5208.820  206.68  82.67         296.68      5.52\n",
              "4   5221.970  214.65  77.20         304.65      5.44\n",
              "5   5232.421  211.99  79.37         301.99      9.95\n",
              "6   5248.538  214.61  79.88         304.61     12.24\n",
              "7   5252.678  226.41  84.78         316.41     10.21\n",
              "8   5269.203  245.50  80.63         335.50      8.22\n",
              "9   5280.625  238.08  81.70         328.08      2.67\n",
              "10  5290.003  226.76  83.85         316.76      5.28\n",
              "11  5298.556  212.76  82.34         302.76      2.28\n",
              "12  5422.927  220.49  75.45         310.49      2.21\n",
              "13  5480.591  235.58  78.23         325.58      2.79\n",
              "14  5486.787  203.03  80.78         293.03      1.92\n",
              "15  5541.466  228.51  78.70         318.51      0.25\n",
              "16  5629.328  190.00  82.13         280.00      0.79\n",
              "17  5654.138  162.75  18.04         252.75      9.69\n",
              "18  5691.056    7.48  15.89          97.48      9.44\n",
              "19  5715.484  162.80   7.92         252.80      2.69\n",
              "20  5857.440  224.46  85.04         314.46      1.15\n",
              "21  5878.717  219.11  86.63         309.11      3.08\n",
              "22  6000.143    5.74  11.19          95.74     11.29\n",
              "23  6020.270    0.37  40.44          90.37     11.04\n",
              "24  6114.419  201.54  56.87         291.54      5.53\n",
              "25  6142.558  208.40  59.07         298.40      4.22\n",
              "26  6154.562  200.38  56.88         290.38      0.25\n",
              "27  6164.197  351.60   5.34          81.60     16.72"
            ]
          },
          "metadata": {
            "tags": []
          },
          "execution_count": 134
        }
      ]
    },
    {
      "cell_type": "code",
      "metadata": {
        "id": "NAMakGbvU2aU",
        "colab": {
          "base_uri": "https://localhost:8080/",
          "height": 183
        },
        "outputId": "e0bcbdc8-9492-4364-89b4-fdb839c9e6d4"
      },
      "source": [
        "strike = frac['strike'].values\n",
        "dip = frac['dip'].values"
      ],
      "execution_count": null,
      "outputs": [
        {
          "output_type": "error",
          "ename": "TypeError",
          "evalue": "ignored",
          "traceback": [
            "\u001b[0;31m---------------------------------------------------------------------------\u001b[0m",
            "\u001b[0;31mTypeError\u001b[0m                                 Traceback (most recent call last)",
            "\u001b[0;32m<ipython-input-135-42ce7c5a92d4>\u001b[0m in \u001b[0;36m<module>\u001b[0;34m()\u001b[0m\n\u001b[0;32m----> 1\u001b[0;31m \u001b[0mstrike\u001b[0m \u001b[0;34m=\u001b[0m \u001b[0mfrac\u001b[0m\u001b[0;34m[\u001b[0m\u001b[0;34m'strike'\u001b[0m\u001b[0;34m]\u001b[0m\u001b[0;34m.\u001b[0m\u001b[0mvalues\u001b[0m\u001b[0;34m\u001b[0m\u001b[0;34m\u001b[0m\u001b[0m\n\u001b[0m\u001b[1;32m      2\u001b[0m \u001b[0mdip\u001b[0m \u001b[0;34m=\u001b[0m \u001b[0mfrac\u001b[0m\u001b[0;34m[\u001b[0m\u001b[0;34m'dip'\u001b[0m\u001b[0;34m]\u001b[0m\u001b[0;34m.\u001b[0m\u001b[0mvalues\u001b[0m\u001b[0;34m\u001b[0m\u001b[0;34m\u001b[0m\u001b[0m\n",
            "\u001b[0;31mTypeError\u001b[0m: 'module' object is not subscriptable"
          ]
        }
      ]
    },
    {
      "cell_type": "code",
      "metadata": {
        "id": "d5C8uMwzVgzC"
      },
      "source": [
        "frac.stereonet(strike, dip)"
      ],
      "execution_count": null,
      "outputs": []
    },
    {
      "cell_type": "code",
      "metadata": {
        "id": "024a7tzSV6WY"
      },
      "source": [
        "frac.rose(strike)"
      ],
      "execution_count": null,
      "outputs": []
    },
    {
      "cell_type": "code",
      "metadata": {
        "id": "zcgZDLS4XzeY"
      },
      "source": [
        ""
      ],
      "execution_count": null,
      "outputs": []
    },
    {
      "cell_type": "markdown",
      "metadata": {
        "id": "tTUmlQKxGZ0U"
      },
      "source": [
        "# Final session , Decline curve\n",
        "\n",
        "\n",
        "\n",
        "\n"
      ]
    },
    {
      "cell_type": "code",
      "metadata": {
        "id": "LF2KGGRyGh44"
      },
      "source": [
        "path = 'http://bit.ly/piopetro-data1'"
      ],
      "execution_count": null,
      "outputs": []
    },
    {
      "cell_type": "code",
      "metadata": {
        "id": "Hx1jUKyzI4Xf"
      },
      "source": [
        "!wget https://raw.githubusercontent.com/yohanesnuwara/pyreservoir/master/dca/dca.py"
      ],
      "execution_count": null,
      "outputs": []
    },
    {
      "cell_type": "code",
      "metadata": {
        "id": "yAkOZ4fXI509"
      },
      "source": [
        "import numpy as np\n",
        "import pandas as pd"
      ],
      "execution_count": null,
      "outputs": []
    },
    {
      "cell_type": "code",
      "metadata": {
        "id": "HQZwocN9Mzag"
      },
      "source": [
        "import matplotlib.pyplot as plt"
      ],
      "execution_count": null,
      "outputs": []
    },
    {
      "cell_type": "code",
      "metadata": {
        "id": "gsKbzBanM7Uq"
      },
      "source": [
        "from dca import arps_fit , remove_outlier"
      ],
      "execution_count": null,
      "outputs": []
    },
    {
      "cell_type": "code",
      "metadata": {
        "id": "N_2NCK0bNJga"
      },
      "source": [
        "df = pd.read_csv(path)"
      ],
      "execution_count": null,
      "outputs": []
    },
    {
      "cell_type": "code",
      "metadata": {
        "id": "Tc2kFw-fNTqM"
      },
      "source": [
        "df"
      ],
      "execution_count": null,
      "outputs": []
    },
    {
      "cell_type": "code",
      "metadata": {
        "id": "VhveNP3uNWBL"
      },
      "source": [
        "df['DAREPRD'] = pd.to_datetime(df[\"DATEPRD\"], format = '%d-%b-y%')"
      ],
      "execution_count": null,
      "outputs": []
    },
    {
      "cell_type": "code",
      "metadata": {
        "id": "-QNLB4WDOYQC"
      },
      "source": [
        "df "
      ],
      "execution_count": null,
      "outputs": []
    },
    {
      "cell_type": "code",
      "metadata": {
        "id": "s5nyCd1VOc3J"
      },
      "source": [
        ""
      ],
      "execution_count": null,
      "outputs": []
    },
    {
      "cell_type": "code",
      "metadata": {
        "id": "5lIhq8LtiCdN"
      },
      "source": [
        "!wget https://raw.githubusercontent.com/yohanesnuwara/pyreservoir/master/dca/dca.py"
      ],
      "execution_count": null,
      "outputs": []
    },
    {
      "cell_type": "code",
      "metadata": {
        "id": "2RWa5Hw1ipSS"
      },
      "source": [
        "path = 'http://bit.ly/piopetro-data1'"
      ],
      "execution_count": null,
      "outputs": []
    },
    {
      "cell_type": "code",
      "metadata": {
        "id": "yv-CZXPXi7lI"
      },
      "source": [
        "import numpy as np"
      ],
      "execution_count": null,
      "outputs": []
    },
    {
      "cell_type": "code",
      "metadata": {
        "id": "BsX1SvlljiLm"
      },
      "source": [
        "import pandas as pd"
      ],
      "execution_count": null,
      "outputs": []
    },
    {
      "cell_type": "code",
      "metadata": {
        "id": "ACQfFQyCjwZt"
      },
      "source": [
        "import matplotlib.pyplot as plt"
      ],
      "execution_count": null,
      "outputs": []
    },
    {
      "cell_type": "code",
      "metadata": {
        "id": "3-lWseOXj1lO",
        "colab": {
          "base_uri": "https://localhost:8080/",
          "height": 305
        },
        "outputId": "4983090e-ee94-4a4a-9839-01839632e49d"
      },
      "source": [
        "from dca import arps_fit , remove_outlier"
      ],
      "execution_count": null,
      "outputs": [
        {
          "output_type": "error",
          "ename": "ModuleNotFoundError",
          "evalue": "ignored",
          "traceback": [
            "\u001b[0;31m---------------------------------------------------------------------------\u001b[0m",
            "\u001b[0;31mModuleNotFoundError\u001b[0m                       Traceback (most recent call last)",
            "\u001b[0;32m<ipython-input-120-05df5d5328ec>\u001b[0m in \u001b[0;36m<module>\u001b[0;34m()\u001b[0m\n\u001b[0;32m----> 1\u001b[0;31m \u001b[0;32mfrom\u001b[0m \u001b[0mdca\u001b[0m \u001b[0;32mimport\u001b[0m \u001b[0marps_fit\u001b[0m \u001b[0;34m,\u001b[0m \u001b[0mremove_outlier\u001b[0m\u001b[0;34m\u001b[0m\u001b[0;34m\u001b[0m\u001b[0m\n\u001b[0m",
            "\u001b[0;31mModuleNotFoundError\u001b[0m: No module named 'dca'",
            "",
            "\u001b[0;31m---------------------------------------------------------------------------\u001b[0;32m\nNOTE: If your import is failing due to a missing package, you can\nmanually install dependencies using either !pip or !apt.\n\nTo view examples of installing some common dependencies, click the\n\"Open Examples\" button below.\n\u001b[0;31m---------------------------------------------------------------------------\u001b[0m\n"
          ]
        }
      ]
    },
    {
      "cell_type": "code",
      "metadata": {
        "id": "Ihn6UMwRkDRq"
      },
      "source": [
        "df = pd.read_csv(path)"
      ],
      "execution_count": null,
      "outputs": []
    },
    {
      "cell_type": "code",
      "metadata": {
        "colab": {
          "base_uri": "https://localhost:8080/",
          "height": 609
        },
        "id": "fHAFIlIGkLxn",
        "outputId": "2ca53a59-9c55-4424-932c-291c995698b6"
      },
      "source": [
        "df"
      ],
      "execution_count": null,
      "outputs": [
        {
          "output_type": "execute_result",
          "data": {
            "text/html": [
              "<div>\n",
              "<style scoped>\n",
              "    .dataframe tbody tr th:only-of-type {\n",
              "        vertical-align: middle;\n",
              "    }\n",
              "\n",
              "    .dataframe tbody tr th {\n",
              "        vertical-align: top;\n",
              "    }\n",
              "\n",
              "    .dataframe thead th {\n",
              "        text-align: right;\n",
              "    }\n",
              "</style>\n",
              "<table border=\"1\" class=\"dataframe\">\n",
              "  <thead>\n",
              "    <tr style=\"text-align: right;\">\n",
              "      <th></th>\n",
              "      <th>DATEPRD</th>\n",
              "      <th>NPD_WELL_BORE_NAME</th>\n",
              "      <th>ON_STREAM_HRS</th>\n",
              "      <th>AVG_DOWNHOLE_PRESSURE</th>\n",
              "      <th>AVG_DOWNHOLE_TEMPERATURE</th>\n",
              "      <th>AVG_DP_TUBING</th>\n",
              "      <th>AVG_ANNULUS_PRESS</th>\n",
              "      <th>AVG_CHOKE_SIZE_P</th>\n",
              "      <th>AVG_WHP_P</th>\n",
              "      <th>AVG_WHT_P</th>\n",
              "      <th>DP_CHOKE_SIZE</th>\n",
              "      <th>BORE_OIL_VOL</th>\n",
              "      <th>BORE_GAS_VOL</th>\n",
              "      <th>BORE_WAT_VOL</th>\n",
              "      <th>BORE_WI_VOL</th>\n",
              "      <th>FLOW_KIND</th>\n",
              "    </tr>\n",
              "  </thead>\n",
              "  <tbody>\n",
              "    <tr>\n",
              "      <th>0</th>\n",
              "      <td>07-Apr-14</td>\n",
              "      <td>15/9-F-1 C</td>\n",
              "      <td>0.0</td>\n",
              "      <td>0.000</td>\n",
              "      <td>0.000</td>\n",
              "      <td>0.000</td>\n",
              "      <td>0.000</td>\n",
              "      <td>0.00000</td>\n",
              "      <td>0.000</td>\n",
              "      <td>0.000</td>\n",
              "      <td>0.000</td>\n",
              "      <td>0.0</td>\n",
              "      <td>0.0</td>\n",
              "      <td>0.0</td>\n",
              "      <td>NaN</td>\n",
              "      <td>production</td>\n",
              "    </tr>\n",
              "    <tr>\n",
              "      <th>1</th>\n",
              "      <td>08-Apr-14</td>\n",
              "      <td>15/9-F-1 C</td>\n",
              "      <td>0.0</td>\n",
              "      <td>NaN</td>\n",
              "      <td>NaN</td>\n",
              "      <td>NaN</td>\n",
              "      <td>0.000</td>\n",
              "      <td>1.00306</td>\n",
              "      <td>0.000</td>\n",
              "      <td>0.000</td>\n",
              "      <td>0.000</td>\n",
              "      <td>0.0</td>\n",
              "      <td>0.0</td>\n",
              "      <td>0.0</td>\n",
              "      <td>NaN</td>\n",
              "      <td>production</td>\n",
              "    </tr>\n",
              "    <tr>\n",
              "      <th>2</th>\n",
              "      <td>09-Apr-14</td>\n",
              "      <td>15/9-F-1 C</td>\n",
              "      <td>0.0</td>\n",
              "      <td>NaN</td>\n",
              "      <td>NaN</td>\n",
              "      <td>NaN</td>\n",
              "      <td>0.000</td>\n",
              "      <td>0.97901</td>\n",
              "      <td>0.000</td>\n",
              "      <td>0.000</td>\n",
              "      <td>0.000</td>\n",
              "      <td>0.0</td>\n",
              "      <td>0.0</td>\n",
              "      <td>0.0</td>\n",
              "      <td>NaN</td>\n",
              "      <td>production</td>\n",
              "    </tr>\n",
              "    <tr>\n",
              "      <th>3</th>\n",
              "      <td>10-Apr-14</td>\n",
              "      <td>15/9-F-1 C</td>\n",
              "      <td>0.0</td>\n",
              "      <td>NaN</td>\n",
              "      <td>NaN</td>\n",
              "      <td>NaN</td>\n",
              "      <td>0.000</td>\n",
              "      <td>0.54576</td>\n",
              "      <td>0.000</td>\n",
              "      <td>0.000</td>\n",
              "      <td>0.000</td>\n",
              "      <td>0.0</td>\n",
              "      <td>0.0</td>\n",
              "      <td>0.0</td>\n",
              "      <td>NaN</td>\n",
              "      <td>production</td>\n",
              "    </tr>\n",
              "    <tr>\n",
              "      <th>4</th>\n",
              "      <td>11-Apr-14</td>\n",
              "      <td>15/9-F-1 C</td>\n",
              "      <td>0.0</td>\n",
              "      <td>310.376</td>\n",
              "      <td>96.876</td>\n",
              "      <td>277.278</td>\n",
              "      <td>0.000</td>\n",
              "      <td>1.21599</td>\n",
              "      <td>33.098</td>\n",
              "      <td>10.480</td>\n",
              "      <td>33.072</td>\n",
              "      <td>0.0</td>\n",
              "      <td>0.0</td>\n",
              "      <td>0.0</td>\n",
              "      <td>NaN</td>\n",
              "      <td>production</td>\n",
              "    </tr>\n",
              "    <tr>\n",
              "      <th>...</th>\n",
              "      <td>...</td>\n",
              "      <td>...</td>\n",
              "      <td>...</td>\n",
              "      <td>...</td>\n",
              "      <td>...</td>\n",
              "      <td>...</td>\n",
              "      <td>...</td>\n",
              "      <td>...</td>\n",
              "      <td>...</td>\n",
              "      <td>...</td>\n",
              "      <td>...</td>\n",
              "      <td>...</td>\n",
              "      <td>...</td>\n",
              "      <td>...</td>\n",
              "      <td>...</td>\n",
              "      <td>...</td>\n",
              "    </tr>\n",
              "    <tr>\n",
              "      <th>15629</th>\n",
              "      <td>14-Sep-16</td>\n",
              "      <td>15/9-F-5</td>\n",
              "      <td>0.0</td>\n",
              "      <td>NaN</td>\n",
              "      <td>NaN</td>\n",
              "      <td>NaN</td>\n",
              "      <td>0.273</td>\n",
              "      <td>0.63609</td>\n",
              "      <td>0.078</td>\n",
              "      <td>0.229</td>\n",
              "      <td>0.019</td>\n",
              "      <td>0.0</td>\n",
              "      <td>0.0</td>\n",
              "      <td>0.0</td>\n",
              "      <td>NaN</td>\n",
              "      <td>production</td>\n",
              "    </tr>\n",
              "    <tr>\n",
              "      <th>15630</th>\n",
              "      <td>15-Sep-16</td>\n",
              "      <td>15/9-F-5</td>\n",
              "      <td>0.0</td>\n",
              "      <td>NaN</td>\n",
              "      <td>NaN</td>\n",
              "      <td>NaN</td>\n",
              "      <td>0.287</td>\n",
              "      <td>0.67079</td>\n",
              "      <td>0.085</td>\n",
              "      <td>0.229</td>\n",
              "      <td>0.006</td>\n",
              "      <td>0.0</td>\n",
              "      <td>0.0</td>\n",
              "      <td>0.0</td>\n",
              "      <td>NaN</td>\n",
              "      <td>production</td>\n",
              "    </tr>\n",
              "    <tr>\n",
              "      <th>15631</th>\n",
              "      <td>16-Sep-16</td>\n",
              "      <td>15/9-F-5</td>\n",
              "      <td>0.0</td>\n",
              "      <td>NaN</td>\n",
              "      <td>NaN</td>\n",
              "      <td>NaN</td>\n",
              "      <td>0.286</td>\n",
              "      <td>0.66439</td>\n",
              "      <td>0.085</td>\n",
              "      <td>0.229</td>\n",
              "      <td>0.012</td>\n",
              "      <td>0.0</td>\n",
              "      <td>0.0</td>\n",
              "      <td>0.0</td>\n",
              "      <td>NaN</td>\n",
              "      <td>production</td>\n",
              "    </tr>\n",
              "    <tr>\n",
              "      <th>15632</th>\n",
              "      <td>17-Sep-16</td>\n",
              "      <td>15/9-F-5</td>\n",
              "      <td>0.0</td>\n",
              "      <td>NaN</td>\n",
              "      <td>NaN</td>\n",
              "      <td>NaN</td>\n",
              "      <td>0.272</td>\n",
              "      <td>0.62466</td>\n",
              "      <td>0.075</td>\n",
              "      <td>0.228</td>\n",
              "      <td>0.026</td>\n",
              "      <td>0.0</td>\n",
              "      <td>0.0</td>\n",
              "      <td>0.0</td>\n",
              "      <td>NaN</td>\n",
              "      <td>production</td>\n",
              "    </tr>\n",
              "    <tr>\n",
              "      <th>15633</th>\n",
              "      <td>18-Sep-16</td>\n",
              "      <td>15/9-F-5</td>\n",
              "      <td>0.0</td>\n",
              "      <td>NaN</td>\n",
              "      <td>NaN</td>\n",
              "      <td>NaN</td>\n",
              "      <td>NaN</td>\n",
              "      <td>NaN</td>\n",
              "      <td>NaN</td>\n",
              "      <td>NaN</td>\n",
              "      <td>0.000</td>\n",
              "      <td>NaN</td>\n",
              "      <td>NaN</td>\n",
              "      <td>NaN</td>\n",
              "      <td>0.0</td>\n",
              "      <td>injection</td>\n",
              "    </tr>\n",
              "  </tbody>\n",
              "</table>\n",
              "<p>15634 rows × 16 columns</p>\n",
              "</div>"
            ],
            "text/plain": [
              "         DATEPRD NPD_WELL_BORE_NAME  ...  BORE_WI_VOL   FLOW_KIND\n",
              "0      07-Apr-14         15/9-F-1 C  ...          NaN  production\n",
              "1      08-Apr-14         15/9-F-1 C  ...          NaN  production\n",
              "2      09-Apr-14         15/9-F-1 C  ...          NaN  production\n",
              "3      10-Apr-14         15/9-F-1 C  ...          NaN  production\n",
              "4      11-Apr-14         15/9-F-1 C  ...          NaN  production\n",
              "...          ...                ...  ...          ...         ...\n",
              "15629  14-Sep-16           15/9-F-5  ...          NaN  production\n",
              "15630  15-Sep-16           15/9-F-5  ...          NaN  production\n",
              "15631  16-Sep-16           15/9-F-5  ...          NaN  production\n",
              "15632  17-Sep-16           15/9-F-5  ...          NaN  production\n",
              "15633  18-Sep-16           15/9-F-5  ...          0.0   injection\n",
              "\n",
              "[15634 rows x 16 columns]"
            ]
          },
          "metadata": {
            "tags": []
          },
          "execution_count": 122
        }
      ]
    },
    {
      "cell_type": "code",
      "metadata": {
        "colab": {
          "base_uri": "https://localhost:8080/",
          "height": 549
        },
        "id": "9CLdm6_3kMiF",
        "outputId": "6cf25825-6ffa-483a-b9dd-038ea36f1204"
      },
      "source": [
        "df.head(10)"
      ],
      "execution_count": null,
      "outputs": [
        {
          "output_type": "execute_result",
          "data": {
            "text/html": [
              "<div>\n",
              "<style scoped>\n",
              "    .dataframe tbody tr th:only-of-type {\n",
              "        vertical-align: middle;\n",
              "    }\n",
              "\n",
              "    .dataframe tbody tr th {\n",
              "        vertical-align: top;\n",
              "    }\n",
              "\n",
              "    .dataframe thead th {\n",
              "        text-align: right;\n",
              "    }\n",
              "</style>\n",
              "<table border=\"1\" class=\"dataframe\">\n",
              "  <thead>\n",
              "    <tr style=\"text-align: right;\">\n",
              "      <th></th>\n",
              "      <th>DATEPRD</th>\n",
              "      <th>NPD_WELL_BORE_NAME</th>\n",
              "      <th>ON_STREAM_HRS</th>\n",
              "      <th>AVG_DOWNHOLE_PRESSURE</th>\n",
              "      <th>AVG_DOWNHOLE_TEMPERATURE</th>\n",
              "      <th>AVG_DP_TUBING</th>\n",
              "      <th>AVG_ANNULUS_PRESS</th>\n",
              "      <th>AVG_CHOKE_SIZE_P</th>\n",
              "      <th>AVG_WHP_P</th>\n",
              "      <th>AVG_WHT_P</th>\n",
              "      <th>DP_CHOKE_SIZE</th>\n",
              "      <th>BORE_OIL_VOL</th>\n",
              "      <th>BORE_GAS_VOL</th>\n",
              "      <th>BORE_WAT_VOL</th>\n",
              "      <th>BORE_WI_VOL</th>\n",
              "      <th>FLOW_KIND</th>\n",
              "    </tr>\n",
              "  </thead>\n",
              "  <tbody>\n",
              "    <tr>\n",
              "      <th>0</th>\n",
              "      <td>07-Apr-14</td>\n",
              "      <td>15/9-F-1 C</td>\n",
              "      <td>0.0</td>\n",
              "      <td>0.000</td>\n",
              "      <td>0.000</td>\n",
              "      <td>0.000</td>\n",
              "      <td>0.0</td>\n",
              "      <td>0.00000</td>\n",
              "      <td>0.000</td>\n",
              "      <td>0.000</td>\n",
              "      <td>0.000</td>\n",
              "      <td>0.0</td>\n",
              "      <td>0.0</td>\n",
              "      <td>0.0</td>\n",
              "      <td>NaN</td>\n",
              "      <td>production</td>\n",
              "    </tr>\n",
              "    <tr>\n",
              "      <th>1</th>\n",
              "      <td>08-Apr-14</td>\n",
              "      <td>15/9-F-1 C</td>\n",
              "      <td>0.0</td>\n",
              "      <td>NaN</td>\n",
              "      <td>NaN</td>\n",
              "      <td>NaN</td>\n",
              "      <td>0.0</td>\n",
              "      <td>1.00306</td>\n",
              "      <td>0.000</td>\n",
              "      <td>0.000</td>\n",
              "      <td>0.000</td>\n",
              "      <td>0.0</td>\n",
              "      <td>0.0</td>\n",
              "      <td>0.0</td>\n",
              "      <td>NaN</td>\n",
              "      <td>production</td>\n",
              "    </tr>\n",
              "    <tr>\n",
              "      <th>2</th>\n",
              "      <td>09-Apr-14</td>\n",
              "      <td>15/9-F-1 C</td>\n",
              "      <td>0.0</td>\n",
              "      <td>NaN</td>\n",
              "      <td>NaN</td>\n",
              "      <td>NaN</td>\n",
              "      <td>0.0</td>\n",
              "      <td>0.97901</td>\n",
              "      <td>0.000</td>\n",
              "      <td>0.000</td>\n",
              "      <td>0.000</td>\n",
              "      <td>0.0</td>\n",
              "      <td>0.0</td>\n",
              "      <td>0.0</td>\n",
              "      <td>NaN</td>\n",
              "      <td>production</td>\n",
              "    </tr>\n",
              "    <tr>\n",
              "      <th>3</th>\n",
              "      <td>10-Apr-14</td>\n",
              "      <td>15/9-F-1 C</td>\n",
              "      <td>0.0</td>\n",
              "      <td>NaN</td>\n",
              "      <td>NaN</td>\n",
              "      <td>NaN</td>\n",
              "      <td>0.0</td>\n",
              "      <td>0.54576</td>\n",
              "      <td>0.000</td>\n",
              "      <td>0.000</td>\n",
              "      <td>0.000</td>\n",
              "      <td>0.0</td>\n",
              "      <td>0.0</td>\n",
              "      <td>0.0</td>\n",
              "      <td>NaN</td>\n",
              "      <td>production</td>\n",
              "    </tr>\n",
              "    <tr>\n",
              "      <th>4</th>\n",
              "      <td>11-Apr-14</td>\n",
              "      <td>15/9-F-1 C</td>\n",
              "      <td>0.0</td>\n",
              "      <td>310.376</td>\n",
              "      <td>96.876</td>\n",
              "      <td>277.278</td>\n",
              "      <td>0.0</td>\n",
              "      <td>1.21599</td>\n",
              "      <td>33.098</td>\n",
              "      <td>10.480</td>\n",
              "      <td>33.072</td>\n",
              "      <td>0.0</td>\n",
              "      <td>0.0</td>\n",
              "      <td>0.0</td>\n",
              "      <td>NaN</td>\n",
              "      <td>production</td>\n",
              "    </tr>\n",
              "    <tr>\n",
              "      <th>5</th>\n",
              "      <td>12-Apr-14</td>\n",
              "      <td>15/9-F-1 C</td>\n",
              "      <td>0.0</td>\n",
              "      <td>303.501</td>\n",
              "      <td>96.923</td>\n",
              "      <td>281.447</td>\n",
              "      <td>0.0</td>\n",
              "      <td>3.08702</td>\n",
              "      <td>22.053</td>\n",
              "      <td>8.704</td>\n",
              "      <td>22.053</td>\n",
              "      <td>0.0</td>\n",
              "      <td>0.0</td>\n",
              "      <td>0.0</td>\n",
              "      <td>NaN</td>\n",
              "      <td>production</td>\n",
              "    </tr>\n",
              "    <tr>\n",
              "      <th>6</th>\n",
              "      <td>13-Apr-14</td>\n",
              "      <td>15/9-F-1 C</td>\n",
              "      <td>0.0</td>\n",
              "      <td>303.535</td>\n",
              "      <td>96.959</td>\n",
              "      <td>276.032</td>\n",
              "      <td>0.0</td>\n",
              "      <td>1.96237</td>\n",
              "      <td>27.503</td>\n",
              "      <td>9.423</td>\n",
              "      <td>16.163</td>\n",
              "      <td>0.0</td>\n",
              "      <td>0.0</td>\n",
              "      <td>0.0</td>\n",
              "      <td>NaN</td>\n",
              "      <td>production</td>\n",
              "    </tr>\n",
              "    <tr>\n",
              "      <th>7</th>\n",
              "      <td>14-Apr-14</td>\n",
              "      <td>15/9-F-1 C</td>\n",
              "      <td>0.0</td>\n",
              "      <td>303.782</td>\n",
              "      <td>96.969</td>\n",
              "      <td>282.787</td>\n",
              "      <td>0.0</td>\n",
              "      <td>0.00000</td>\n",
              "      <td>20.996</td>\n",
              "      <td>8.131</td>\n",
              "      <td>20.737</td>\n",
              "      <td>0.0</td>\n",
              "      <td>0.0</td>\n",
              "      <td>0.0</td>\n",
              "      <td>NaN</td>\n",
              "      <td>production</td>\n",
              "    </tr>\n",
              "    <tr>\n",
              "      <th>8</th>\n",
              "      <td>15-Apr-14</td>\n",
              "      <td>15/9-F-1 C</td>\n",
              "      <td>0.0</td>\n",
              "      <td>303.858</td>\n",
              "      <td>97.021</td>\n",
              "      <td>289.941</td>\n",
              "      <td>0.0</td>\n",
              "      <td>31.14186</td>\n",
              "      <td>13.918</td>\n",
              "      <td>8.498</td>\n",
              "      <td>12.182</td>\n",
              "      <td>0.0</td>\n",
              "      <td>0.0</td>\n",
              "      <td>0.0</td>\n",
              "      <td>NaN</td>\n",
              "      <td>production</td>\n",
              "    </tr>\n",
              "    <tr>\n",
              "      <th>9</th>\n",
              "      <td>16-Apr-14</td>\n",
              "      <td>15/9-F-1 C</td>\n",
              "      <td>0.0</td>\n",
              "      <td>303.792</td>\n",
              "      <td>97.066</td>\n",
              "      <td>299.672</td>\n",
              "      <td>0.0</td>\n",
              "      <td>0.00000</td>\n",
              "      <td>4.120</td>\n",
              "      <td>8.821</td>\n",
              "      <td>1.490</td>\n",
              "      <td>0.0</td>\n",
              "      <td>0.0</td>\n",
              "      <td>0.0</td>\n",
              "      <td>NaN</td>\n",
              "      <td>production</td>\n",
              "    </tr>\n",
              "  </tbody>\n",
              "</table>\n",
              "</div>"
            ],
            "text/plain": [
              "     DATEPRD NPD_WELL_BORE_NAME  ...  BORE_WI_VOL   FLOW_KIND\n",
              "0  07-Apr-14         15/9-F-1 C  ...          NaN  production\n",
              "1  08-Apr-14         15/9-F-1 C  ...          NaN  production\n",
              "2  09-Apr-14         15/9-F-1 C  ...          NaN  production\n",
              "3  10-Apr-14         15/9-F-1 C  ...          NaN  production\n",
              "4  11-Apr-14         15/9-F-1 C  ...          NaN  production\n",
              "5  12-Apr-14         15/9-F-1 C  ...          NaN  production\n",
              "6  13-Apr-14         15/9-F-1 C  ...          NaN  production\n",
              "7  14-Apr-14         15/9-F-1 C  ...          NaN  production\n",
              "8  15-Apr-14         15/9-F-1 C  ...          NaN  production\n",
              "9  16-Apr-14         15/9-F-1 C  ...          NaN  production\n",
              "\n",
              "[10 rows x 16 columns]"
            ]
          },
          "metadata": {
            "tags": []
          },
          "execution_count": 123
        }
      ]
    },
    {
      "cell_type": "code",
      "metadata": {
        "id": "oRCgF9lOkSv5"
      },
      "source": [
        "df['DATEPRD']= pd.to_datetime(df['DATEPRD'], format = \"%d-%b-%y\")"
      ],
      "execution_count": null,
      "outputs": []
    },
    {
      "cell_type": "code",
      "metadata": {
        "colab": {
          "base_uri": "https://localhost:8080/",
          "height": 609
        },
        "id": "oDKvJgWErDcX",
        "outputId": "ba7712c7-871d-46c2-dbe1-fada288e1f2b"
      },
      "source": [
        "df"
      ],
      "execution_count": null,
      "outputs": [
        {
          "output_type": "execute_result",
          "data": {
            "text/html": [
              "<div>\n",
              "<style scoped>\n",
              "    .dataframe tbody tr th:only-of-type {\n",
              "        vertical-align: middle;\n",
              "    }\n",
              "\n",
              "    .dataframe tbody tr th {\n",
              "        vertical-align: top;\n",
              "    }\n",
              "\n",
              "    .dataframe thead th {\n",
              "        text-align: right;\n",
              "    }\n",
              "</style>\n",
              "<table border=\"1\" class=\"dataframe\">\n",
              "  <thead>\n",
              "    <tr style=\"text-align: right;\">\n",
              "      <th></th>\n",
              "      <th>DATEPRD</th>\n",
              "      <th>NPD_WELL_BORE_NAME</th>\n",
              "      <th>ON_STREAM_HRS</th>\n",
              "      <th>AVG_DOWNHOLE_PRESSURE</th>\n",
              "      <th>AVG_DOWNHOLE_TEMPERATURE</th>\n",
              "      <th>AVG_DP_TUBING</th>\n",
              "      <th>AVG_ANNULUS_PRESS</th>\n",
              "      <th>AVG_CHOKE_SIZE_P</th>\n",
              "      <th>AVG_WHP_P</th>\n",
              "      <th>AVG_WHT_P</th>\n",
              "      <th>DP_CHOKE_SIZE</th>\n",
              "      <th>BORE_OIL_VOL</th>\n",
              "      <th>BORE_GAS_VOL</th>\n",
              "      <th>BORE_WAT_VOL</th>\n",
              "      <th>BORE_WI_VOL</th>\n",
              "      <th>FLOW_KIND</th>\n",
              "    </tr>\n",
              "  </thead>\n",
              "  <tbody>\n",
              "    <tr>\n",
              "      <th>0</th>\n",
              "      <td>2014-04-07</td>\n",
              "      <td>15/9-F-1 C</td>\n",
              "      <td>0.0</td>\n",
              "      <td>0.000</td>\n",
              "      <td>0.000</td>\n",
              "      <td>0.000</td>\n",
              "      <td>0.000</td>\n",
              "      <td>0.00000</td>\n",
              "      <td>0.000</td>\n",
              "      <td>0.000</td>\n",
              "      <td>0.000</td>\n",
              "      <td>0.0</td>\n",
              "      <td>0.0</td>\n",
              "      <td>0.0</td>\n",
              "      <td>NaN</td>\n",
              "      <td>production</td>\n",
              "    </tr>\n",
              "    <tr>\n",
              "      <th>1</th>\n",
              "      <td>2014-04-08</td>\n",
              "      <td>15/9-F-1 C</td>\n",
              "      <td>0.0</td>\n",
              "      <td>NaN</td>\n",
              "      <td>NaN</td>\n",
              "      <td>NaN</td>\n",
              "      <td>0.000</td>\n",
              "      <td>1.00306</td>\n",
              "      <td>0.000</td>\n",
              "      <td>0.000</td>\n",
              "      <td>0.000</td>\n",
              "      <td>0.0</td>\n",
              "      <td>0.0</td>\n",
              "      <td>0.0</td>\n",
              "      <td>NaN</td>\n",
              "      <td>production</td>\n",
              "    </tr>\n",
              "    <tr>\n",
              "      <th>2</th>\n",
              "      <td>2014-04-09</td>\n",
              "      <td>15/9-F-1 C</td>\n",
              "      <td>0.0</td>\n",
              "      <td>NaN</td>\n",
              "      <td>NaN</td>\n",
              "      <td>NaN</td>\n",
              "      <td>0.000</td>\n",
              "      <td>0.97901</td>\n",
              "      <td>0.000</td>\n",
              "      <td>0.000</td>\n",
              "      <td>0.000</td>\n",
              "      <td>0.0</td>\n",
              "      <td>0.0</td>\n",
              "      <td>0.0</td>\n",
              "      <td>NaN</td>\n",
              "      <td>production</td>\n",
              "    </tr>\n",
              "    <tr>\n",
              "      <th>3</th>\n",
              "      <td>2014-04-10</td>\n",
              "      <td>15/9-F-1 C</td>\n",
              "      <td>0.0</td>\n",
              "      <td>NaN</td>\n",
              "      <td>NaN</td>\n",
              "      <td>NaN</td>\n",
              "      <td>0.000</td>\n",
              "      <td>0.54576</td>\n",
              "      <td>0.000</td>\n",
              "      <td>0.000</td>\n",
              "      <td>0.000</td>\n",
              "      <td>0.0</td>\n",
              "      <td>0.0</td>\n",
              "      <td>0.0</td>\n",
              "      <td>NaN</td>\n",
              "      <td>production</td>\n",
              "    </tr>\n",
              "    <tr>\n",
              "      <th>4</th>\n",
              "      <td>2014-04-11</td>\n",
              "      <td>15/9-F-1 C</td>\n",
              "      <td>0.0</td>\n",
              "      <td>310.376</td>\n",
              "      <td>96.876</td>\n",
              "      <td>277.278</td>\n",
              "      <td>0.000</td>\n",
              "      <td>1.21599</td>\n",
              "      <td>33.098</td>\n",
              "      <td>10.480</td>\n",
              "      <td>33.072</td>\n",
              "      <td>0.0</td>\n",
              "      <td>0.0</td>\n",
              "      <td>0.0</td>\n",
              "      <td>NaN</td>\n",
              "      <td>production</td>\n",
              "    </tr>\n",
              "    <tr>\n",
              "      <th>...</th>\n",
              "      <td>...</td>\n",
              "      <td>...</td>\n",
              "      <td>...</td>\n",
              "      <td>...</td>\n",
              "      <td>...</td>\n",
              "      <td>...</td>\n",
              "      <td>...</td>\n",
              "      <td>...</td>\n",
              "      <td>...</td>\n",
              "      <td>...</td>\n",
              "      <td>...</td>\n",
              "      <td>...</td>\n",
              "      <td>...</td>\n",
              "      <td>...</td>\n",
              "      <td>...</td>\n",
              "      <td>...</td>\n",
              "    </tr>\n",
              "    <tr>\n",
              "      <th>15629</th>\n",
              "      <td>2016-09-14</td>\n",
              "      <td>15/9-F-5</td>\n",
              "      <td>0.0</td>\n",
              "      <td>NaN</td>\n",
              "      <td>NaN</td>\n",
              "      <td>NaN</td>\n",
              "      <td>0.273</td>\n",
              "      <td>0.63609</td>\n",
              "      <td>0.078</td>\n",
              "      <td>0.229</td>\n",
              "      <td>0.019</td>\n",
              "      <td>0.0</td>\n",
              "      <td>0.0</td>\n",
              "      <td>0.0</td>\n",
              "      <td>NaN</td>\n",
              "      <td>production</td>\n",
              "    </tr>\n",
              "    <tr>\n",
              "      <th>15630</th>\n",
              "      <td>2016-09-15</td>\n",
              "      <td>15/9-F-5</td>\n",
              "      <td>0.0</td>\n",
              "      <td>NaN</td>\n",
              "      <td>NaN</td>\n",
              "      <td>NaN</td>\n",
              "      <td>0.287</td>\n",
              "      <td>0.67079</td>\n",
              "      <td>0.085</td>\n",
              "      <td>0.229</td>\n",
              "      <td>0.006</td>\n",
              "      <td>0.0</td>\n",
              "      <td>0.0</td>\n",
              "      <td>0.0</td>\n",
              "      <td>NaN</td>\n",
              "      <td>production</td>\n",
              "    </tr>\n",
              "    <tr>\n",
              "      <th>15631</th>\n",
              "      <td>2016-09-16</td>\n",
              "      <td>15/9-F-5</td>\n",
              "      <td>0.0</td>\n",
              "      <td>NaN</td>\n",
              "      <td>NaN</td>\n",
              "      <td>NaN</td>\n",
              "      <td>0.286</td>\n",
              "      <td>0.66439</td>\n",
              "      <td>0.085</td>\n",
              "      <td>0.229</td>\n",
              "      <td>0.012</td>\n",
              "      <td>0.0</td>\n",
              "      <td>0.0</td>\n",
              "      <td>0.0</td>\n",
              "      <td>NaN</td>\n",
              "      <td>production</td>\n",
              "    </tr>\n",
              "    <tr>\n",
              "      <th>15632</th>\n",
              "      <td>2016-09-17</td>\n",
              "      <td>15/9-F-5</td>\n",
              "      <td>0.0</td>\n",
              "      <td>NaN</td>\n",
              "      <td>NaN</td>\n",
              "      <td>NaN</td>\n",
              "      <td>0.272</td>\n",
              "      <td>0.62466</td>\n",
              "      <td>0.075</td>\n",
              "      <td>0.228</td>\n",
              "      <td>0.026</td>\n",
              "      <td>0.0</td>\n",
              "      <td>0.0</td>\n",
              "      <td>0.0</td>\n",
              "      <td>NaN</td>\n",
              "      <td>production</td>\n",
              "    </tr>\n",
              "    <tr>\n",
              "      <th>15633</th>\n",
              "      <td>2016-09-18</td>\n",
              "      <td>15/9-F-5</td>\n",
              "      <td>0.0</td>\n",
              "      <td>NaN</td>\n",
              "      <td>NaN</td>\n",
              "      <td>NaN</td>\n",
              "      <td>NaN</td>\n",
              "      <td>NaN</td>\n",
              "      <td>NaN</td>\n",
              "      <td>NaN</td>\n",
              "      <td>0.000</td>\n",
              "      <td>NaN</td>\n",
              "      <td>NaN</td>\n",
              "      <td>NaN</td>\n",
              "      <td>0.0</td>\n",
              "      <td>injection</td>\n",
              "    </tr>\n",
              "  </tbody>\n",
              "</table>\n",
              "<p>15634 rows × 16 columns</p>\n",
              "</div>"
            ],
            "text/plain": [
              "         DATEPRD NPD_WELL_BORE_NAME  ...  BORE_WI_VOL   FLOW_KIND\n",
              "0     2014-04-07         15/9-F-1 C  ...          NaN  production\n",
              "1     2014-04-08         15/9-F-1 C  ...          NaN  production\n",
              "2     2014-04-09         15/9-F-1 C  ...          NaN  production\n",
              "3     2014-04-10         15/9-F-1 C  ...          NaN  production\n",
              "4     2014-04-11         15/9-F-1 C  ...          NaN  production\n",
              "...          ...                ...  ...          ...         ...\n",
              "15629 2016-09-14           15/9-F-5  ...          NaN  production\n",
              "15630 2016-09-15           15/9-F-5  ...          NaN  production\n",
              "15631 2016-09-16           15/9-F-5  ...          NaN  production\n",
              "15632 2016-09-17           15/9-F-5  ...          NaN  production\n",
              "15633 2016-09-18           15/9-F-5  ...          0.0   injection\n",
              "\n",
              "[15634 rows x 16 columns]"
            ]
          },
          "metadata": {
            "tags": []
          },
          "execution_count": 125
        }
      ]
    },
    {
      "cell_type": "code",
      "metadata": {
        "colab": {
          "base_uri": "https://localhost:8080/",
          "height": 213
        },
        "id": "SQqTjpeZrE36",
        "outputId": "3b605e58-85be-4987-bd88-2cbf9181f05b"
      },
      "source": [
        "df.head(3)"
      ],
      "execution_count": null,
      "outputs": [
        {
          "output_type": "execute_result",
          "data": {
            "text/html": [
              "<div>\n",
              "<style scoped>\n",
              "    .dataframe tbody tr th:only-of-type {\n",
              "        vertical-align: middle;\n",
              "    }\n",
              "\n",
              "    .dataframe tbody tr th {\n",
              "        vertical-align: top;\n",
              "    }\n",
              "\n",
              "    .dataframe thead th {\n",
              "        text-align: right;\n",
              "    }\n",
              "</style>\n",
              "<table border=\"1\" class=\"dataframe\">\n",
              "  <thead>\n",
              "    <tr style=\"text-align: right;\">\n",
              "      <th></th>\n",
              "      <th>DATEPRD</th>\n",
              "      <th>NPD_WELL_BORE_NAME</th>\n",
              "      <th>ON_STREAM_HRS</th>\n",
              "      <th>AVG_DOWNHOLE_PRESSURE</th>\n",
              "      <th>AVG_DOWNHOLE_TEMPERATURE</th>\n",
              "      <th>AVG_DP_TUBING</th>\n",
              "      <th>AVG_ANNULUS_PRESS</th>\n",
              "      <th>AVG_CHOKE_SIZE_P</th>\n",
              "      <th>AVG_WHP_P</th>\n",
              "      <th>AVG_WHT_P</th>\n",
              "      <th>DP_CHOKE_SIZE</th>\n",
              "      <th>BORE_OIL_VOL</th>\n",
              "      <th>BORE_GAS_VOL</th>\n",
              "      <th>BORE_WAT_VOL</th>\n",
              "      <th>BORE_WI_VOL</th>\n",
              "      <th>FLOW_KIND</th>\n",
              "    </tr>\n",
              "  </thead>\n",
              "  <tbody>\n",
              "    <tr>\n",
              "      <th>0</th>\n",
              "      <td>2014-04-07</td>\n",
              "      <td>15/9-F-1 C</td>\n",
              "      <td>0.0</td>\n",
              "      <td>0.0</td>\n",
              "      <td>0.0</td>\n",
              "      <td>0.0</td>\n",
              "      <td>0.0</td>\n",
              "      <td>0.00000</td>\n",
              "      <td>0.0</td>\n",
              "      <td>0.0</td>\n",
              "      <td>0.0</td>\n",
              "      <td>0.0</td>\n",
              "      <td>0.0</td>\n",
              "      <td>0.0</td>\n",
              "      <td>NaN</td>\n",
              "      <td>production</td>\n",
              "    </tr>\n",
              "    <tr>\n",
              "      <th>1</th>\n",
              "      <td>2014-04-08</td>\n",
              "      <td>15/9-F-1 C</td>\n",
              "      <td>0.0</td>\n",
              "      <td>NaN</td>\n",
              "      <td>NaN</td>\n",
              "      <td>NaN</td>\n",
              "      <td>0.0</td>\n",
              "      <td>1.00306</td>\n",
              "      <td>0.0</td>\n",
              "      <td>0.0</td>\n",
              "      <td>0.0</td>\n",
              "      <td>0.0</td>\n",
              "      <td>0.0</td>\n",
              "      <td>0.0</td>\n",
              "      <td>NaN</td>\n",
              "      <td>production</td>\n",
              "    </tr>\n",
              "    <tr>\n",
              "      <th>2</th>\n",
              "      <td>2014-04-09</td>\n",
              "      <td>15/9-F-1 C</td>\n",
              "      <td>0.0</td>\n",
              "      <td>NaN</td>\n",
              "      <td>NaN</td>\n",
              "      <td>NaN</td>\n",
              "      <td>0.0</td>\n",
              "      <td>0.97901</td>\n",
              "      <td>0.0</td>\n",
              "      <td>0.0</td>\n",
              "      <td>0.0</td>\n",
              "      <td>0.0</td>\n",
              "      <td>0.0</td>\n",
              "      <td>0.0</td>\n",
              "      <td>NaN</td>\n",
              "      <td>production</td>\n",
              "    </tr>\n",
              "  </tbody>\n",
              "</table>\n",
              "</div>"
            ],
            "text/plain": [
              "     DATEPRD NPD_WELL_BORE_NAME  ...  BORE_WI_VOL   FLOW_KIND\n",
              "0 2014-04-07         15/9-F-1 C  ...          NaN  production\n",
              "1 2014-04-08         15/9-F-1 C  ...          NaN  production\n",
              "2 2014-04-09         15/9-F-1 C  ...          NaN  production\n",
              "\n",
              "[3 rows x 16 columns]"
            ]
          },
          "metadata": {
            "tags": []
          },
          "execution_count": 126
        }
      ]
    },
    {
      "cell_type": "code",
      "metadata": {
        "id": "SGzvJ6m1tHON"
      },
      "source": [
        "mask = df['NPD_WELL_BORE_NAME'] == '15/9-F-14'"
      ],
      "execution_count": null,
      "outputs": []
    },
    {
      "cell_type": "code",
      "metadata": {
        "id": "ElQes0yst8ob"
      },
      "source": [
        "df2 = df[mask].reset_index()"
      ],
      "execution_count": null,
      "outputs": []
    },
    {
      "cell_type": "code",
      "metadata": {
        "id": "xRZVaINJvlC0"
      },
      "source": [
        "df2 = df2[['DATEPRD','BORE_OIL_VOL']] "
      ],
      "execution_count": null,
      "outputs": []
    },
    {
      "cell_type": "code",
      "metadata": {
        "colab": {
          "base_uri": "https://localhost:8080/",
          "height": 415
        },
        "id": "SaFqP8f5wKj9",
        "outputId": "4b2baed4-5643-4c78-9d8e-668690763b83"
      },
      "source": [
        "df2"
      ],
      "execution_count": null,
      "outputs": [
        {
          "output_type": "execute_result",
          "data": {
            "text/html": [
              "<div>\n",
              "<style scoped>\n",
              "    .dataframe tbody tr th:only-of-type {\n",
              "        vertical-align: middle;\n",
              "    }\n",
              "\n",
              "    .dataframe tbody tr th {\n",
              "        vertical-align: top;\n",
              "    }\n",
              "\n",
              "    .dataframe thead th {\n",
              "        text-align: right;\n",
              "    }\n",
              "</style>\n",
              "<table border=\"1\" class=\"dataframe\">\n",
              "  <thead>\n",
              "    <tr style=\"text-align: right;\">\n",
              "      <th></th>\n",
              "      <th>DATEPRD</th>\n",
              "      <th>BORE_OIL_VOL</th>\n",
              "    </tr>\n",
              "  </thead>\n",
              "  <tbody>\n",
              "    <tr>\n",
              "      <th>0</th>\n",
              "      <td>2008-02-12</td>\n",
              "      <td>0.0</td>\n",
              "    </tr>\n",
              "    <tr>\n",
              "      <th>1</th>\n",
              "      <td>2008-02-13</td>\n",
              "      <td>0.0</td>\n",
              "    </tr>\n",
              "    <tr>\n",
              "      <th>2</th>\n",
              "      <td>2008-02-14</td>\n",
              "      <td>0.0</td>\n",
              "    </tr>\n",
              "    <tr>\n",
              "      <th>3</th>\n",
              "      <td>2008-02-15</td>\n",
              "      <td>0.0</td>\n",
              "    </tr>\n",
              "    <tr>\n",
              "      <th>4</th>\n",
              "      <td>2008-02-16</td>\n",
              "      <td>0.0</td>\n",
              "    </tr>\n",
              "    <tr>\n",
              "      <th>...</th>\n",
              "      <td>...</td>\n",
              "      <td>...</td>\n",
              "    </tr>\n",
              "    <tr>\n",
              "      <th>3051</th>\n",
              "      <td>2016-09-13</td>\n",
              "      <td>0.0</td>\n",
              "    </tr>\n",
              "    <tr>\n",
              "      <th>3052</th>\n",
              "      <td>2016-09-14</td>\n",
              "      <td>0.0</td>\n",
              "    </tr>\n",
              "    <tr>\n",
              "      <th>3053</th>\n",
              "      <td>2016-09-15</td>\n",
              "      <td>0.0</td>\n",
              "    </tr>\n",
              "    <tr>\n",
              "      <th>3054</th>\n",
              "      <td>2016-09-16</td>\n",
              "      <td>0.0</td>\n",
              "    </tr>\n",
              "    <tr>\n",
              "      <th>3055</th>\n",
              "      <td>2016-09-17</td>\n",
              "      <td>0.0</td>\n",
              "    </tr>\n",
              "  </tbody>\n",
              "</table>\n",
              "<p>3056 rows × 2 columns</p>\n",
              "</div>"
            ],
            "text/plain": [
              "        DATEPRD  BORE_OIL_VOL\n",
              "0    2008-02-12           0.0\n",
              "1    2008-02-13           0.0\n",
              "2    2008-02-14           0.0\n",
              "3    2008-02-15           0.0\n",
              "4    2008-02-16           0.0\n",
              "...         ...           ...\n",
              "3051 2016-09-13           0.0\n",
              "3052 2016-09-14           0.0\n",
              "3053 2016-09-15           0.0\n",
              "3054 2016-09-16           0.0\n",
              "3055 2016-09-17           0.0\n",
              "\n",
              "[3056 rows x 2 columns]"
            ]
          },
          "metadata": {
            "tags": []
          },
          "execution_count": 130
        }
      ]
    },
    {
      "cell_type": "code",
      "metadata": {
        "id": "A_bs5qrOwhs6"
      },
      "source": [
        "#plotting"
      ],
      "execution_count": null,
      "outputs": []
    },
    {
      "cell_type": "code",
      "metadata": {
        "colab": {
          "base_uri": "https://localhost:8080/",
          "height": 388
        },
        "id": "xAwY_bV3wxC1",
        "outputId": "fe16bbe7-5a31-4bc7-d63f-b00c6fd59e0c"
      },
      "source": [
        "plt.figure(figsize = (13,6))\n",
        "plt.step(df2['DATEPRD'], df2['BORE_OIL_VOL'] )\n",
        "plt.ylabel('STB/D'), plt.xlabel('Year')\n",
        "plt.show()\n"
      ],
      "execution_count": null,
      "outputs": [
        {
          "output_type": "display_data",
          "data": {
            "image/png": "[encoded data removed]",
            "text/plain": [
              "<Figure size 936x432 with 1 Axes>"
            ]
          },
          "metadata": {
            "tags": [],
            "needs_background": "light"
          }
        }
      ]
    },
    {
      "cell_type": "code",
      "metadata": {
        "id": "B__zY5JlxPnA",
        "colab": {
          "base_uri": "https://localhost:8080/"
        },
        "outputId": "76f9bfb0-efa4-4eb8-ccfb-194137760e78"
      },
      "source": [
        "!git"
      ],
      "execution_count": 1,
      "outputs": [
        {
          "output_type": "stream",
          "name": "stdout",
          "text": [
            "usage: git [--version] [--help] [-C <path>] [-c <name>=<value>]\n",
            "           [--exec-path[=<path>]] [--html-path] [--man-path] [--info-path]\n",
            "           [-p | --paginate | --no-pager] [--no-replace-objects] [--bare]\n",
            "           [--git-dir=<path>] [--work-tree=<path>] [--namespace=<name>]\n",
            "           <command> [<args>]\n",
            "\n",
            "These are common Git commands used in various situations:\n",
            "\n",
            "start a working area (see also: git help tutorial)\n",
            "   clone      Clone a repository into a new directory\n",
            "   init       Create an empty Git repository or reinitialize an existing one\n",
            "\n",
            "work on the current change (see also: git help everyday)\n",
            "   add        Add file contents to the index\n",
            "   mv         Move or rename a file, a directory, or a symlink\n",
            "   reset      Reset current HEAD to the specified state\n",
            "   rm         Remove files from the working tree and from the index\n",
            "\n",
            "examine the history and state (see also: git help revisions)\n",
            "   bisect     Use binary search to find the commit that introduced a bug\n",
            "   grep       Print lines matching a pattern\n",
            "   log        Show commit logs\n",
            "   show       Show various types of objects\n",
            "   status     Show the working tree status\n",
            "\n",
            "grow, mark and tweak your common history\n",
            "   branch     List, create, or delete branches\n",
            "   checkout   Switch branches or restore working tree files\n",
            "   commit     Record changes to the repository\n",
            "   diff       Show changes between commits, commit and working tree, etc\n",
            "   merge      Join two or more development histories together\n",
            "   rebase     Reapply commits on top of another base tip\n",
            "   tag        Create, list, delete or verify a tag object signed with GPG\n",
            "\n",
            "collaborate (see also: git help workflows)\n",
            "   fetch      Download objects and refs from another repository\n",
            "   pull       Fetch from and integrate with another repository or a local branch\n",
            "   push       Update remote refs along with associated objects\n",
            "\n",
            "'git help -a' and 'git help -g' list available subcommands and some\n",
            "concept guides. See 'git help <command>' or 'git help <concept>'\n",
            "to read about a specific subcommand or concept.\n"
          ]
        }
      ]
    },
    {
      "cell_type": "code",
      "metadata": {
        "id": "u9op0bkBx8Ob",
        "colab": {
          "base_uri": "https://localhost:8080/"
        },
        "outputId": "dda0e743-a2a3-44b3-c0d7-ca4a02d84bca"
      },
      "source": [
        "!git init\n"
      ],
      "execution_count": 3,
      "outputs": [
        {
          "output_type": "stream",
          "name": "stdout",
          "text": [
            "Initialized empty Git repository in /content/.git/\n"
          ]
        }
      ]
    },
    {
      "cell_type": "code",
      "metadata": {
        "colab": {
          "base_uri": "https://localhost:8080/"
        },
        "id": "UUWcLmOB1IUO",
        "outputId": "24554e9d-062c-41bf-eb80-254c7c5947cf"
      },
      "source": [
        "! git commit -m \"first commit\""
      ],
      "execution_count": 4,
      "outputs": [
        {
          "output_type": "stream",
          "name": "stdout",
          "text": [
            "\n",
            "*** Please tell me who you are.\n",
            "\n",
            "Run\n",
            "\n",
            "  git config --global user.email \"you@example.com\"\n",
            "  git config --global user.name \"Your Name\"\n",
            "\n",
            "to set your account's default identity.\n",
            "Omit --global to set the identity only in this repository.\n",
            "\n",
            "fatal: unable to auto-detect email address (got 'root@599f575e8765.(none)')\n"
          ]
        }
      ]
    },
    {
      "cell_type": "code",
      "metadata": {
        "id": "_VZ4M0yV1ObR"
      },
      "source": [
        "!git config --global user.email \"bellabiod.sofiane@gmail.com\"\n",
        "! git config --global user.name \"sofiane\""
      ],
      "execution_count": 6,
      "outputs": []
    },
    {
      "cell_type": "code",
      "metadata": {
        "id": "KFvZZgyu1eN3"
      },
      "source": [
        "!git remote add origin https://github.com/sofiane1987/sofiane1987.git\n"
      ],
      "execution_count": 10,
      "outputs": []
    },
    {
      "cell_type": "code",
      "metadata": {
        "colab": {
          "base_uri": "https://localhost:8080/"
        },
        "id": "DgP3ksb_6qbA",
        "outputId": "6b6267b6-74c6-4285-f9c9-344104c357d7"
      },
      "source": [
        "!git remote -v"
      ],
      "execution_count": 14,
      "outputs": [
        {
          "output_type": "stream",
          "name": "stdout",
          "text": [
            "origin\thttps://github.com/sofiane1987/sofiane1987.git (fetch)\n",
            "origin\thttps://github.com/sofiane1987/sofiane1987.git (push)\n"
          ]
        }
      ]
    },
    {
      "cell_type": "code",
      "metadata": {
        "colab": {
          "base_uri": "https://localhost:8080/"
        },
        "id": "VjpdSmDGA1Qa",
        "outputId": "f989c393-1418-467a-8ffc-b73df14c4e4f"
      },
      "source": [
        "!git status"
      ],
      "execution_count": 15,
      "outputs": [
        {
          "output_type": "stream",
          "name": "stdout",
          "text": [
            "On branch master\n",
            "\n",
            "No commits yet\n",
            "\n",
            "Untracked files:\n",
            "  (use \"git add <file>...\" to include in what will be committed)\n",
            "\n",
            "\t\u001b[31m.config/\u001b[m\n",
            "\t\u001b[31msample_data/\u001b[m\n",
            "\n",
            "nothing added to commit but untracked files present (use \"git add\" to track)\n"
          ]
        }
      ]
    },
    {
      "cell_type": "code",
      "metadata": {
        "id": "IhDUzGkgA_Qj"
      },
      "source": [
        "!git add ."
      ],
      "execution_count": 17,
      "outputs": []
    },
    {
      "cell_type": "code",
      "metadata": {
        "colab": {
          "base_uri": "https://localhost:8080/"
        },
        "id": "o2O7cLwCBIfQ",
        "outputId": "d67f7d02-9a78-41dc-a2c5-e4aebe9b6706"
      },
      "source": [
        "!git commit -m \"again\""
      ],
      "execution_count": 18,
      "outputs": [
        {
          "output_type": "stream",
          "name": "stdout",
          "text": [
            "[master (root-commit) 7a8d1ee] again\n",
            " 19 files changed, 50710 insertions(+)\n",
            " create mode 100644 .config/.last_opt_in_prompt.yaml\n",
            " create mode 100644 .config/.last_survey_prompt.yaml\n",
            " create mode 100644 .config/.last_update_check.json\n",
            " create mode 100644 .config/active_config\n",
            " create mode 100644 .config/config_sentinel\n",
            " create mode 100644 .config/configurations/config_default\n",
            " create mode 100644 .config/gce\n",
            " create mode 100644 .config/logs/2021.11.18/14.34.49.152157.log\n",
            " create mode 100644 .config/logs/2021.11.18/14.35.09.738473.log\n",
            " create mode 100644 .config/logs/2021.11.18/14.35.29.959577.log\n",
            " create mode 100644 .config/logs/2021.11.18/14.35.36.918574.log\n",
            " create mode 100644 .config/logs/2021.11.18/14.35.57.849518.log\n",
            " create mode 100644 .config/logs/2021.11.18/14.35.58.667492.log\n",
            " create mode 100755 sample_data/README.md\n",
            " create mode 100755 sample_data/anscombe.json\n",
            " create mode 100644 sample_data/california_housing_test.csv\n",
            " create mode 100644 sample_data/california_housing_train.csv\n",
            " create mode 100644 sample_data/mnist_test.csv\n",
            " create mode 100644 sample_data/mnist_train_small.csv\n"
          ]
        }
      ]
    },
    {
      "cell_type": "code",
      "metadata": {
        "colab": {
          "base_uri": "https://localhost:8080/"
        },
        "id": "YPBEgmCWBRX0",
        "outputId": "d0b4623d-90f3-4c0f-8234-a1c617a81c69"
      },
      "source": [
        "!git push origin main"
      ],
      "execution_count": 19,
      "outputs": [
        {
          "output_type": "stream",
          "name": "stdout",
          "text": [
            "error: src refspec main does not match any.\n",
            "error: failed to push some refs to 'https://github.com/sofiane1987/sofiane1987.git'\n"
          ]
        }
      ]
    }
  ]
}